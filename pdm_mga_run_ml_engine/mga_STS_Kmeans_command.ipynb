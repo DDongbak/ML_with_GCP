{
 "cells": [
  {
   "cell_type": "code",
   "execution_count": 33,
   "metadata": {
    "collapsed": false
   },
   "outputs": [
    {
     "data": {
      "text/html": [
       "\n",
       "          <script src=\"/static/components/requirejs/require.js\"></script>\n",
       "          <script>\n",
       "            requirejs.config({\n",
       "              paths: {\n",
       "                base: '/static/base',\n",
       "              },\n",
       "            });\n",
       "          </script>\n",
       "          "
      ],
      "text/plain": [
       "<IPython.core.display.HTML object>"
      ]
     },
     "metadata": {},
     "output_type": "display_data"
    },
    {
     "name": "stdout",
     "output_type": "stream",
     "text": [
      "jobId: im5_os_stat_wait_STS_Kmeans_wait_times_v6\n",
      "state: QUEUED\n"
     ]
    },
    {
     "name": "stderr",
     "output_type": "stream",
     "text": [
      "Job [im5_os_stat_wait_STS_Kmeans_wait_times_v6] submitted successfully.\n",
      "Your job is still active. You may view the status of your job with the command\n",
      "\n",
      "  $ gcloud ml-engine jobs describe im5_os_stat_wait_STS_Kmeans_wait_times_v6\n",
      "\n",
      "or continue streaming the logs with the command\n",
      "\n",
      "  $ gcloud ml-engine jobs stream-logs im5_os_stat_wait_STS_Kmeans_wait_times_v6\n"
     ]
    }
   ],
   "source": [
    "%%bash\n",
    "JOB_NAME=\"mga_STS_Kmeans_v1\"\n",
    "OUTPUT_PATH=gs://adam-models/mga_apm_ora/STS_Kmeans/jobs\n",
    "TRAIN_DATA=gs://adam-models/mga_apm_ora/data/joined_180128_15to19.csv\n",
    "REGION=us-central1\n",
    "\n",
    "gcloud ml-engine jobs submit training $JOB_NAME \\\n",
    "    --job-dir $OUTPUT_PATH \\\n",
    "    --runtime-version 1.4 \\\n",
    "    --module-name models.mga_STS_Kmeans \\\n",
    "    --package-path models/ \\\n",
    "    --region $REGION \\\n",
    "    --scale-tier BASIC_GPU \\\n",
    "    -- \\\n",
    "    --train-files $TRAIN_DATA \\\n",
    "    --verbosity DEBUG"
   ]
  },
  {
   "cell_type": "code",
   "execution_count": null,
   "metadata": {
    "collapsed": true
   },
   "outputs": [],
   "source": []
  }
 ],
 "metadata": {
  "kernelspec": {
   "display_name": "Python 2",
   "language": "python",
   "name": "python2"
  },
  "language_info": {
   "codemirror_mode": {
    "name": "ipython",
    "version": 2
   },
   "file_extension": ".py",
   "mimetype": "text/x-python",
   "name": "python",
   "nbconvert_exporter": "python",
   "pygments_lexer": "ipython2",
   "version": "2.7.12"
  }
 },
 "nbformat": 4,
 "nbformat_minor": 2
}
