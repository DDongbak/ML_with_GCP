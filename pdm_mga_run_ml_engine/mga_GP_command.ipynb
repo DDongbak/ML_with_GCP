{
 "cells": [
  {
   "cell_type": "code",
   "execution_count": 7,
   "metadata": {
    "collapsed": false,
    "deletable": true,
    "editable": true
   },
   "outputs": [
    {
     "name": "stdout",
     "output_type": "stream",
     "text": [
      "jobId: mga_GP_v39_RBF_normalized_error_print\n",
      "state: QUEUED\n"
     ]
    },
    {
     "name": "stderr",
     "output_type": "stream",
     "text": [
      "/tools/google-cloud-sdk/lib/googlecloudsdk/core/util/files.py:622: UnicodeWarning: Unicode equal comparison failed to convert both arguments to Unicode - interpreting them as being unequal\n",
      "  for chunk in iter(lambda: fp.read(4096), ''):\n",
      "Job [mga_GP_v39_RBF_normalized_error_print] submitted successfully.\n",
      "Your job is still active. You may view the status of your job with the command\n",
      "\n",
      "  $ gcloud ml-engine jobs describe mga_GP_v39_RBF_normalized_error_print\n",
      "\n",
      "or continue streaming the logs with the command\n",
      "\n",
      "  $ gcloud ml-engine jobs stream-logs mga_GP_v39_RBF_normalized_error_print\n"
     ]
    }
   ],
   "source": [
    "%%bash\n",
    "JOB_NAME=\"mga_GP_v39_RBF_normalized_error_print\"\n",
    "OUTPUT_PATH=gs://adam-models/mga_apm_ora/GP/jobs\n",
    "TRAIN_DATA=gs://adam-models/mga_apm_ora/data/joined_180128_15to19.csv\n",
    "REGION=us-central1\n",
    "\n",
    "gcloud ml-engine jobs submit training $JOB_NAME \\\n",
    "    --job-dir $OUTPUT_PATH \\\n",
    "    --runtime-version 1.4 \\\n",
    "    --module-name models.mga_GP \\\n",
    "    --package-path models/ \\\n",
    "    --region $REGION \\\n",
    "    --scale-tier BASIC_GPU \\\n",
    "    -- \\\n",
    "    --train-files $TRAIN_DATA \\\n",
    "    --verbosity DEBUG"
   ]
  },
  {
   "cell_type": "markdown",
   "metadata": {
    "deletable": true,
    "editable": true
   },
   "source": []
  },
  {
   "cell_type": "markdown",
   "metadata": {
    "deletable": true,
    "editable": true
   },
   "source": [
    "# 요건 병렬처리할때 참고"
   ]
  },
  {
   "cell_type": "code",
   "execution_count": null,
   "metadata": {
    "collapsed": true,
    "deletable": true,
    "editable": true
   },
   "outputs": [],
   "source": [
    "%%bash\n",
    "JOB_NAME=\"mga_GP_v5_downsizing_to_1H\"\n",
    "OUTPUT_PATH=gs://adam-models/mga_apm_ora/GP/jobs\n",
    "TRAIN_DATA=gs://adam-models/mga_apm_ora/data/joined_180128_15to19.csv\n",
    "REGION=us-central1\n",
    "#PACKAGE_PATH=models/\n",
    "#CONFIG=${PACKAGE_PATH}config_GP.yaml\n",
    "\n",
    "gcloud ml-engine jobs submit training $JOB_NAME \\\n",
    "    --job-dir $OUTPUT_PATH \\\n",
    "    --runtime-version 1.4 \\\n",
    "    --module-name models.mga_GP \\\n",
    "    --package-path models/ \\\n",
    "    --region $REGION \\\n",
    "    --scale-tier BASIC_GPU\n",
    "    #--config $CONFIG \\\n",
    "    -- \\\n",
    "    --train-files $TRAIN_DATA \\\n",
    "    --verbosity DEBUG"
   ]
  }
 ],
 "metadata": {
  "kernelspec": {
   "display_name": "Python 2",
   "language": "python",
   "name": "python2"
  },
  "language_info": {
   "codemirror_mode": {
    "name": "ipython",
    "version": 2
   },
   "file_extension": ".py",
   "mimetype": "text/x-python",
   "name": "python",
   "nbconvert_exporter": "python",
   "pygments_lexer": "ipython2",
   "version": "2.7.14"
  }
 },
 "nbformat": 4,
 "nbformat_minor": 2
}
