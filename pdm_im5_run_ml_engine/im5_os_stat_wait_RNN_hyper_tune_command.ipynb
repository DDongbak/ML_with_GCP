{
 "cells": [
  {
   "cell_type": "code",
   "execution_count": 5,
   "metadata": {},
   "outputs": [
    {
     "data": {
      "text/html": [
       "\n",
       "          <script src=\"/static/components/requirejs/require.js\"></script>\n",
       "          <script>\n",
       "            requirejs.config({\n",
       "              paths: {\n",
       "                base: '/static/base',\n",
       "              },\n",
       "            });\n",
       "          </script>\n",
       "          "
      ],
      "text/plain": [
       "<IPython.core.display.HTML object>"
      ]
     },
     "metadata": {},
     "output_type": "display_data"
    },
    {
     "name": "stdout",
     "output_type": "stream",
     "text": [
      "jobId: im5_RNN_data_repreprocessing_v3\n",
      "state: QUEUED\n"
     ]
    },
    {
     "name": "stderr",
     "output_type": "stream",
     "text": [
      "Job [im5_RNN_data_repreprocessing_v3] submitted successfully.\n",
      "Your job is still active. You may view the status of your job with the command\n",
      "\n",
      "  $ gcloud ml-engine jobs describe im5_RNN_data_repreprocessing_v3\n",
      "\n",
      "or continue streaming the logs with the command\n",
      "\n",
      "  $ gcloud ml-engine jobs stream-logs im5_RNN_data_repreprocessing_v3\n"
     ]
    }
   ],
   "source": [
    "%%bash\n",
    "JOB_NAME=\"im5_RNN_data_repreprocessing_v3\"\n",
    "OUTPUT_PATH=gs://model1-ods-im5-os-stat-wait/pdm_im5_os_stat_wait_RNN_checking_train_data\n",
    "TRAIN_DATA=gs://model1-ods-im5-os-stat-wait/data/entire_data_except_time.csv\n",
    "REGION=us-central1\n",
    "PACKAGE_PATH=models/\n",
    "CONFIG=${PACKAGE_PATH}hpconfig.yaml\n",
    "\n",
    "#submit job\n",
    "gcloud ml-engine jobs submit training $JOB_NAME \\\n",
    "    --job-dir $OUTPUT_PATH \\\n",
    "    --runtime-version 1.4 \\\n",
    "    --module-name models.im5_os_stat_wait_RNN_hyper_tune \\\n",
    "    --package-path $PACKAGE_PATH \\\n",
    "    --region $REGION \\\n",
    "    --scale-tier BASIC_GPU \\\n",
    "    --config $CONFIG \\\n",
    "    -- \\\n",
    "    --train-files $TRAIN_DATA \\\n",
    "    --verbosity DEBUG"
   ]
  },
  {
   "cell_type": "code",
   "execution_count": null,
   "metadata": {
    "collapsed": true
   },
   "outputs": [],
   "source": []
  }
 ],
 "metadata": {
  "kernelspec": {
   "display_name": "Python 3",
   "language": "python",
   "name": "python3"
  },
  "language_info": {
   "codemirror_mode": {
    "name": "ipython",
    "version": 3
   },
   "file_extension": ".py",
   "mimetype": "text/x-python",
   "name": "python",
   "nbconvert_exporter": "python",
   "pygments_lexer": "ipython3",
   "version": "3.6.1"
  }
 },
 "nbformat": 4,
 "nbformat_minor": 2
}
