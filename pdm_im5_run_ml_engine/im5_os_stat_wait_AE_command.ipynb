{
 "cells": [
  {
   "cell_type": "code",
   "execution_count": 12,
   "metadata": {
    "collapsed": false
   },
   "outputs": [
    {
     "name": "stdout",
     "output_type": "stream",
     "text": [
      "jobId: im5_os_stat_wait_AE_parameters_fixed_v7\n",
      "state: QUEUED\n"
     ]
    },
    {
     "name": "stderr",
     "output_type": "stream",
     "text": [
      "Job [im5_os_stat_wait_AE_parameters_fixed_v7] submitted successfully.\n",
      "Your job is still active. You may view the status of your job with the command\n",
      "\n",
      "  $ gcloud ml-engine jobs describe im5_os_stat_wait_AE_parameters_fixed_v7\n",
      "\n",
      "or continue streaming the logs with the command\n",
      "\n",
      "  $ gcloud ml-engine jobs stream-logs im5_os_stat_wait_AE_parameters_fixed_v7\n"
     ]
    }
   ],
   "source": [
    "%%bash\n",
    "JOB_NAME=\"im5_os_stat_wait_AE_parameters_fixed_v7\"\n",
    "OUTPUT_PATH=gs://adam-models/im5_os_stat_wait/AE/models\n",
    "TRAIN_DATA=gs://adam-models/im5_os_stat_wait/data/entire_data.csv\n",
    "REGION=us-central1\n",
    "\n",
    "gcloud ml-engine jobs submit training $JOB_NAME \\\n",
    "    --job-dir $OUTPUT_PATH \\\n",
    "    --runtime-version 1.4 \\\n",
    "    --module-name models.im5_os_stat_wait_AE \\\n",
    "    --package-path models/ \\\n",
    "    --region $REGION \\\n",
    "    --scale-tier BASIC_GPU \\\n",
    "    -- \\\n",
    "    --train-files $TRAIN_DATA \\\n",
    "    --verbosity DEBUG"
   ]
  },
  {
   "cell_type": "code",
   "execution_count": null,
   "metadata": {
    "collapsed": true
   },
   "outputs": [],
   "source": []
  }
 ],
 "metadata": {
  "kernelspec": {
   "display_name": "Python 2",
   "language": "python",
   "name": "python2"
  },
  "language_info": {
   "codemirror_mode": {
    "name": "ipython",
    "version": 2
   },
   "file_extension": ".py",
   "mimetype": "text/x-python",
   "name": "python",
   "nbconvert_exporter": "python",
   "pygments_lexer": "ipython2",
   "version": "2.7.12"
  }
 },
 "nbformat": 4,
 "nbformat_minor": 2
}
