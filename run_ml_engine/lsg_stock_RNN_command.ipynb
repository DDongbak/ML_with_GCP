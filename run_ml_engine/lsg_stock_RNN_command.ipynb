{
 "cells": [
  {
   "cell_type": "code",
   "execution_count": 2,
   "metadata": {
    "collapsed": false
   },
   "outputs": [
    {
     "data": {
      "text/html": [
       "\n",
       "          <script src=\"/static/components/requirejs/require.js\"></script>\n",
       "          <script>\n",
       "            requirejs.config({\n",
       "              paths: {\n",
       "                base: '/static/base',\n",
       "              },\n",
       "            });\n",
       "          </script>\n",
       "          "
      ],
      "text/plain": [
       "<IPython.core.display.HTML object>"
      ]
     },
     "metadata": {},
     "output_type": "display_data"
    },
    {
     "name": "stdout",
     "output_type": "stream",
     "text": [
      "/content/datalab/notebooks/run_ml_engine\n"
     ]
    }
   ],
   "source": [
    "%%bash\n",
    "pwd"
   ]
  },
  {
   "cell_type": "markdown",
   "metadata": {},
   "source": [
    "파라미터들을 지정하자."
   ]
  },
  {
   "cell_type": "code",
   "execution_count": 10,
   "metadata": {
    "collapsed": false
   },
   "outputs": [
    {
     "data": {
      "text/html": [
       "\n",
       "          <script src=\"/static/components/requirejs/require.js\"></script>\n",
       "          <script>\n",
       "            requirejs.config({\n",
       "              paths: {\n",
       "                base: '/static/base',\n",
       "              },\n",
       "            });\n",
       "          </script>\n",
       "          "
      ],
      "text/plain": [
       "<IPython.core.display.HTML object>"
      ]
     },
     "metadata": {},
     "output_type": "display_data"
    },
    {
     "name": "stdout",
     "output_type": "stream",
     "text": [
      "gs://choichoi/kyh951019_basic_gpu_datalab\n"
     ]
    }
   ],
   "source": [
    "%%bash\n",
    "JOB_NAME=\"run_BASIC_GPU_indatalab\"\n",
    "OUTPUT_PATH=gs://choichoi/kyh951019_basic_gpu_datalab\n",
    "TRAIN_DATA=gs://choichoi/test/Stock_price.csv\n",
    "REGION=us-central1\n",
    "echo $OUTPUT_PATH"
   ]
  },
  {
   "cell_type": "code",
   "execution_count": 13,
   "metadata": {
    "collapsed": false
   },
   "outputs": [
    {
     "data": {
      "text/html": [
       "\n",
       "          <script src=\"/static/components/requirejs/require.js\"></script>\n",
       "          <script>\n",
       "            requirejs.config({\n",
       "              paths: {\n",
       "                base: '/static/base',\n",
       "              },\n",
       "            });\n",
       "          </script>\n",
       "          "
      ],
      "text/plain": [
       "<IPython.core.display.HTML object>"
      ]
     },
     "metadata": {},
     "output_type": "display_data"
    },
    {
     "name": "stderr",
     "output_type": "stream",
     "text": [
      "ERROR: (gcloud.ml-engine.jobs.submit.training) argument --job-dir: expected one argument\n",
      "Usage: gcloud ml-engine jobs submit training JOB --module-name=MODULE_NAME [optional flags] [-- USER_ARGS ...]\n",
      "  optional flags may be  --async | --config | --help | --job-dir |\n",
      "                         --package-path | --packages | --region |\n",
      "                         --runtime-version | --scale-tier | --staging-bucket |\n",
      "                         --stream-logs\n",
      "\n",
      "For detailed information on this command and its flags, run:\n",
      "  gcloud ml-engine jobs submit training --help\n"
     ]
    }
   ],
   "source": [
    "%%bash\n",
    "gcloud ml-engine jobs submit training $JOB_NAME --job-dir $OUTPUT_PATH --module-name rnn_model.rnn_model_with_comment --package-path rnn_model/ --runtime-version 1.4 -- --train-files $TRAIN_DATA --verbosity DEBUG\n"
   ]
  },
  {
   "cell_type": "code",
   "execution_count": 2,
   "metadata": {
    "collapsed": false
   },
   "outputs": [
    {
     "data": {
      "text/html": [
       "\n",
       "          <script src=\"/static/components/requirejs/require.js\"></script>\n",
       "          <script>\n",
       "            requirejs.config({\n",
       "              paths: {\n",
       "                base: '/static/base',\n",
       "              },\n",
       "            });\n",
       "          </script>\n",
       "          "
      ],
      "text/plain": [
       "<IPython.core.display.HTML object>"
      ]
     },
     "metadata": {},
     "output_type": "display_data"
    },
    {
     "name": "stdout",
     "output_type": "stream",
     "text": [
      "gs://choichoi/kyh951019_basic_gpu_datalab\n",
      "jobId: run_BASIC_GPU_indatalab_2\n",
      "state: QUEUED\n"
     ]
    },
    {
     "name": "stderr",
     "output_type": "stream",
     "text": [
      "Job [run_BASIC_GPU_indatalab_2] submitted successfully.\n",
      "Your job is still active. You may view the status of your job with the command\n",
      "\n",
      "  $ gcloud ml-engine jobs describe run_BASIC_GPU_indatalab_2\n",
      "\n",
      "or continue streaming the logs with the command\n",
      "\n",
      "  $ gcloud ml-engine jobs stream-logs run_BASIC_GPU_indatalab_2\n"
     ]
    }
   ],
   "source": [
    "%%bash\n",
    "JOB_NAME=\"run_BASIC_GPU_indatalab_2\"\n",
    "OUTPUT_PATH=gs://choichoi/kyh951019_basic_gpu_datalab\n",
    "TRAIN_DATA=gs://choichoi/test/Stock_price.csv\n",
    "REGION=us-central1\n",
    "echo $OUTPUT_PATH\n",
    "gcloud ml-engine jobs submit training $JOB_NAME \\\n",
    "    --job-dir $OUTPUT_PATH \\\n",
    "    --runtime-version 1.4 \\\n",
    "    --module-name models.rnn_model_with_comment \\\n",
    "    --package-path models/ \\\n",
    "    --region $REGION \\\n",
    "    --scale-tier BASIC_GPU \\\n",
    "    -- \\\n",
    "    --train-files $TRAIN_DATA \\\n",
    "    --verbosity DEBUG"
   ]
  },
  {
   "cell_type": "code",
   "execution_count": null,
   "metadata": {
    "collapsed": true
   },
   "outputs": [],
   "source": []
  }
 ],
 "metadata": {
  "kernelspec": {
   "display_name": "Python 2",
   "language": "python",
   "name": "python2"
  },
  "language_info": {
   "codemirror_mode": {
    "name": "ipython",
    "version": 2
   },
   "file_extension": ".py",
   "mimetype": "text/x-python",
   "name": "python",
   "nbconvert_exporter": "python",
   "pygments_lexer": "ipython2",
   "version": "2.7.12"
  }
 },
 "nbformat": 4,
 "nbformat_minor": 2
}
