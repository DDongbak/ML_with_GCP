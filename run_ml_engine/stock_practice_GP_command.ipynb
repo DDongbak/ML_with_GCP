{
 "cells": [
  {
   "cell_type": "code",
   "execution_count": 5,
   "metadata": {
    "collapsed": false
   },
   "outputs": [
    {
     "data": {
      "text/html": [
       "\n",
       "          <script src=\"/static/components/requirejs/require.js\"></script>\n",
       "          <script>\n",
       "            requirejs.config({\n",
       "              paths: {\n",
       "                base: '/static/base',\n",
       "              },\n",
       "            });\n",
       "          </script>\n",
       "          "
      ],
      "text/plain": [
       "<IPython.core.display.HTML object>"
      ]
     },
     "metadata": {},
     "output_type": "display_data"
    },
    {
     "name": "stdout",
     "output_type": "stream",
     "text": [
      "jobId: stock_practice_GP_v5\n",
      "state: QUEUED\n"
     ]
    },
    {
     "name": "stderr",
     "output_type": "stream",
     "text": [
      "Job [stock_practice_GP_v5] submitted successfully.\n",
      "Your job is still active. You may view the status of your job with the command\n",
      "\n",
      "  $ gcloud ml-engine jobs describe stock_practice_GP_v5\n",
      "\n",
      "or continue streaming the logs with the command\n",
      "\n",
      "  $ gcloud ml-engine jobs stream-logs stock_practice_GP_v5\n"
     ]
    }
   ],
   "source": [
    "%%bash\n",
    "JOB_NAME=\"stock_practice_GP_v5\"\n",
    "OUTPUT_PATH=gs://stock-practice-gp/pdm_practice_model\n",
    "TRAIN_DATA=gs://stock-practice-gp/data/stock_for_GP.csv\n",
    "REGION=us-central1\n",
    "\n",
    "gcloud ml-engine jobs submit training $JOB_NAME \\\n",
    "    --job-dir $OUTPUT_PATH \\\n",
    "    --runtime-version 1.4 \\\n",
    "    --module-name models.stock_practice_GP \\\n",
    "    --package-path models/ \\\n",
    "    --region $REGION \\\n",
    "    --scale-tier BASIC_GPU \\\n",
    "    -- \\\n",
    "    --train-files $TRAIN_DATA \\\n",
    "    --verbosity DEBUG"
   ]
  },
  {
   "cell_type": "code",
   "execution_count": null,
   "metadata": {
    "collapsed": true
   },
   "outputs": [],
   "source": []
  }
 ],
 "metadata": {
  "kernelspec": {
   "display_name": "Python 2",
   "language": "python",
   "name": "python2"
  },
  "language_info": {
   "codemirror_mode": {
    "name": "ipython",
    "version": 2
   },
   "file_extension": ".py",
   "mimetype": "text/x-python",
   "name": "python",
   "nbconvert_exporter": "python",
   "pygments_lexer": "ipython2",
   "version": "2.7.12"
  }
 },
 "nbformat": 4,
 "nbformat_minor": 2
}
