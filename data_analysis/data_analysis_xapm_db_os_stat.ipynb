{
 "cells": [
  {
   "cell_type": "markdown",
   "metadata": {},
   "source": [
    "# xapm_db_os_stat, xapm_db_stat 데이터 분석\n",
    "\n",
    "by pdm"
   ]
  },
  {
   "cell_type": "code",
   "execution_count": 17,
   "metadata": {
    "collapsed": false
   },
   "outputs": [
    {
     "data": {
      "text/html": [
       "\n",
       "          <script src=\"/static/components/requirejs/require.js\"></script>\n",
       "          <script>\n",
       "            requirejs.config({\n",
       "              paths: {\n",
       "                base: '/static/base',\n",
       "              },\n",
       "            });\n",
       "          </script>\n",
       "          "
      ],
      "text/plain": [
       "<IPython.core.display.HTML object>"
      ]
     },
     "metadata": {},
     "output_type": "display_data"
    }
   ],
   "source": [
    "from __future__ import division\n",
    "import google.datalab.bigquery as bq\n",
    "import matplotlib.pyplot as plot\n",
    "import numpy as np\n",
    "import pandas as pd"
   ]
  },
  {
   "cell_type": "markdown",
   "metadata": {},
   "source": [
    "# BigQuery로 xapm_db 테이블 불러오기"
   ]
  },
  {
   "cell_type": "code",
   "execution_count": 11,
   "metadata": {
    "collapsed": false
   },
   "outputs": [
    {
     "data": {
      "text/html": [
       "\n",
       "          <script src=\"/static/components/requirejs/require.js\"></script>\n",
       "          <script>\n",
       "            requirejs.config({\n",
       "              paths: {\n",
       "                base: '/static/base',\n",
       "              },\n",
       "            });\n",
       "          </script>\n",
       "          "
      ],
      "text/plain": [
       "<IPython.core.display.HTML object>"
      ]
     },
     "metadata": {},
     "output_type": "display_data"
    },
    {
     "data": {
      "text/html": [
       "<ul><li>exem-191100.ods_im5.xapm_db_os_stat</li><li>exem-191100.ods_im5.xapm_db_stat</li></ul>"
      ],
      "text/plain": [
       "<IPython.core.display.HTML object>"
      ]
     },
     "execution_count": 11,
     "metadata": {},
     "output_type": "execute_result"
    }
   ],
   "source": [
    "%bq tables list --project exem-191100 --dataset ods_im5"
   ]
  },
  {
   "cell_type": "code",
   "execution_count": 22,
   "metadata": {
    "collapsed": false
   },
   "outputs": [
    {
     "data": {
      "text/html": [
       "\n",
       "          <script src=\"/static/components/requirejs/require.js\"></script>\n",
       "          <script>\n",
       "            requirejs.config({\n",
       "              paths: {\n",
       "                base: '/static/base',\n",
       "              },\n",
       "            });\n",
       "          </script>\n",
       "          "
      ],
      "text/plain": [
       "<IPython.core.display.HTML object>"
      ]
     },
     "metadata": {},
     "output_type": "display_data"
    }
   ],
   "source": [
    "%%bq query --name osstat\n",
    "SELECT *, (total_memory - free_memory)/total_memory as mem_use_rate\n",
    "FROM `exem-191100.ods_im5.xapm_db_os_stat`\n",
    "ORDER BY db_id, time \n",
    "LIMIT 10"
   ]
  },
  {
   "cell_type": "code",
   "execution_count": 23,
   "metadata": {
    "collapsed": false
   },
   "outputs": [
    {
     "data": {
      "text/html": [
       "\n",
       "          <script src=\"/static/components/requirejs/require.js\"></script>\n",
       "          <script>\n",
       "            requirejs.config({\n",
       "              paths: {\n",
       "                base: '/static/base',\n",
       "              },\n",
       "            });\n",
       "          </script>\n",
       "          "
      ],
      "text/plain": [
       "<IPython.core.display.HTML object>"
      ]
     },
     "metadata": {},
     "output_type": "display_data"
    },
    {
     "data": {
      "text/html": [
       "\n",
       "    <div class=\"bqtv\" id=\"1_151539795061\"><table><tr><th>cpu_usage</th><th>db_id</th><th>free_memory</th><th>max_cpu_usage</th><th>min_free_memory</th><th>time</th><th>total_memory</th><th>mem_use_rate</th></tr><tr><td>5244</td><td>6</td><td>246592</td><td>6670</td><td>241860</td><td>2017-11-03 15:00:00</td><td>6117496</td><td>0.959690696978</td></tr><tr><td>5201</td><td>6</td><td>246007</td><td>5720</td><td>241844</td><td>2017-11-03 15:01:00</td><td>6117496</td><td>0.959786324339</td></tr><tr><td>5168</td><td>6</td><td>245579</td><td>5460</td><td>241372</td><td>2017-11-03 15:02:00</td><td>6117496</td><td>0.959856287605</td></tr><tr><td>5157</td><td>6</td><td>245377</td><td>5330</td><td>241372</td><td>2017-11-03 15:03:00</td><td>6117496</td><td>0.959889307651</td></tr><tr><td>5263</td><td>6</td><td>242621</td><td>5610</td><td>240992</td><td>2017-11-03 15:04:00</td><td>6117496</td><td>0.960339818776</td></tr><tr><td>5220</td><td>6</td><td>244343</td><td>5600</td><td>240256</td><td>2017-11-03 15:05:00</td><td>6117496</td><td>0.960058331056</td></tr><tr><td>5218</td><td>6</td><td>243530</td><td>5530</td><td>239876</td><td>2017-11-03 15:06:00</td><td>6117496</td><td>0.960191228568</td></tr><tr><td>5274</td><td>6</td><td>243200</td><td>5630</td><td>239636</td><td>2017-11-03 15:07:00</td><td>6117496</td><td>0.960245172208</td></tr><tr><td>5142</td><td>6</td><td>242762</td><td>5430</td><td>239132</td><td>2017-11-03 15:08:00</td><td>6117496</td><td>0.960316770129</td></tr><tr><td>5260</td><td>6</td><td>242303</td><td>5520</td><td>238636</td><td>2017-11-03 15:09:00</td><td>6117496</td><td>0.960391800828</td></tr></table></div>\n",
       "    <br />(rows: 10, time: 1.7s,     7MB processed, job: job_x8w_RLtq4Tcr84Fhk0b_wWFi4r2T)<br />\n",
       "    <script>\n",
       "\n",
       "      require.config({\n",
       "        paths: {\n",
       "          d3: '//cdnjs.cloudflare.com/ajax/libs/d3/3.4.13/d3',\n",
       "          plotly: 'https://cdn.plot.ly/plotly-1.5.1.min.js?noext',\n",
       "          jquery: '//ajax.googleapis.com/ajax/libs/jquery/2.0.0/jquery.min'\n",
       "        },\n",
       "        map: {\n",
       "          '*': {\n",
       "            datalab: 'nbextensions/gcpdatalab'\n",
       "          }\n",
       "        },\n",
       "        shim: {\n",
       "          plotly: {\n",
       "            deps: ['d3', 'jquery'],\n",
       "            exports: 'plotly'\n",
       "          }\n",
       "        }\n",
       "      });\n",
       "\n",
       "      require(['datalab/charting', 'datalab/element!1_151539795061', 'base/js/events',\n",
       "          'datalab/style!/nbextensions/gcpdatalab/charting.css'],\n",
       "        function(charts, dom, events) {\n",
       "          charts.render('gcharts', dom, events, 'table', [], {\"rows\": [{\"c\": [{\"v\": 5244}, {\"v\": 6}, {\"v\": 246592}, {\"v\": 6670}, {\"v\": 241860}, {\"v\": \"2017-11-03T15:00:00\"}, {\"v\": 6117496}, {\"v\": 0.9596906969779793}]}, {\"c\": [{\"v\": 5201}, {\"v\": 6}, {\"v\": 246007}, {\"v\": 5720}, {\"v\": 241844}, {\"v\": \"2017-11-03T15:01:00\"}, {\"v\": 6117496}, {\"v\": 0.9597863243392395}]}, {\"c\": [{\"v\": 5168}, {\"v\": 6}, {\"v\": 245579}, {\"v\": 5460}, {\"v\": 241372}, {\"v\": \"2017-11-03T15:02:00\"}, {\"v\": 6117496}, {\"v\": 0.9598562876052554}]}, {\"c\": [{\"v\": 5157}, {\"v\": 6}, {\"v\": 245377}, {\"v\": 5330}, {\"v\": 241372}, {\"v\": \"2017-11-03T15:03:00\"}, {\"v\": 6117496}, {\"v\": 0.9598893076513658}]}, {\"c\": [{\"v\": 5263}, {\"v\": 6}, {\"v\": 242621}, {\"v\": 5610}, {\"v\": 240992}, {\"v\": \"2017-11-03T15:04:00\"}, {\"v\": 6117496}, {\"v\": 0.9603398187755251}]}, {\"c\": [{\"v\": 5220}, {\"v\": 6}, {\"v\": 244343}, {\"v\": 5600}, {\"v\": 240256}, {\"v\": \"2017-11-03T15:05:00\"}, {\"v\": 6117496}, {\"v\": 0.960058331055713}]}, {\"c\": [{\"v\": 5218}, {\"v\": 6}, {\"v\": 243530}, {\"v\": 5530}, {\"v\": 239876}, {\"v\": \"2017-11-03T15:06:00\"}, {\"v\": 6117496}, {\"v\": 0.9601912285680285}]}, {\"c\": [{\"v\": 5274}, {\"v\": 6}, {\"v\": 243200}, {\"v\": 5630}, {\"v\": 239636}, {\"v\": \"2017-11-03T15:07:00\"}, {\"v\": 6117496}, {\"v\": 0.9602451722077138}]}, {\"c\": [{\"v\": 5142}, {\"v\": 6}, {\"v\": 242762}, {\"v\": 5430}, {\"v\": 239132}, {\"v\": \"2017-11-03T15:08:00\"}, {\"v\": 6117496}, {\"v\": 0.9603167701294778}]}, {\"c\": [{\"v\": 5260}, {\"v\": 6}, {\"v\": 242303}, {\"v\": 5520}, {\"v\": 238636}, {\"v\": \"2017-11-03T15:09:00\"}, {\"v\": 6117496}, {\"v\": 0.9603918008283128}]}], \"cols\": [{\"type\": \"number\", \"id\": \"cpu_usage\", \"label\": \"cpu_usage\"}, {\"type\": \"number\", \"id\": \"db_id\", \"label\": \"db_id\"}, {\"type\": \"number\", \"id\": \"free_memory\", \"label\": \"free_memory\"}, {\"type\": \"number\", \"id\": \"max_cpu_usage\", \"label\": \"max_cpu_usage\"}, {\"type\": \"number\", \"id\": \"min_free_memory\", \"label\": \"min_free_memory\"}, {\"type\": \"timestamp\", \"id\": \"time\", \"label\": \"time\"}, {\"type\": \"number\", \"id\": \"total_memory\", \"label\": \"total_memory\"}, {\"type\": \"number\", \"id\": \"mem_use_rate\", \"label\": \"mem_use_rate\"}]},\n",
       "            {\n",
       "              pageSize: 25,\n",
       "              cssClassNames:  {\n",
       "                tableRow: 'gchart-table-row',\n",
       "                headerRow: 'gchart-table-headerrow',\n",
       "                oddTableRow: 'gchart-table-oddrow',\n",
       "                selectedTableRow: 'gchart-table-selectedrow',\n",
       "                hoverTableRow: 'gchart-table-hoverrow',\n",
       "                tableCell: 'gchart-table-cell',\n",
       "                headerCell: 'gchart-table-headercell',\n",
       "                rowNumberCell: 'gchart-table-rownumcell'\n",
       "              }\n",
       "            },\n",
       "            {source_index: 0, fields: 'cpu_usage,db_id,free_memory,max_cpu_usage,min_free_memory,time,total_memory,mem_use_rate'},\n",
       "            0,\n",
       "            10);\n",
       "        }\n",
       "      );\n",
       "    </script>\n",
       "  "
      ],
      "text/plain": [
       "QueryResultsTable job_x8w_RLtq4Tcr84Fhk0b_wWFi4r2T"
      ]
     },
     "execution_count": 23,
     "metadata": {},
     "output_type": "execute_result"
    }
   ],
   "source": [
    "%%bq sample --query osstat --count 10"
   ]
  },
  {
   "cell_type": "code",
   "execution_count": 1,
   "metadata": {
    "collapsed": false
   },
   "outputs": [
    {
     "data": {
      "text/html": [
       "\n",
       "          <script src=\"/static/components/requirejs/require.js\"></script>\n",
       "          <script>\n",
       "            requirejs.config({\n",
       "              paths: {\n",
       "                base: '/static/base',\n",
       "              },\n",
       "            });\n",
       "          </script>\n",
       "          "
      ],
      "text/plain": [
       "<IPython.core.display.HTML object>"
      ]
     },
     "metadata": {},
     "output_type": "display_data"
    }
   ],
   "source": [
    "%%bq query --name grouping\n",
    "SELECT db_id, COUNT(db_id) as count, MAX(mem_use_rate) as max_mem_use_rate, AVG(mem_use_rate) as avg_mem_use_rate, MIN(mem_use_rate) as min_mem_use_rate\n",
    "FROM(\n",
    "  SELECT db_id, (total_memory - free_memory)/total_memory as mem_use_rate\n",
    "  FROM `exem-191100.ods_im5.xapm_db_os_stat`\n",
    "  )\n",
    "GROUP BY db_id"
   ]
  },
  {
   "cell_type": "code",
   "execution_count": 2,
   "metadata": {
    "collapsed": false
   },
   "outputs": [
    {
     "data": {
      "text/html": [
       "\n",
       "          <script src=\"/static/components/requirejs/require.js\"></script>\n",
       "          <script>\n",
       "            requirejs.config({\n",
       "              paths: {\n",
       "                base: '/static/base',\n",
       "              },\n",
       "            });\n",
       "          </script>\n",
       "          "
      ],
      "text/plain": [
       "<IPython.core.display.HTML object>"
      ]
     },
     "metadata": {},
     "output_type": "display_data"
    },
    {
     "data": {
      "text/html": [
       "\n",
       "    <div class=\"bqtv\" id=\"1_151545684016\"><table><tr><th>db_id</th><th>count</th><th>max_mem_use_rate</th><th>avg_mem_use_rate</th><th>min_mem_use_rate</th></tr><tr><td>16</td><td>44301</td><td>0.993507155516</td><td>0.987811373303</td><td>0.866980441022</td></tr><tr><td>6</td><td>44306</td><td>0.979446655952</td><td>0.953953761297</td><td>0.898364625003</td></tr><tr><td>13</td><td>42378</td><td>0.971808579389</td><td>0.96437537027</td><td>0.936422909007</td></tr></table></div>\n",
       "    <br />(rows: 3, time: 4.8s,     3MB processed, job: job_3tMA5YAWGXdRyNeo-G5jEsEZ_e6W)<br />\n",
       "    <script>\n",
       "\n",
       "      require.config({\n",
       "        paths: {\n",
       "          d3: '//cdnjs.cloudflare.com/ajax/libs/d3/3.4.13/d3',\n",
       "          plotly: 'https://cdn.plot.ly/plotly-1.5.1.min.js?noext',\n",
       "          jquery: '//ajax.googleapis.com/ajax/libs/jquery/2.0.0/jquery.min'\n",
       "        },\n",
       "        map: {\n",
       "          '*': {\n",
       "            datalab: 'nbextensions/gcpdatalab'\n",
       "          }\n",
       "        },\n",
       "        shim: {\n",
       "          plotly: {\n",
       "            deps: ['d3', 'jquery'],\n",
       "            exports: 'plotly'\n",
       "          }\n",
       "        }\n",
       "      });\n",
       "\n",
       "      require(['datalab/charting', 'datalab/element!1_151545684016', 'base/js/events',\n",
       "          'datalab/style!/nbextensions/gcpdatalab/charting.css'],\n",
       "        function(charts, dom, events) {\n",
       "          charts.render('gcharts', dom, events, 'table', [], {\"rows\": [{\"c\": [{\"v\": 16}, {\"v\": 44301}, {\"v\": 0.9935071555159248}, {\"v\": 0.9878113733028133}, {\"v\": 0.866980441022058}]}, {\"c\": [{\"v\": 6}, {\"v\": 44306}, {\"v\": 0.9794466559520432}, {\"v\": 0.9539537612968558}, {\"v\": 0.8983646250034327}]}, {\"c\": [{\"v\": 13}, {\"v\": 42378}, {\"v\": 0.9718085793887867}, {\"v\": 0.9643753702703969}, {\"v\": 0.9364229090073529}]}], \"cols\": [{\"type\": \"number\", \"id\": \"db_id\", \"label\": \"db_id\"}, {\"type\": \"number\", \"id\": \"count\", \"label\": \"count\"}, {\"type\": \"number\", \"id\": \"max_mem_use_rate\", \"label\": \"max_mem_use_rate\"}, {\"type\": \"number\", \"id\": \"avg_mem_use_rate\", \"label\": \"avg_mem_use_rate\"}, {\"type\": \"number\", \"id\": \"min_mem_use_rate\", \"label\": \"min_mem_use_rate\"}]},\n",
       "            {\n",
       "              pageSize: 25,\n",
       "              cssClassNames:  {\n",
       "                tableRow: 'gchart-table-row',\n",
       "                headerRow: 'gchart-table-headerrow',\n",
       "                oddTableRow: 'gchart-table-oddrow',\n",
       "                selectedTableRow: 'gchart-table-selectedrow',\n",
       "                hoverTableRow: 'gchart-table-hoverrow',\n",
       "                tableCell: 'gchart-table-cell',\n",
       "                headerCell: 'gchart-table-headercell',\n",
       "                rowNumberCell: 'gchart-table-rownumcell'\n",
       "              }\n",
       "            },\n",
       "            {source_index: 0, fields: 'db_id,count,max_mem_use_rate,avg_mem_use_rate,min_mem_use_rate'},\n",
       "            0,\n",
       "            3);\n",
       "        }\n",
       "      );\n",
       "    </script>\n",
       "  "
      ],
      "text/plain": [
       "QueryResultsTable job_3tMA5YAWGXdRyNeo-G5jEsEZ_e6W"
      ]
     },
     "execution_count": 2,
     "metadata": {},
     "output_type": "execute_result"
    }
   ],
   "source": [
    "%%bq sample --query grouping"
   ]
  },
  {
   "cell_type": "markdown",
   "metadata": {},
   "source": [
    "xapm_db_os_stat db에는 **{ 6, 13, 16 } 3개의 db**에 대한 데이터가 있으며 그 **갯수는 약 40000개로 균일**하고, **16번 db가 가장 많은 메모리 점유율**을 갖고 있음을 알 수 있다."
   ]
  },
  {
   "cell_type": "markdown",
   "metadata": {},
   "source": [
    "# 막 지어낸 anomaly detection 방법1\n",
    "\n",
    "방법\n",
    "- avg_mem_use_rate가 특정 threshold 이상, 예를들면 0.99 이상 이면 시스템이 위험한 상태라고 판단하고, 해당 상태의 timestamp의 db를 anomaly라고 할 수 있다.\n",
    "\n",
    "한계\n",
    "- 하지만 모든 메모리의 평균 점유율이 0.95 이상으로 상당히 높으며, cache, swap 중인 메모리의 정보가 없으므로 유의미 하지는 않을거라 생각된다.\n",
    "- 이것 보다는, 어떤 작업을 처리하기 위한 db_time 정보가 필요해 보인다\n",
    "\n",
    "궁금한점\n",
    "- cpu_usage 가 높으면 시스템에 해가 되는 것인가..?"
   ]
  },
  {
   "cell_type": "code",
   "execution_count": null,
   "metadata": {
    "collapsed": true
   },
   "outputs": [],
   "source": []
  }
 ],
 "metadata": {
  "kernelspec": {
   "display_name": "Python 2",
   "language": "python",
   "name": "python2"
  },
  "language_info": {
   "codemirror_mode": {
    "name": "ipython",
    "version": 2
   },
   "file_extension": ".py",
   "mimetype": "text/x-python",
   "name": "python",
   "nbconvert_exporter": "python",
   "pygments_lexer": "ipython2",
   "version": "2.7.12"
  }
 },
 "nbformat": 4,
 "nbformat_minor": 2
}
