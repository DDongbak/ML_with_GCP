{
 "cells": [
  {
   "cell_type": "markdown",
   "metadata": {},
   "source": [
    "# 3 table join (xapm_db_stat, xapm_db_os_stat, xapm_db_wait)\n",
    "\n",
    "by pdm"
   ]
  },
  {
   "cell_type": "code",
   "execution_count": 2,
   "metadata": {
    "collapsed": false
   },
   "outputs": [
    {
     "data": {
      "text/html": [
       "\n",
       "          <script src=\"/static/components/requirejs/require.js\"></script>\n",
       "          <script>\n",
       "            requirejs.config({\n",
       "              paths: {\n",
       "                base: '/static/base',\n",
       "              },\n",
       "            });\n",
       "          </script>\n",
       "          "
      ],
      "text/plain": [
       "<IPython.core.display.HTML object>"
      ]
     },
     "metadata": {},
     "output_type": "display_data"
    }
   ],
   "source": [
    "from __future__ import division\n",
    "import google.datalab.bigquery as bq\n",
    "import matplotlib.pyplot as plot\n",
    "import numpy as np\n",
    "import pandas as pd"
   ]
  },
  {
   "cell_type": "markdown",
   "metadata": {},
   "source": [
    "# 테이블 3개 db_id = 6 인놈에 대해서만, time을 변수로 조인하기"
   ]
  },
  {
   "cell_type": "code",
   "execution_count": 2,
   "metadata": {
    "collapsed": false
   },
   "outputs": [
    {
     "data": {
      "text/html": [
       "\n",
       "          <script src=\"/static/components/requirejs/require.js\"></script>\n",
       "          <script>\n",
       "            requirejs.config({\n",
       "              paths: {\n",
       "                base: '/static/base',\n",
       "              },\n",
       "            });\n",
       "          </script>\n",
       "          "
      ],
      "text/plain": [
       "<IPython.core.display.HTML object>"
      ]
     },
     "metadata": {},
     "output_type": "display_data"
    },
    {
     "data": {
      "text/html": [
       "<ul><li>exem-191100.ods_im5.xapm_db_os_stat</li><li>exem-191100.ods_im5.xapm_db_stat</li><li>exem-191100.ods_im5.xapm_db_wait</li><li>exem-191100.ods_im5.xapm_event_name_copy</li></ul>"
      ],
      "text/plain": [
       "<IPython.core.display.HTML object>"
      ]
     },
     "execution_count": 2,
     "metadata": {},
     "output_type": "execute_result"
    }
   ],
   "source": [
    "%bq tables list --project exem-191100 --dataset ods_im5"
   ]
  },
  {
   "cell_type": "code",
   "execution_count": 27,
   "metadata": {
    "collapsed": false
   },
   "outputs": [
    {
     "data": {
      "text/html": [
       "\n",
       "          <script src=\"/static/components/requirejs/require.js\"></script>\n",
       "          <script>\n",
       "            requirejs.config({\n",
       "              paths: {\n",
       "                base: '/static/base',\n",
       "              },\n",
       "            });\n",
       "          </script>\n",
       "          "
      ],
      "text/plain": [
       "<IPython.core.display.HTML object>"
      ]
     },
     "metadata": {},
     "output_type": "display_data"
    }
   ],
   "source": [
    "%%bq query --name join\n",
    "SELECT t1_os.cpu_usage, t1_os.max_cpu_usage, t1_os.free_memory, t1_os.min_free_memory, \n",
    "  t1_os.total_memory, t2_st.stat_id, t2_st.value, t3_wa.event_id, t3_wa.wait_count, t3_wa.wait_time, t3_wa.wait_timeout, t1_os.time\n",
    "FROM `exem-191100.ods_im5.xapm_db_os_stat` as t1_os, `exem-191100.ods_im5.xapm_db_stat` as t2_st, `exem-191100.ods_im5.xapm_db_wait` as t3_wa\n",
    "WHERE t1_os.db_id = 6 and t2_st.db_id = 6 and t3_wa.db_id = 6 and t1_os.time = t2_st.time and t2_st.time = t3_wa.time\n",
    "ORDER BY t1_os.time, stat_id, event_id"
   ]
  },
  {
   "cell_type": "code",
   "execution_count": 28,
   "metadata": {
    "collapsed": false
   },
   "outputs": [
    {
     "data": {
      "text/html": [
       "\n",
       "          <script src=\"/static/components/requirejs/require.js\"></script>\n",
       "          <script>\n",
       "            requirejs.config({\n",
       "              paths: {\n",
       "                base: '/static/base',\n",
       "              },\n",
       "            });\n",
       "          </script>\n",
       "          "
      ],
      "text/plain": [
       "<IPython.core.display.HTML object>"
      ]
     },
     "metadata": {},
     "output_type": "display_data"
    },
    {
     "data": {
      "text/html": [
       "\n",
       "    <div class=\"bqtv\" id=\"4_151548773513\"><table><tr><th>cpu_usage</th><th>max_cpu_usage</th><th>free_memory</th><th>min_free_memory</th><th>total_memory</th><th>stat_id</th><th>value</th><th>event_id</th><th>wait_count</th><th>wait_time</th><th>wait_timeout</th><th>time</th></tr><tr><td>5244</td><td>6670</td><td>246592</td><td>241860</td><td>6117496</td><td>0</td><td>0</td><td>1</td><td>1</td><td>300</td><td>1</td><td>2017-11-03 15:00:00</td></tr><tr><td>5244</td><td>6670</td><td>246592</td><td>241860</td><td>6117496</td><td>0</td><td>0</td><td>7</td><td>14</td><td>3286</td><td>14</td><td>2017-11-03 15:00:00</td></tr><tr><td>5244</td><td>6670</td><td>246592</td><td>241860</td><td>6117496</td><td>0</td><td>0</td><td>11</td><td>0</td><td>0</td><td>0</td><td>2017-11-03 15:00:00</td></tr><tr><td>5244</td><td>6670</td><td>246592</td><td>241860</td><td>6117496</td><td>0</td><td>0</td><td>14</td><td>0</td><td>0</td><td>0</td><td>2017-11-03 15:00:00</td></tr><tr><td>5244</td><td>6670</td><td>246592</td><td>241860</td><td>6117496</td><td>0</td><td>0</td><td>15</td><td>0</td><td>0</td><td>0</td><td>2017-11-03 15:00:00</td></tr><tr><td>5244</td><td>6670</td><td>246592</td><td>241860</td><td>6117496</td><td>0</td><td>0</td><td>20</td><td>0</td><td>0</td><td>0</td><td>2017-11-03 15:00:00</td></tr><tr><td>5244</td><td>6670</td><td>246592</td><td>241860</td><td>6117496</td><td>0</td><td>0</td><td>22</td><td>0</td><td>0</td><td>0</td><td>2017-11-03 15:00:00</td></tr><tr><td>5244</td><td>6670</td><td>246592</td><td>241860</td><td>6117496</td><td>0</td><td>0</td><td>65</td><td>0</td><td>0</td><td>0</td><td>2017-11-03 15:00:00</td></tr><tr><td>5244</td><td>6670</td><td>246592</td><td>241860</td><td>6117496</td><td>0</td><td>0</td><td>68</td><td>0</td><td>0</td><td>0</td><td>2017-11-03 15:00:00</td></tr><tr><td>5244</td><td>6670</td><td>246592</td><td>241860</td><td>6117496</td><td>0</td><td>0</td><td>71</td><td>0</td><td>0</td><td>0</td><td>2017-11-03 15:00:00</td></tr><tr><td>5244</td><td>6670</td><td>246592</td><td>241860</td><td>6117496</td><td>0</td><td>0</td><td>74</td><td>5</td><td>595</td><td>5</td><td>2017-11-03 15:00:00</td></tr><tr><td>5244</td><td>6670</td><td>246592</td><td>241860</td><td>6117496</td><td>0</td><td>0</td><td>79</td><td>0</td><td>0</td><td>0</td><td>2017-11-03 15:00:00</td></tr><tr><td>5244</td><td>6670</td><td>246592</td><td>241860</td><td>6117496</td><td>0</td><td>0</td><td>81</td><td>5</td><td>0</td><td>0</td><td>2017-11-03 15:00:00</td></tr><tr><td>5244</td><td>6670</td><td>246592</td><td>241860</td><td>6117496</td><td>0</td><td>0</td><td>83</td><td>1</td><td>0</td><td>0</td><td>2017-11-03 15:00:00</td></tr><tr><td>5244</td><td>6670</td><td>246592</td><td>241860</td><td>6117496</td><td>0</td><td>0</td><td>88</td><td>0</td><td>0</td><td>0</td><td>2017-11-03 15:00:00</td></tr><tr><td>5244</td><td>6670</td><td>246592</td><td>241860</td><td>6117496</td><td>0</td><td>0</td><td>91</td><td>0</td><td>0</td><td>0</td><td>2017-11-03 15:00:00</td></tr><tr><td>5244</td><td>6670</td><td>246592</td><td>241860</td><td>6117496</td><td>0</td><td>0</td><td>92</td><td>0</td><td>0</td><td>0</td><td>2017-11-03 15:00:00</td></tr><tr><td>5244</td><td>6670</td><td>246592</td><td>241860</td><td>6117496</td><td>0</td><td>0</td><td>95</td><td>0</td><td>0</td><td>0</td><td>2017-11-03 15:00:00</td></tr><tr><td>5244</td><td>6670</td><td>246592</td><td>241860</td><td>6117496</td><td>0</td><td>0</td><td>98</td><td>0</td><td>0</td><td>0</td><td>2017-11-03 15:00:00</td></tr><tr><td>5244</td><td>6670</td><td>246592</td><td>241860</td><td>6117496</td><td>0</td><td>0</td><td>100</td><td>0</td><td>0</td><td>0</td><td>2017-11-03 15:00:00</td></tr><tr><td>5244</td><td>6670</td><td>246592</td><td>241860</td><td>6117496</td><td>0</td><td>0</td><td>108</td><td>0</td><td>0</td><td>0</td><td>2017-11-03 15:00:00</td></tr><tr><td>5244</td><td>6670</td><td>246592</td><td>241860</td><td>6117496</td><td>0</td><td>0</td><td>109</td><td>0</td><td>0</td><td>0</td><td>2017-11-03 15:00:00</td></tr><tr><td>5244</td><td>6670</td><td>246592</td><td>241860</td><td>6117496</td><td>0</td><td>0</td><td>133</td><td>0</td><td>0</td><td>0</td><td>2017-11-03 15:00:00</td></tr><tr><td>5244</td><td>6670</td><td>246592</td><td>241860</td><td>6117496</td><td>0</td><td>0</td><td>134</td><td>0</td><td>0</td><td>0</td><td>2017-11-03 15:00:00</td></tr><tr><td>5244</td><td>6670</td><td>246592</td><td>241860</td><td>6117496</td><td>0</td><td>0</td><td>135</td><td>0</td><td>0</td><td>0</td><td>2017-11-03 15:00:00</td></tr></table></div>\n",
       "    <br />(rows: 1000, time: 15.8s,     6GB processed, job: job_9RN3ASjvmRq--mLpPw1puiJ0iXkH)<br />\n",
       "    <script>\n",
       "\n",
       "      require.config({\n",
       "        paths: {\n",
       "          d3: '//cdnjs.cloudflare.com/ajax/libs/d3/3.4.13/d3',\n",
       "          plotly: 'https://cdn.plot.ly/plotly-1.5.1.min.js?noext',\n",
       "          jquery: '//ajax.googleapis.com/ajax/libs/jquery/2.0.0/jquery.min'\n",
       "        },\n",
       "        map: {\n",
       "          '*': {\n",
       "            datalab: 'nbextensions/gcpdatalab'\n",
       "          }\n",
       "        },\n",
       "        shim: {\n",
       "          plotly: {\n",
       "            deps: ['d3', 'jquery'],\n",
       "            exports: 'plotly'\n",
       "          }\n",
       "        }\n",
       "      });\n",
       "\n",
       "      require(['datalab/charting', 'datalab/element!4_151548773513', 'base/js/events',\n",
       "          'datalab/style!/nbextensions/gcpdatalab/charting.css'],\n",
       "        function(charts, dom, events) {\n",
       "          charts.render('gcharts', dom, events, 'paged_table', [], {\"rows\": [{\"c\": [{\"v\": 5244}, {\"v\": 6670}, {\"v\": 246592}, {\"v\": 241860}, {\"v\": 6117496}, {\"v\": 0}, {\"v\": 0}, {\"v\": 1}, {\"v\": 1}, {\"v\": 300}, {\"v\": 1}, {\"v\": \"2017-11-03T15:00:00\"}]}, {\"c\": [{\"v\": 5244}, {\"v\": 6670}, {\"v\": 246592}, {\"v\": 241860}, {\"v\": 6117496}, {\"v\": 0}, {\"v\": 0}, {\"v\": 7}, {\"v\": 14}, {\"v\": 3286}, {\"v\": 14}, {\"v\": \"2017-11-03T15:00:00\"}]}, {\"c\": [{\"v\": 5244}, {\"v\": 6670}, {\"v\": 246592}, {\"v\": 241860}, {\"v\": 6117496}, {\"v\": 0}, {\"v\": 0}, {\"v\": 11}, {\"v\": 0}, {\"v\": 0}, {\"v\": 0}, {\"v\": \"2017-11-03T15:00:00\"}]}, {\"c\": [{\"v\": 5244}, {\"v\": 6670}, {\"v\": 246592}, {\"v\": 241860}, {\"v\": 6117496}, {\"v\": 0}, {\"v\": 0}, {\"v\": 14}, {\"v\": 0}, {\"v\": 0}, {\"v\": 0}, {\"v\": \"2017-11-03T15:00:00\"}]}, {\"c\": [{\"v\": 5244}, {\"v\": 6670}, {\"v\": 246592}, {\"v\": 241860}, {\"v\": 6117496}, {\"v\": 0}, {\"v\": 0}, {\"v\": 15}, {\"v\": 0}, {\"v\": 0}, {\"v\": 0}, {\"v\": \"2017-11-03T15:00:00\"}]}, {\"c\": [{\"v\": 5244}, {\"v\": 6670}, {\"v\": 246592}, {\"v\": 241860}, {\"v\": 6117496}, {\"v\": 0}, {\"v\": 0}, {\"v\": 20}, {\"v\": 0}, {\"v\": 0}, {\"v\": 0}, {\"v\": \"2017-11-03T15:00:00\"}]}, {\"c\": [{\"v\": 5244}, {\"v\": 6670}, {\"v\": 246592}, {\"v\": 241860}, {\"v\": 6117496}, {\"v\": 0}, {\"v\": 0}, {\"v\": 22}, {\"v\": 0}, {\"v\": 0}, {\"v\": 0}, {\"v\": \"2017-11-03T15:00:00\"}]}, {\"c\": [{\"v\": 5244}, {\"v\": 6670}, {\"v\": 246592}, {\"v\": 241860}, {\"v\": 6117496}, {\"v\": 0}, {\"v\": 0}, {\"v\": 65}, {\"v\": 0}, {\"v\": 0}, {\"v\": 0}, {\"v\": \"2017-11-03T15:00:00\"}]}, {\"c\": [{\"v\": 5244}, {\"v\": 6670}, {\"v\": 246592}, {\"v\": 241860}, {\"v\": 6117496}, {\"v\": 0}, {\"v\": 0}, {\"v\": 68}, {\"v\": 0}, {\"v\": 0}, {\"v\": 0}, {\"v\": \"2017-11-03T15:00:00\"}]}, {\"c\": [{\"v\": 5244}, {\"v\": 6670}, {\"v\": 246592}, {\"v\": 241860}, {\"v\": 6117496}, {\"v\": 0}, {\"v\": 0}, {\"v\": 71}, {\"v\": 0}, {\"v\": 0}, {\"v\": 0}, {\"v\": \"2017-11-03T15:00:00\"}]}, {\"c\": [{\"v\": 5244}, {\"v\": 6670}, {\"v\": 246592}, {\"v\": 241860}, {\"v\": 6117496}, {\"v\": 0}, {\"v\": 0}, {\"v\": 74}, {\"v\": 5}, {\"v\": 595}, {\"v\": 5}, {\"v\": \"2017-11-03T15:00:00\"}]}, {\"c\": [{\"v\": 5244}, {\"v\": 6670}, {\"v\": 246592}, {\"v\": 241860}, {\"v\": 6117496}, {\"v\": 0}, {\"v\": 0}, {\"v\": 79}, {\"v\": 0}, {\"v\": 0}, {\"v\": 0}, {\"v\": \"2017-11-03T15:00:00\"}]}, {\"c\": [{\"v\": 5244}, {\"v\": 6670}, {\"v\": 246592}, {\"v\": 241860}, {\"v\": 6117496}, {\"v\": 0}, {\"v\": 0}, {\"v\": 81}, {\"v\": 5}, {\"v\": 0}, {\"v\": 0}, {\"v\": \"2017-11-03T15:00:00\"}]}, {\"c\": [{\"v\": 5244}, {\"v\": 6670}, {\"v\": 246592}, {\"v\": 241860}, {\"v\": 6117496}, {\"v\": 0}, {\"v\": 0}, {\"v\": 83}, {\"v\": 1}, {\"v\": 0}, {\"v\": 0}, {\"v\": \"2017-11-03T15:00:00\"}]}, {\"c\": [{\"v\": 5244}, {\"v\": 6670}, {\"v\": 246592}, {\"v\": 241860}, {\"v\": 6117496}, {\"v\": 0}, {\"v\": 0}, {\"v\": 88}, {\"v\": 0}, {\"v\": 0}, {\"v\": 0}, {\"v\": \"2017-11-03T15:00:00\"}]}, {\"c\": [{\"v\": 5244}, {\"v\": 6670}, {\"v\": 246592}, {\"v\": 241860}, {\"v\": 6117496}, {\"v\": 0}, {\"v\": 0}, {\"v\": 91}, {\"v\": 0}, {\"v\": 0}, {\"v\": 0}, {\"v\": \"2017-11-03T15:00:00\"}]}, {\"c\": [{\"v\": 5244}, {\"v\": 6670}, {\"v\": 246592}, {\"v\": 241860}, {\"v\": 6117496}, {\"v\": 0}, {\"v\": 0}, {\"v\": 92}, {\"v\": 0}, {\"v\": 0}, {\"v\": 0}, {\"v\": \"2017-11-03T15:00:00\"}]}, {\"c\": [{\"v\": 5244}, {\"v\": 6670}, {\"v\": 246592}, {\"v\": 241860}, {\"v\": 6117496}, {\"v\": 0}, {\"v\": 0}, {\"v\": 95}, {\"v\": 0}, {\"v\": 0}, {\"v\": 0}, {\"v\": \"2017-11-03T15:00:00\"}]}, {\"c\": [{\"v\": 5244}, {\"v\": 6670}, {\"v\": 246592}, {\"v\": 241860}, {\"v\": 6117496}, {\"v\": 0}, {\"v\": 0}, {\"v\": 98}, {\"v\": 0}, {\"v\": 0}, {\"v\": 0}, {\"v\": \"2017-11-03T15:00:00\"}]}, {\"c\": [{\"v\": 5244}, {\"v\": 6670}, {\"v\": 246592}, {\"v\": 241860}, {\"v\": 6117496}, {\"v\": 0}, {\"v\": 0}, {\"v\": 100}, {\"v\": 0}, {\"v\": 0}, {\"v\": 0}, {\"v\": \"2017-11-03T15:00:00\"}]}, {\"c\": [{\"v\": 5244}, {\"v\": 6670}, {\"v\": 246592}, {\"v\": 241860}, {\"v\": 6117496}, {\"v\": 0}, {\"v\": 0}, {\"v\": 108}, {\"v\": 0}, {\"v\": 0}, {\"v\": 0}, {\"v\": \"2017-11-03T15:00:00\"}]}, {\"c\": [{\"v\": 5244}, {\"v\": 6670}, {\"v\": 246592}, {\"v\": 241860}, {\"v\": 6117496}, {\"v\": 0}, {\"v\": 0}, {\"v\": 109}, {\"v\": 0}, {\"v\": 0}, {\"v\": 0}, {\"v\": \"2017-11-03T15:00:00\"}]}, {\"c\": [{\"v\": 5244}, {\"v\": 6670}, {\"v\": 246592}, {\"v\": 241860}, {\"v\": 6117496}, {\"v\": 0}, {\"v\": 0}, {\"v\": 133}, {\"v\": 0}, {\"v\": 0}, {\"v\": 0}, {\"v\": \"2017-11-03T15:00:00\"}]}, {\"c\": [{\"v\": 5244}, {\"v\": 6670}, {\"v\": 246592}, {\"v\": 241860}, {\"v\": 6117496}, {\"v\": 0}, {\"v\": 0}, {\"v\": 134}, {\"v\": 0}, {\"v\": 0}, {\"v\": 0}, {\"v\": \"2017-11-03T15:00:00\"}]}, {\"c\": [{\"v\": 5244}, {\"v\": 6670}, {\"v\": 246592}, {\"v\": 241860}, {\"v\": 6117496}, {\"v\": 0}, {\"v\": 0}, {\"v\": 135}, {\"v\": 0}, {\"v\": 0}, {\"v\": 0}, {\"v\": \"2017-11-03T15:00:00\"}]}], \"cols\": [{\"type\": \"number\", \"id\": \"cpu_usage\", \"label\": \"cpu_usage\"}, {\"type\": \"number\", \"id\": \"max_cpu_usage\", \"label\": \"max_cpu_usage\"}, {\"type\": \"number\", \"id\": \"free_memory\", \"label\": \"free_memory\"}, {\"type\": \"number\", \"id\": \"min_free_memory\", \"label\": \"min_free_memory\"}, {\"type\": \"number\", \"id\": \"total_memory\", \"label\": \"total_memory\"}, {\"type\": \"number\", \"id\": \"stat_id\", \"label\": \"stat_id\"}, {\"type\": \"number\", \"id\": \"value\", \"label\": \"value\"}, {\"type\": \"number\", \"id\": \"event_id\", \"label\": \"event_id\"}, {\"type\": \"number\", \"id\": \"wait_count\", \"label\": \"wait_count\"}, {\"type\": \"number\", \"id\": \"wait_time\", \"label\": \"wait_time\"}, {\"type\": \"number\", \"id\": \"wait_timeout\", \"label\": \"wait_timeout\"}, {\"type\": \"timestamp\", \"id\": \"time\", \"label\": \"time\"}]},\n",
       "            {\n",
       "              pageSize: 25,\n",
       "              cssClassNames:  {\n",
       "                tableRow: 'gchart-table-row',\n",
       "                headerRow: 'gchart-table-headerrow',\n",
       "                oddTableRow: 'gchart-table-oddrow',\n",
       "                selectedTableRow: 'gchart-table-selectedrow',\n",
       "                hoverTableRow: 'gchart-table-hoverrow',\n",
       "                tableCell: 'gchart-table-cell',\n",
       "                headerCell: 'gchart-table-headercell',\n",
       "                rowNumberCell: 'gchart-table-rownumcell'\n",
       "              }\n",
       "            },\n",
       "            {source_index: 3, fields: 'cpu_usage,max_cpu_usage,free_memory,min_free_memory,total_memory,stat_id,value,event_id,wait_count,wait_time,wait_timeout,time'},\n",
       "            0,\n",
       "            1000);\n",
       "        }\n",
       "      );\n",
       "    </script>\n",
       "  "
      ],
      "text/plain": [
       "QueryResultsTable job_9RN3ASjvmRq--mLpPw1puiJ0iXkH"
      ]
     },
     "execution_count": 28,
     "metadata": {},
     "output_type": "execute_result"
    }
   ],
   "source": [
    "%bq sample --query join --count 1000"
   ]
  },
  {
   "cell_type": "markdown",
   "metadata": {},
   "source": [
    "# join table은 유용할 것 같으므로 프로젝트에 저장을 시켜놓자\n",
    "\n",
    "- 하지만 실패했다.\n",
    "- allotted memory를 초과한다.. **좋은방법을 아시는 분..?**"
   ]
  },
  {
   "cell_type": "code",
   "execution_count": 23,
   "metadata": {
    "collapsed": false
   },
   "outputs": [
    {
     "data": {
      "text/html": [
       "\n",
       "          <script src=\"/static/components/requirejs/require.js\"></script>\n",
       "          <script>\n",
       "            requirejs.config({\n",
       "              paths: {\n",
       "                base: '/static/base',\n",
       "              },\n",
       "            });\n",
       "          </script>\n",
       "          "
      ],
      "text/plain": [
       "<IPython.core.display.HTML object>"
      ]
     },
     "metadata": {},
     "output_type": "display_data"
    },
    {
     "name": "stderr",
     "output_type": "stream",
     "text": [
      "\n",
      "HTTP request failed: Resources exceeded during query execution: The query could not be executed in the allotted memory. ORDER BY operator used too much memory."
     ]
    }
   ],
   "source": [
    "%bq execute --query join --table exem-191100.ods_im5.join_xapm_db_stat1_osstat2_wait3 --large"
   ]
  },
  {
   "cell_type": "code",
   "execution_count": 3,
   "metadata": {
    "collapsed": false
   },
   "outputs": [
    {
     "data": {
      "text/html": [
       "\n",
       "          <script src=\"/static/components/requirejs/require.js\"></script>\n",
       "          <script>\n",
       "            requirejs.config({\n",
       "              paths: {\n",
       "                base: '/static/base',\n",
       "              },\n",
       "            });\n",
       "          </script>\n",
       "          "
      ],
      "text/plain": [
       "<IPython.core.display.HTML object>"
      ]
     },
     "metadata": {},
     "output_type": "display_data"
    },
    {
     "ename": "RequestException",
     "evalue": "HTTP request failed: Resources exceeded during query execution: The query could not be executed in the allotted memory. ORDER BY operator used too much memory.",
     "output_type": "error",
     "traceback": [
      "\u001b[0;31m\u001b[0m",
      "\u001b[0;31mRequestException\u001b[0mTraceback (most recent call last)",
      "\u001b[0;32m<ipython-input-3-f983901014a3>\u001b[0m in \u001b[0;36m<module>\u001b[0;34m()\u001b[0m\n\u001b[1;32m      3\u001b[0m \u001b[0mquery\u001b[0m \u001b[0;34m=\u001b[0m \u001b[0mbq\u001b[0m\u001b[0;34m.\u001b[0m\u001b[0mQuery\u001b[0m\u001b[0;34m(\u001b[0m\u001b[0mjoin_sql\u001b[0m\u001b[0;34m)\u001b[0m\u001b[0;34m\u001b[0m\u001b[0m\n\u001b[1;32m      4\u001b[0m \u001b[0;34m\u001b[0m\u001b[0m\n\u001b[0;32m----> 5\u001b[0;31m \u001b[0mjoin_df\u001b[0m \u001b[0;34m=\u001b[0m \u001b[0mquery\u001b[0m\u001b[0;34m.\u001b[0m\u001b[0mexecute\u001b[0m\u001b[0;34m(\u001b[0m\u001b[0moutput_options\u001b[0m \u001b[0;34m=\u001b[0m \u001b[0mbq\u001b[0m\u001b[0;34m.\u001b[0m\u001b[0mQueryOutput\u001b[0m\u001b[0;34m.\u001b[0m\u001b[0mdataframe\u001b[0m\u001b[0;34m(\u001b[0m\u001b[0;34m)\u001b[0m\u001b[0;34m)\u001b[0m\u001b[0;34m.\u001b[0m\u001b[0mresult\u001b[0m\u001b[0;34m(\u001b[0m\u001b[0;34m)\u001b[0m\u001b[0;34m\u001b[0m\u001b[0m\n\u001b[0m",
      "\u001b[0;32m/usr/local/lib/python2.7/dist-packages/google/datalab/bigquery/_query.pyc\u001b[0m in \u001b[0;36mexecute\u001b[0;34m(self, output_options, sampling, context, query_params)\u001b[0m\n\u001b[1;32m    335\u001b[0m     \"\"\"\n\u001b[1;32m    336\u001b[0m     return self.execute_async(output_options, sampling=sampling, context=context,\n\u001b[0;32m--> 337\u001b[0;31m                               query_params=query_params).wait()\n\u001b[0m",
      "\u001b[0;32m/usr/local/lib/python2.7/dist-packages/google/datalab/bigquery/_query.pyc\u001b[0m in \u001b[0;36mexecute_async\u001b[0;34m(self, output_options, sampling, context, query_params)\u001b[0m\n\u001b[1;32m    309\u001b[0m           }\n\u001b[1;32m    310\u001b[0m       \u001b[0;32melif\u001b[0m \u001b[0moutput_options\u001b[0m\u001b[0;34m.\u001b[0m\u001b[0mtype\u001b[0m \u001b[0;34m==\u001b[0m \u001b[0;34m'dataframe'\u001b[0m\u001b[0;34m:\u001b[0m\u001b[0;34m\u001b[0m\u001b[0m\n\u001b[0;32m--> 311\u001b[0;31m         \u001b[0mexport_func\u001b[0m \u001b[0;34m=\u001b[0m \u001b[0mexecute_job\u001b[0m\u001b[0;34m.\u001b[0m\u001b[0mresult\u001b[0m\u001b[0;34m(\u001b[0m\u001b[0;34m)\u001b[0m\u001b[0;34m.\u001b[0m\u001b[0mto_dataframe\u001b[0m\u001b[0;34m\u001b[0m\u001b[0m\n\u001b[0m\u001b[1;32m    312\u001b[0m         \u001b[0mexport_args\u001b[0m \u001b[0;34m=\u001b[0m \u001b[0;34m[\u001b[0m\u001b[0;34m]\u001b[0m\u001b[0;34m\u001b[0m\u001b[0m\n\u001b[1;32m    313\u001b[0m         export_kwargs = {\n",
      "\u001b[0;32m/usr/local/lib/python2.7/dist-packages/google/datalab/bigquery/_query_job.pyc\u001b[0m in \u001b[0;36mresult\u001b[0;34m(self)\u001b[0m\n\u001b[1;32m    105\u001b[0m       \u001b[0mException\u001b[0m \u001b[0;32mif\u001b[0m \u001b[0mwe\u001b[0m \u001b[0mtimed\u001b[0m \u001b[0mout\u001b[0m \u001b[0mwaiting\u001b[0m \u001b[0;32mfor\u001b[0m \u001b[0mresults\u001b[0m \u001b[0;32mor\u001b[0m \u001b[0mthe\u001b[0m \u001b[0mquery\u001b[0m \u001b[0mfailed\u001b[0m\u001b[0;34m.\u001b[0m\u001b[0;34m\u001b[0m\u001b[0m\n\u001b[1;32m    106\u001b[0m     \"\"\"\n\u001b[0;32m--> 107\u001b[0;31m     \u001b[0mself\u001b[0m\u001b[0;34m.\u001b[0m\u001b[0mwait\u001b[0m\u001b[0;34m(\u001b[0m\u001b[0;34m)\u001b[0m\u001b[0;34m\u001b[0m\u001b[0m\n\u001b[0m\u001b[1;32m    108\u001b[0m     \u001b[0;32mif\u001b[0m \u001b[0mself\u001b[0m\u001b[0;34m.\u001b[0m\u001b[0mfailed\u001b[0m\u001b[0;34m:\u001b[0m\u001b[0;34m\u001b[0m\u001b[0m\n\u001b[1;32m    109\u001b[0m       \u001b[0;32mraise\u001b[0m \u001b[0mException\u001b[0m\u001b[0;34m(\u001b[0m\u001b[0;34m'Query failed: %s'\u001b[0m \u001b[0;34m%\u001b[0m \u001b[0mstr\u001b[0m\u001b[0;34m(\u001b[0m\u001b[0mself\u001b[0m\u001b[0;34m.\u001b[0m\u001b[0merrors\u001b[0m\u001b[0;34m)\u001b[0m\u001b[0;34m)\u001b[0m\u001b[0;34m\u001b[0m\u001b[0m\n",
      "\u001b[0;32m/usr/local/lib/python2.7/dist-packages/google/datalab/bigquery/_query_job.pyc\u001b[0m in \u001b[0;36mwait\u001b[0;34m(self, timeout)\u001b[0m\n\u001b[1;32m     82\u001b[0m                                                     timeout=poll * 1000)\n\u001b[1;32m     83\u001b[0m       \u001b[0;32mexcept\u001b[0m \u001b[0mException\u001b[0m \u001b[0;32mas\u001b[0m \u001b[0me\u001b[0m\u001b[0;34m:\u001b[0m\u001b[0;34m\u001b[0m\u001b[0m\n\u001b[0;32m---> 84\u001b[0;31m         \u001b[0;32mraise\u001b[0m \u001b[0me\u001b[0m\u001b[0;34m\u001b[0m\u001b[0m\n\u001b[0m\u001b[1;32m     85\u001b[0m       \u001b[0;32mif\u001b[0m \u001b[0mquery_result\u001b[0m\u001b[0;34m[\u001b[0m\u001b[0;34m'jobComplete'\u001b[0m\u001b[0;34m]\u001b[0m\u001b[0;34m:\u001b[0m\u001b[0;34m\u001b[0m\u001b[0m\n\u001b[1;32m     86\u001b[0m         \u001b[0;32mif\u001b[0m \u001b[0;34m'totalBytesProcessed'\u001b[0m \u001b[0;32min\u001b[0m \u001b[0mquery_result\u001b[0m\u001b[0;34m:\u001b[0m\u001b[0;34m\u001b[0m\u001b[0m\n",
      "\u001b[0;31mRequestException\u001b[0m: HTTP request failed: Resources exceeded during query execution: The query could not be executed in the allotted memory. ORDER BY operator used too much memory."
     ]
    }
   ],
   "source": [
    "join_sql = 'SELECT t1_os.cpu_usage, t1_os.max_cpu_usage, t1_os.free_memory, t1_os.min_free_memory, t1_os.total_memory, t2_st.stat_id, t2_st.value, t3_wa.event_id, t3_wa.wait_count, t3_wa.wait_time, t3_wa.wait_timeout, t1_os.time FROM `exem-191100.ods_im5.xapm_db_os_stat` as t1_os, `exem-191100.ods_im5.xapm_db_stat` as t2_st, `exem-191100.ods_im5.xapm_db_wait` as t3_wa WHERE t1_os.db_id = 6 and t2_st.db_id = 6 and t3_wa.db_id = 6 and t1_os.time = t2_st.time and t2_st.time = t3_wa.time ORDER BY t1_os.time, stat_id, event_id'\n",
    "\n",
    "query = bq.Query(join_sql)\n",
    "\n",
    "join_df = query.execute(output_options = bq.QueryOutput.dataframe()).result()"
   ]
  },
  {
   "cell_type": "markdown",
   "metadata": {},
   "source": [
    "**이것 또한 양이 많아서 메모리를 초과한다..!**"
   ]
  },
  {
   "cell_type": "code",
   "execution_count": null,
   "metadata": {
    "collapsed": true
   },
   "outputs": [],
   "source": []
  }
 ],
 "metadata": {
  "kernelspec": {
   "display_name": "Python 2",
   "language": "python",
   "name": "python2"
  },
  "language_info": {
   "codemirror_mode": {
    "name": "ipython",
    "version": 2
   },
   "file_extension": ".py",
   "mimetype": "text/x-python",
   "name": "python",
   "nbconvert_exporter": "python",
   "pygments_lexer": "ipython2",
   "version": "2.7.12"
  }
 },
 "nbformat": 4,
 "nbformat_minor": 2
}
