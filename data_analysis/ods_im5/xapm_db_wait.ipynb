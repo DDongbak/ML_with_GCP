{
 "cells": [
  {
   "cell_type": "markdown",
   "metadata": {},
   "source": [
    "# xapm_db_wait 데이터 분석\n",
    "\n",
    "by pdm"
   ]
  },
  {
   "cell_type": "code",
<<<<<<< HEAD
   "execution_count": 16,
=======
   "execution_count": 6,
>>>>>>> yh_dev
   "metadata": {
    "collapsed": false
   },
   "outputs": [
    {
     "data": {
      "text/html": [
       "\n",
       "          <script src=\"/static/components/requirejs/require.js\"></script>\n",
       "          <script>\n",
       "            requirejs.config({\n",
       "              paths: {\n",
       "                base: '/static/base',\n",
       "              },\n",
       "            });\n",
       "          </script>\n",
       "          "
      ],
      "text/plain": [
       "<IPython.core.display.HTML object>"
      ]
     },
     "metadata": {},
     "output_type": "display_data"
    }
   ],
   "source": [
    "from __future__ import division\n",
    "import google.datalab.bigquery as bq\n",
    "import matplotlib.pyplot as plot\n",
    "import numpy as np\n",
    "import pandas as pd"
   ]
  },
  {
   "cell_type": "markdown",
   "metadata": {},
   "source": [
    "# xapm_db_wait 의 DB 종류 알아보기"
   ]
  },
  {
   "cell_type": "code",
<<<<<<< HEAD
   "execution_count": 6,
=======
   "execution_count": 7,
>>>>>>> yh_dev
   "metadata": {
    "collapsed": false
   },
   "outputs": [
    {
     "data": {
      "text/html": [
       "\n",
       "          <script src=\"/static/components/requirejs/require.js\"></script>\n",
       "          <script>\n",
       "            requirejs.config({\n",
       "              paths: {\n",
       "                base: '/static/base',\n",
       "              },\n",
       "            });\n",
       "          </script>\n",
       "          "
      ],
      "text/plain": [
       "<IPython.core.display.HTML object>"
      ]
     },
     "metadata": {},
     "output_type": "display_data"
    }
   ],
   "source": [
    "%%bq query --name dbcounting\n",
    "SELECT db_id\n",
    "FROM `exem-191100.ods_im5.xapm_db_wait`\n",
    "GROUP BY db_id"
   ]
  },
  {
   "cell_type": "code",
<<<<<<< HEAD
   "execution_count": 7,
=======
   "execution_count": 8,
>>>>>>> yh_dev
   "metadata": {
    "collapsed": false
   },
   "outputs": [
    {
     "data": {
      "text/html": [
       "\n",
       "          <script src=\"/static/components/requirejs/require.js\"></script>\n",
       "          <script>\n",
       "            requirejs.config({\n",
       "              paths: {\n",
       "                base: '/static/base',\n",
       "              },\n",
       "            });\n",
       "          </script>\n",
       "          "
      ],
      "text/plain": [
       "<IPython.core.display.HTML object>"
      ]
     },
     "metadata": {},
     "output_type": "display_data"
    },
    {
     "data": {
      "text/html": [
       "\n",
<<<<<<< HEAD
       "    <div class=\"bqtv\" id=\"1_151547017874\"><table><tr><th>db_id</th></tr><tr><td>6</td></tr><tr><td>13</td></tr><tr><td>16</td></tr></table></div>\n",
       "    <br />(rows: 3, time: 2.4s,   132MB processed, job: job_fcCrRaOG4W1-MGaHqSOfeE45qHwa)<br />\n",
=======
       "    <div class=\"bqtv\" id=\"1_151555007382\"><table><tr><th>db_id</th></tr><tr><td>6</td></tr><tr><td>13</td></tr><tr><td>16</td></tr></table></div>\n",
       "    <br />(rows: 3, time: 0.3s, cached, job: job_vZbXK0VvUSP05S5Vhz6QYhdUmBLh)<br />\n",
>>>>>>> yh_dev
       "    <script>\n",
       "\n",
       "      require.config({\n",
       "        paths: {\n",
       "          d3: '//cdnjs.cloudflare.com/ajax/libs/d3/3.4.13/d3',\n",
       "          plotly: 'https://cdn.plot.ly/plotly-1.5.1.min.js?noext',\n",
       "          jquery: '//ajax.googleapis.com/ajax/libs/jquery/2.0.0/jquery.min'\n",
       "        },\n",
       "        map: {\n",
       "          '*': {\n",
       "            datalab: 'nbextensions/gcpdatalab'\n",
       "          }\n",
       "        },\n",
       "        shim: {\n",
       "          plotly: {\n",
       "            deps: ['d3', 'jquery'],\n",
       "            exports: 'plotly'\n",
       "          }\n",
       "        }\n",
       "      });\n",
       "\n",
<<<<<<< HEAD
       "      require(['datalab/charting', 'datalab/element!1_151547017874', 'base/js/events',\n",
=======
       "      require(['datalab/charting', 'datalab/element!1_151555007382', 'base/js/events',\n",
>>>>>>> yh_dev
       "          'datalab/style!/nbextensions/gcpdatalab/charting.css'],\n",
       "        function(charts, dom, events) {\n",
       "          charts.render('gcharts', dom, events, 'table', [], {\"rows\": [{\"c\": [{\"v\": 6}]}, {\"c\": [{\"v\": 13}]}, {\"c\": [{\"v\": 16}]}], \"cols\": [{\"type\": \"number\", \"id\": \"db_id\", \"label\": \"db_id\"}]},\n",
       "            {\n",
       "              pageSize: 25,\n",
       "              cssClassNames:  {\n",
       "                tableRow: 'gchart-table-row',\n",
       "                headerRow: 'gchart-table-headerrow',\n",
       "                oddTableRow: 'gchart-table-oddrow',\n",
       "                selectedTableRow: 'gchart-table-selectedrow',\n",
       "                hoverTableRow: 'gchart-table-hoverrow',\n",
       "                tableCell: 'gchart-table-cell',\n",
       "                headerCell: 'gchart-table-headercell',\n",
       "                rowNumberCell: 'gchart-table-rownumcell'\n",
       "              }\n",
       "            },\n",
       "            {source_index: 0, fields: 'db_id'},\n",
       "            0,\n",
       "            3);\n",
       "        }\n",
       "      );\n",
       "    </script>\n",
       "  "
      ],
      "text/plain": [
<<<<<<< HEAD
       "QueryResultsTable job_fcCrRaOG4W1-MGaHqSOfeE45qHwa"
      ]
     },
     "execution_count": 7,
=======
       "QueryResultsTable job_vZbXK0VvUSP05S5Vhz6QYhdUmBLh"
      ]
     },
     "execution_count": 8,
>>>>>>> yh_dev
     "metadata": {},
     "output_type": "execute_result"
    }
   ],
   "source": [
    "%%bq sample --query dbcounting"
   ]
  },
  {
   "cell_type": "markdown",
   "metadata": {},
   "source": [
    "여기에도 {6, 13, 16} 의 id를 가진 db만 있음을 알 수 있다."
   ]
  },
  {
   "cell_type": "markdown",
   "metadata": {},
   "source": [
    "# xapm_db_wait에서 db_id = 6 에 대해 wait가 0이 아닌 값 추출"
   ]
  },
  {
   "cell_type": "code",
<<<<<<< HEAD
   "execution_count": 25,
=======
   "execution_count": 9,
>>>>>>> yh_dev
   "metadata": {
    "collapsed": false
   },
   "outputs": [
    {
     "data": {
      "text/html": [
       "\n",
       "          <script src=\"/static/components/requirejs/require.js\"></script>\n",
       "          <script>\n",
       "            requirejs.config({\n",
       "              paths: {\n",
       "                base: '/static/base',\n",
       "              },\n",
       "            });\n",
       "          </script>\n",
       "          "
      ],
      "text/plain": [
       "<IPython.core.display.HTML object>"
      ]
     },
     "metadata": {},
     "output_type": "display_data"
    }
   ],
   "source": [
    "%%bq query --name nonzeroextracting\n",
    "SELECT db_id, event_id, wait_count, wait_time, wait_timeout, time\n",
    "FROM `exem-191100.ods_im5.xapm_db_wait`\n",
    "WHERE db_id = 6 and wait_time <> 0\n",
    "ORDER BY event_id"
   ]
  },
  {
   "cell_type": "code",
<<<<<<< HEAD
   "execution_count": 26,
=======
   "execution_count": 10,
>>>>>>> yh_dev
   "metadata": {
    "collapsed": false
   },
   "outputs": [
    {
     "data": {
      "text/html": [
       "\n",
       "          <script src=\"/static/components/requirejs/require.js\"></script>\n",
       "          <script>\n",
       "            requirejs.config({\n",
       "              paths: {\n",
       "                base: '/static/base',\n",
       "              },\n",
       "            });\n",
       "          </script>\n",
       "          "
      ],
      "text/plain": [
       "<IPython.core.display.HTML object>"
      ]
     },
     "metadata": {},
     "output_type": "display_data"
    },
    {
     "data": {
      "text/html": [
       "\n",
<<<<<<< HEAD
       "    <div class=\"bqtv\" id=\"8_151547195318\"><table><tr><th>db_id</th><th>event_id</th><th>wait_count</th><th>wait_time</th><th>wait_timeout</th><th>time</th></tr><tr><td>6</td><td>1</td><td>1</td><td>300</td><td>1</td><td>2017-11-07 16:20:00</td></tr><tr><td>6</td><td>1</td><td>1</td><td>300</td><td>1</td><td>2017-11-09 09:41:00</td></tr><tr><td>6</td><td>1</td><td>1</td><td>300</td><td>1</td><td>2017-11-06 00:44:00</td></tr><tr><td>6</td><td>1</td><td>0</td><td>300</td><td>1</td><td>2017-11-12 14:46:00</td></tr><tr><td>6</td><td>1</td><td>1</td><td>300</td><td>1</td><td>2017-11-09 15:04:00</td></tr><tr><td>6</td><td>1</td><td>1</td><td>300</td><td>1</td><td>2017-11-07 14:27:00</td></tr><tr><td>6</td><td>1</td><td>1</td><td>300</td><td>1</td><td>2017-11-06 17:13:00</td></tr><tr><td>6</td><td>1</td><td>1</td><td>300</td><td>1</td><td>2017-11-06 03:48:00</td></tr><tr><td>6</td><td>1</td><td>1</td><td>300</td><td>1</td><td>2017-11-05 22:58:00</td></tr><tr><td>6</td><td>1</td><td>1</td><td>300</td><td>1</td><td>2017-11-12 01:28:00</td></tr><tr><td>6</td><td>1</td><td>1</td><td>300</td><td>1</td><td>2017-11-10 09:17:00</td></tr><tr><td>6</td><td>1</td><td>1</td><td>300</td><td>1</td><td>2017-11-05 00:23:00</td></tr><tr><td>6</td><td>1</td><td>1</td><td>300</td><td>1</td><td>2017-11-08 09:28:00</td></tr><tr><td>6</td><td>1</td><td>1</td><td>300</td><td>1</td><td>2017-11-04 23:33:00</td></tr><tr><td>6</td><td>1</td><td>1</td><td>300</td><td>1</td><td>2017-11-11 04:19:00</td></tr><tr><td>6</td><td>1</td><td>1</td><td>300</td><td>1</td><td>2017-11-08 12:54:00</td></tr><tr><td>6</td><td>1</td><td>1</td><td>300</td><td>1</td><td>2017-11-08 15:22:00</td></tr><tr><td>6</td><td>1</td><td>0</td><td>300</td><td>1</td><td>2017-11-05 02:30:00</td></tr><tr><td>6</td><td>1</td><td>1</td><td>300</td><td>1</td><td>2017-11-07 08:21:00</td></tr><tr><td>6</td><td>1</td><td>1</td><td>300</td><td>1</td><td>2017-11-06 01:59:00</td></tr><tr><td>6</td><td>1</td><td>1</td><td>300</td><td>1</td><td>2017-11-14 00:16:00</td></tr><tr><td>6</td><td>1</td><td>1</td><td>300</td><td>1</td><td>2017-11-10 12:08:00</td></tr><tr><td>6</td><td>1</td><td>1</td><td>300</td><td>1</td><td>2017-11-07 12:35:00</td></tr><tr><td>6</td><td>1</td><td>0</td><td>300</td><td>1</td><td>2017-11-05 03:26:00</td></tr><tr><td>6</td><td>1</td><td>1</td><td>300</td><td>1</td><td>2017-11-08 08:25:00</td></tr></table></div>\n",
       "    <br />(rows: 100, time: 0.6s, cached, job: job_jxTdMDVrlakxuV100iTCeEWtLOhL)<br />\n",
=======
       "    <div class=\"bqtv\" id=\"2_151555007539\"><table><tr><th>db_id</th><th>event_id</th><th>wait_count</th><th>wait_time</th><th>wait_timeout</th><th>time</th></tr><tr><td>6</td><td>1</td><td>1</td><td>300</td><td>1</td><td>2017-11-07 16:20:00</td></tr><tr><td>6</td><td>1</td><td>1</td><td>300</td><td>1</td><td>2017-11-09 09:41:00</td></tr><tr><td>6</td><td>1</td><td>1</td><td>300</td><td>1</td><td>2017-11-06 00:44:00</td></tr><tr><td>6</td><td>1</td><td>0</td><td>300</td><td>1</td><td>2017-11-12 14:46:00</td></tr><tr><td>6</td><td>1</td><td>1</td><td>300</td><td>1</td><td>2017-11-09 15:04:00</td></tr><tr><td>6</td><td>1</td><td>1</td><td>300</td><td>1</td><td>2017-11-07 14:27:00</td></tr><tr><td>6</td><td>1</td><td>1</td><td>300</td><td>1</td><td>2017-11-06 17:13:00</td></tr><tr><td>6</td><td>1</td><td>1</td><td>300</td><td>1</td><td>2017-11-06 03:48:00</td></tr><tr><td>6</td><td>1</td><td>1</td><td>300</td><td>1</td><td>2017-11-05 22:58:00</td></tr><tr><td>6</td><td>1</td><td>1</td><td>300</td><td>1</td><td>2017-11-12 01:28:00</td></tr><tr><td>6</td><td>1</td><td>1</td><td>300</td><td>1</td><td>2017-11-10 09:17:00</td></tr><tr><td>6</td><td>1</td><td>1</td><td>300</td><td>1</td><td>2017-11-05 00:23:00</td></tr><tr><td>6</td><td>1</td><td>1</td><td>300</td><td>1</td><td>2017-11-08 09:28:00</td></tr><tr><td>6</td><td>1</td><td>1</td><td>300</td><td>1</td><td>2017-11-04 23:33:00</td></tr><tr><td>6</td><td>1</td><td>1</td><td>300</td><td>1</td><td>2017-11-11 04:19:00</td></tr><tr><td>6</td><td>1</td><td>1</td><td>300</td><td>1</td><td>2017-11-08 12:54:00</td></tr><tr><td>6</td><td>1</td><td>1</td><td>300</td><td>1</td><td>2017-11-08 15:22:00</td></tr><tr><td>6</td><td>1</td><td>0</td><td>300</td><td>1</td><td>2017-11-05 02:30:00</td></tr><tr><td>6</td><td>1</td><td>1</td><td>300</td><td>1</td><td>2017-11-07 08:21:00</td></tr><tr><td>6</td><td>1</td><td>1</td><td>300</td><td>1</td><td>2017-11-06 01:59:00</td></tr><tr><td>6</td><td>1</td><td>1</td><td>300</td><td>1</td><td>2017-11-14 00:16:00</td></tr><tr><td>6</td><td>1</td><td>1</td><td>300</td><td>1</td><td>2017-11-10 12:08:00</td></tr><tr><td>6</td><td>1</td><td>1</td><td>300</td><td>1</td><td>2017-11-07 12:35:00</td></tr><tr><td>6</td><td>1</td><td>0</td><td>300</td><td>1</td><td>2017-11-05 03:26:00</td></tr><tr><td>6</td><td>1</td><td>1</td><td>300</td><td>1</td><td>2017-11-08 08:25:00</td></tr></table></div>\n",
       "    <br />(rows: 100, time: 0.2s, cached, job: job_zn5E5qrafbSUqzmXzI8OcVwmi89V)<br />\n",
>>>>>>> yh_dev
       "    <script>\n",
       "\n",
       "      require.config({\n",
       "        paths: {\n",
       "          d3: '//cdnjs.cloudflare.com/ajax/libs/d3/3.4.13/d3',\n",
       "          plotly: 'https://cdn.plot.ly/plotly-1.5.1.min.js?noext',\n",
       "          jquery: '//ajax.googleapis.com/ajax/libs/jquery/2.0.0/jquery.min'\n",
       "        },\n",
       "        map: {\n",
       "          '*': {\n",
       "            datalab: 'nbextensions/gcpdatalab'\n",
       "          }\n",
       "        },\n",
       "        shim: {\n",
       "          plotly: {\n",
       "            deps: ['d3', 'jquery'],\n",
       "            exports: 'plotly'\n",
       "          }\n",
       "        }\n",
       "      });\n",
       "\n",
<<<<<<< HEAD
       "      require(['datalab/charting', 'datalab/element!8_151547195318', 'base/js/events',\n",
=======
       "      require(['datalab/charting', 'datalab/element!2_151555007539', 'base/js/events',\n",
>>>>>>> yh_dev
       "          'datalab/style!/nbextensions/gcpdatalab/charting.css'],\n",
       "        function(charts, dom, events) {\n",
       "          charts.render('gcharts', dom, events, 'paged_table', [], {\"rows\": [{\"c\": [{\"v\": 6}, {\"v\": 1}, {\"v\": 1}, {\"v\": 300}, {\"v\": 1}, {\"v\": \"2017-11-07T16:20:00\"}]}, {\"c\": [{\"v\": 6}, {\"v\": 1}, {\"v\": 1}, {\"v\": 300}, {\"v\": 1}, {\"v\": \"2017-11-09T09:41:00\"}]}, {\"c\": [{\"v\": 6}, {\"v\": 1}, {\"v\": 1}, {\"v\": 300}, {\"v\": 1}, {\"v\": \"2017-11-06T00:44:00\"}]}, {\"c\": [{\"v\": 6}, {\"v\": 1}, {\"v\": 0}, {\"v\": 300}, {\"v\": 1}, {\"v\": \"2017-11-12T14:46:00\"}]}, {\"c\": [{\"v\": 6}, {\"v\": 1}, {\"v\": 1}, {\"v\": 300}, {\"v\": 1}, {\"v\": \"2017-11-09T15:04:00\"}]}, {\"c\": [{\"v\": 6}, {\"v\": 1}, {\"v\": 1}, {\"v\": 300}, {\"v\": 1}, {\"v\": \"2017-11-07T14:27:00\"}]}, {\"c\": [{\"v\": 6}, {\"v\": 1}, {\"v\": 1}, {\"v\": 300}, {\"v\": 1}, {\"v\": \"2017-11-06T17:13:00\"}]}, {\"c\": [{\"v\": 6}, {\"v\": 1}, {\"v\": 1}, {\"v\": 300}, {\"v\": 1}, {\"v\": \"2017-11-06T03:48:00\"}]}, {\"c\": [{\"v\": 6}, {\"v\": 1}, {\"v\": 1}, {\"v\": 300}, {\"v\": 1}, {\"v\": \"2017-11-05T22:58:00\"}]}, {\"c\": [{\"v\": 6}, {\"v\": 1}, {\"v\": 1}, {\"v\": 300}, {\"v\": 1}, {\"v\": \"2017-11-12T01:28:00\"}]}, {\"c\": [{\"v\": 6}, {\"v\": 1}, {\"v\": 1}, {\"v\": 300}, {\"v\": 1}, {\"v\": \"2017-11-10T09:17:00\"}]}, {\"c\": [{\"v\": 6}, {\"v\": 1}, {\"v\": 1}, {\"v\": 300}, {\"v\": 1}, {\"v\": \"2017-11-05T00:23:00\"}]}, {\"c\": [{\"v\": 6}, {\"v\": 1}, {\"v\": 1}, {\"v\": 300}, {\"v\": 1}, {\"v\": \"2017-11-08T09:28:00\"}]}, {\"c\": [{\"v\": 6}, {\"v\": 1}, {\"v\": 1}, {\"v\": 300}, {\"v\": 1}, {\"v\": \"2017-11-04T23:33:00\"}]}, {\"c\": [{\"v\": 6}, {\"v\": 1}, {\"v\": 1}, {\"v\": 300}, {\"v\": 1}, {\"v\": \"2017-11-11T04:19:00\"}]}, {\"c\": [{\"v\": 6}, {\"v\": 1}, {\"v\": 1}, {\"v\": 300}, {\"v\": 1}, {\"v\": \"2017-11-08T12:54:00\"}]}, {\"c\": [{\"v\": 6}, {\"v\": 1}, {\"v\": 1}, {\"v\": 300}, {\"v\": 1}, {\"v\": \"2017-11-08T15:22:00\"}]}, {\"c\": [{\"v\": 6}, {\"v\": 1}, {\"v\": 0}, {\"v\": 300}, {\"v\": 1}, {\"v\": \"2017-11-05T02:30:00\"}]}, {\"c\": [{\"v\": 6}, {\"v\": 1}, {\"v\": 1}, {\"v\": 300}, {\"v\": 1}, {\"v\": \"2017-11-07T08:21:00\"}]}, {\"c\": [{\"v\": 6}, {\"v\": 1}, {\"v\": 1}, {\"v\": 300}, {\"v\": 1}, {\"v\": \"2017-11-06T01:59:00\"}]}, {\"c\": [{\"v\": 6}, {\"v\": 1}, {\"v\": 1}, {\"v\": 300}, {\"v\": 1}, {\"v\": \"2017-11-14T00:16:00\"}]}, {\"c\": [{\"v\": 6}, {\"v\": 1}, {\"v\": 1}, {\"v\": 300}, {\"v\": 1}, {\"v\": \"2017-11-10T12:08:00\"}]}, {\"c\": [{\"v\": 6}, {\"v\": 1}, {\"v\": 1}, {\"v\": 300}, {\"v\": 1}, {\"v\": \"2017-11-07T12:35:00\"}]}, {\"c\": [{\"v\": 6}, {\"v\": 1}, {\"v\": 0}, {\"v\": 300}, {\"v\": 1}, {\"v\": \"2017-11-05T03:26:00\"}]}, {\"c\": [{\"v\": 6}, {\"v\": 1}, {\"v\": 1}, {\"v\": 300}, {\"v\": 1}, {\"v\": \"2017-11-08T08:25:00\"}]}], \"cols\": [{\"type\": \"number\", \"id\": \"db_id\", \"label\": \"db_id\"}, {\"type\": \"number\", \"id\": \"event_id\", \"label\": \"event_id\"}, {\"type\": \"number\", \"id\": \"wait_count\", \"label\": \"wait_count\"}, {\"type\": \"number\", \"id\": \"wait_time\", \"label\": \"wait_time\"}, {\"type\": \"number\", \"id\": \"wait_timeout\", \"label\": \"wait_timeout\"}, {\"type\": \"timestamp\", \"id\": \"time\", \"label\": \"time\"}]},\n",
       "            {\n",
       "              pageSize: 25,\n",
       "              cssClassNames:  {\n",
       "                tableRow: 'gchart-table-row',\n",
       "                headerRow: 'gchart-table-headerrow',\n",
       "                oddTableRow: 'gchart-table-oddrow',\n",
       "                selectedTableRow: 'gchart-table-selectedrow',\n",
       "                hoverTableRow: 'gchart-table-hoverrow',\n",
       "                tableCell: 'gchart-table-cell',\n",
       "                headerCell: 'gchart-table-headercell',\n",
       "                rowNumberCell: 'gchart-table-rownumcell'\n",
       "              }\n",
       "            },\n",
<<<<<<< HEAD
       "            {source_index: 5, fields: 'db_id,event_id,wait_count,wait_time,wait_timeout,time'},\n",
=======
       "            {source_index: 1, fields: 'db_id,event_id,wait_count,wait_time,wait_timeout,time'},\n",
>>>>>>> yh_dev
       "            0,\n",
       "            100);\n",
       "        }\n",
       "      );\n",
       "    </script>\n",
       "  "
      ],
      "text/plain": [
<<<<<<< HEAD
       "QueryResultsTable job_jxTdMDVrlakxuV100iTCeEWtLOhL"
      ]
     },
     "execution_count": 26,
=======
       "QueryResultsTable job_zn5E5qrafbSUqzmXzI8OcVwmi89V"
      ]
     },
     "execution_count": 10,
>>>>>>> yh_dev
     "metadata": {},
     "output_type": "execute_result"
    }
   ],
   "source": [
    "%%bq sample --query nonzeroextracting --count 100"
   ]
  },
  {
   "cell_type": "code",
<<<<<<< HEAD
   "execution_count": 18,
=======
   "execution_count": 11,
>>>>>>> yh_dev
   "metadata": {
    "collapsed": false
   },
   "outputs": [
    {
     "data": {
      "text/html": [
       "\n",
       "          <script src=\"/static/components/requirejs/require.js\"></script>\n",
       "          <script>\n",
       "            requirejs.config({\n",
       "              paths: {\n",
       "                base: '/static/base',\n",
       "              },\n",
       "            });\n",
       "          </script>\n",
       "          "
      ],
      "text/plain": [
       "<IPython.core.display.HTML object>"
      ]
     },
     "metadata": {},
     "output_type": "display_data"
    }
   ],
   "source": [
    "%%bq query --name nonzerocounting\n",
    "SELECT COUNT(event_id) as count\n",
    "FROM (\n",
    "  SELECT db_id, event_id, wait_count, wait_time, wait_timeout, time\n",
    "  FROM `exem-191100.ods_im5.xapm_db_wait`\n",
    "  WHERE db_id = 6 and wait_time > 300\n",
    "  ORDER BY event_id)"
   ]
  },
  {
   "cell_type": "code",
<<<<<<< HEAD
   "execution_count": 19,
=======
   "execution_count": 12,
>>>>>>> yh_dev
   "metadata": {
    "collapsed": false
   },
   "outputs": [
    {
     "data": {
      "text/html": [
       "\n",
       "          <script src=\"/static/components/requirejs/require.js\"></script>\n",
       "          <script>\n",
       "            requirejs.config({\n",
       "              paths: {\n",
       "                base: '/static/base',\n",
       "              },\n",
       "            });\n",
       "          </script>\n",
       "          "
      ],
      "text/plain": [
       "<IPython.core.display.HTML object>"
      ]
     },
     "metadata": {},
     "output_type": "display_data"
    },
    {
     "data": {
      "text/html": [
       "\n",
<<<<<<< HEAD
       "    <div class=\"bqtv\" id=\"9_151548197666\"><table><tr><th>count</th></tr><tr><td>182047</td></tr></table></div>\n",
       "    <br />(rows: 1, time: 1.2s,   398MB processed, job: job_FHwQhWGBdpXBpPUQrZCAXeXS9yN0)<br />\n",
=======
       "    <div class=\"bqtv\" id=\"3_151555007700\"><table><tr><th>count</th></tr><tr><td>182047</td></tr></table></div>\n",
       "    <br />(rows: 1, time: 0.2s, cached, job: job_8rUGt3931kBewR_Wq5MAgicaOhXC)<br />\n",
>>>>>>> yh_dev
       "    <script>\n",
       "\n",
       "      require.config({\n",
       "        paths: {\n",
       "          d3: '//cdnjs.cloudflare.com/ajax/libs/d3/3.4.13/d3',\n",
       "          plotly: 'https://cdn.plot.ly/plotly-1.5.1.min.js?noext',\n",
       "          jquery: '//ajax.googleapis.com/ajax/libs/jquery/2.0.0/jquery.min'\n",
       "        },\n",
       "        map: {\n",
       "          '*': {\n",
       "            datalab: 'nbextensions/gcpdatalab'\n",
       "          }\n",
       "        },\n",
       "        shim: {\n",
       "          plotly: {\n",
       "            deps: ['d3', 'jquery'],\n",
       "            exports: 'plotly'\n",
       "          }\n",
       "        }\n",
       "      });\n",
       "\n",
<<<<<<< HEAD
       "      require(['datalab/charting', 'datalab/element!9_151548197666', 'base/js/events',\n",
=======
       "      require(['datalab/charting', 'datalab/element!3_151555007700', 'base/js/events',\n",
>>>>>>> yh_dev
       "          'datalab/style!/nbextensions/gcpdatalab/charting.css'],\n",
       "        function(charts, dom, events) {\n",
       "          charts.render('gcharts', dom, events, 'table', [], {\"rows\": [{\"c\": [{\"v\": 182047}]}], \"cols\": [{\"type\": \"number\", \"id\": \"count\", \"label\": \"count\"}]},\n",
       "            {\n",
       "              pageSize: 25,\n",
       "              cssClassNames:  {\n",
       "                tableRow: 'gchart-table-row',\n",
       "                headerRow: 'gchart-table-headerrow',\n",
       "                oddTableRow: 'gchart-table-oddrow',\n",
       "                selectedTableRow: 'gchart-table-selectedrow',\n",
       "                hoverTableRow: 'gchart-table-hoverrow',\n",
       "                tableCell: 'gchart-table-cell',\n",
       "                headerCell: 'gchart-table-headercell',\n",
       "                rowNumberCell: 'gchart-table-rownumcell'\n",
       "              }\n",
       "            },\n",
<<<<<<< HEAD
       "            {source_index: 8, fields: 'count'},\n",
=======
       "            {source_index: 2, fields: 'count'},\n",
>>>>>>> yh_dev
       "            0,\n",
       "            1);\n",
       "        }\n",
       "      );\n",
       "    </script>\n",
       "  "
      ],
      "text/plain": [
<<<<<<< HEAD
       "QueryResultsTable job_FHwQhWGBdpXBpPUQrZCAXeXS9yN0"
      ]
     },
     "execution_count": 19,
=======
       "QueryResultsTable job_8rUGt3931kBewR_Wq5MAgicaOhXC"
      ]
     },
     "execution_count": 12,
>>>>>>> yh_dev
     "metadata": {},
     "output_type": "execute_result"
    }
   ],
   "source": [
    "%%bq sample --query nonzerocounting"
   ]
  },
  {
   "cell_type": "markdown",
   "metadata": {},
   "source": [
    "총 5416312 개의 (BigQuery 걍돌려봄) db_id = 6 인 row 중 544,832 가 io나 lock 대기 같은 wait 상태에 빠졌음을 알 수 있다.\n",
    "**0.10059096 의 비율**의 event 가 wait를 하고 있다."
   ]
  },
  {
   "cell_type": "code",
<<<<<<< HEAD
   "execution_count": 28,
=======
   "execution_count": 13,
>>>>>>> yh_dev
   "metadata": {
    "collapsed": false
   },
   "outputs": [
    {
     "data": {
      "text/html": [
       "\n",
       "          <script src=\"/static/components/requirejs/require.js\"></script>\n",
       "          <script>\n",
       "            requirejs.config({\n",
       "              paths: {\n",
       "                base: '/static/base',\n",
       "              },\n",
       "            });\n",
       "          </script>\n",
       "          "
      ],
      "text/plain": [
       "<IPython.core.display.HTML object>"
      ]
     },
     "metadata": {},
     "output_type": "display_data"
    }
   ],
   "source": [
    "%%bq query --name counting_event_id\n",
    "SELECT COUNT(event_id) as count\n",
    "FROM (\n",
    "  SELECT event_id\n",
    "  FROM `exem-191100.ods_im5.xapm_db_wait`\n",
    "  WHERE db_id = 6\n",
    "  GROUP BY event_id)"
   ]
  },
  {
   "cell_type": "code",
<<<<<<< HEAD
   "execution_count": 29,
=======
   "execution_count": 14,
>>>>>>> yh_dev
   "metadata": {
    "collapsed": false
   },
   "outputs": [
    {
     "data": {
      "text/html": [
       "\n",
       "          <script src=\"/static/components/requirejs/require.js\"></script>\n",
       "          <script>\n",
       "            requirejs.config({\n",
       "              paths: {\n",
       "                base: '/static/base',\n",
       "              },\n",
       "            });\n",
       "          </script>\n",
       "          "
      ],
      "text/plain": [
       "<IPython.core.display.HTML object>"
      ]
     },
     "metadata": {},
     "output_type": "display_data"
    },
    {
     "data": {
      "text/html": [
       "\n",
<<<<<<< HEAD
       "    <div class=\"bqtv\" id=\"9_151547203634\"><table><tr><th>count</th></tr><tr><td>122</td></tr></table></div>\n",
       "    <br />(rows: 1, time: 1.6s,   265MB processed, job: job_pukjRYDiq0j7LW0Z7VWMTM4pJRVs)<br />\n",
=======
       "    <div class=\"bqtv\" id=\"4_151555007850\"><table><tr><th>count</th></tr><tr><td>122</td></tr></table></div>\n",
       "    <br />(rows: 1, time: 0.2s, cached, job: job_SPQvVa4nuhEhrgZhcVzZsqIAIsjJ)<br />\n",
>>>>>>> yh_dev
       "    <script>\n",
       "\n",
       "      require.config({\n",
       "        paths: {\n",
       "          d3: '//cdnjs.cloudflare.com/ajax/libs/d3/3.4.13/d3',\n",
       "          plotly: 'https://cdn.plot.ly/plotly-1.5.1.min.js?noext',\n",
       "          jquery: '//ajax.googleapis.com/ajax/libs/jquery/2.0.0/jquery.min'\n",
       "        },\n",
       "        map: {\n",
       "          '*': {\n",
       "            datalab: 'nbextensions/gcpdatalab'\n",
       "          }\n",
       "        },\n",
       "        shim: {\n",
       "          plotly: {\n",
       "            deps: ['d3', 'jquery'],\n",
       "            exports: 'plotly'\n",
       "          }\n",
       "        }\n",
       "      });\n",
       "\n",
<<<<<<< HEAD
       "      require(['datalab/charting', 'datalab/element!9_151547203634', 'base/js/events',\n",
=======
       "      require(['datalab/charting', 'datalab/element!4_151555007850', 'base/js/events',\n",
>>>>>>> yh_dev
       "          'datalab/style!/nbextensions/gcpdatalab/charting.css'],\n",
       "        function(charts, dom, events) {\n",
       "          charts.render('gcharts', dom, events, 'table', [], {\"rows\": [{\"c\": [{\"v\": 122}]}], \"cols\": [{\"type\": \"number\", \"id\": \"count\", \"label\": \"count\"}]},\n",
       "            {\n",
       "              pageSize: 25,\n",
       "              cssClassNames:  {\n",
       "                tableRow: 'gchart-table-row',\n",
       "                headerRow: 'gchart-table-headerrow',\n",
       "                oddTableRow: 'gchart-table-oddrow',\n",
       "                selectedTableRow: 'gchart-table-selectedrow',\n",
       "                hoverTableRow: 'gchart-table-hoverrow',\n",
       "                tableCell: 'gchart-table-cell',\n",
       "                headerCell: 'gchart-table-headercell',\n",
       "                rowNumberCell: 'gchart-table-rownumcell'\n",
       "              }\n",
       "            },\n",
<<<<<<< HEAD
       "            {source_index: 7, fields: 'count'},\n",
=======
       "            {source_index: 3, fields: 'count'},\n",
>>>>>>> yh_dev
       "            0,\n",
       "            1);\n",
       "        }\n",
       "      );\n",
       "    </script>\n",
       "  "
      ],
      "text/plain": [
<<<<<<< HEAD
       "QueryResultsTable job_pukjRYDiq0j7LW0Z7VWMTM4pJRVs"
      ]
     },
     "execution_count": 29,
=======
       "QueryResultsTable job_SPQvVa4nuhEhrgZhcVzZsqIAIsjJ"
      ]
     },
     "execution_count": 14,
>>>>>>> yh_dev
     "metadata": {},
     "output_type": "execute_result"
    }
   ],
   "source": [
    "%%bq sample --query counting_event_id"
   ]
  },
  {
   "cell_type": "code",
<<<<<<< HEAD
   "execution_count": 13,
=======
   "execution_count": 15,
>>>>>>> yh_dev
   "metadata": {
    "collapsed": false
   },
   "outputs": [
    {
     "data": {
      "text/html": [
       "\n",
       "          <script src=\"/static/components/requirejs/require.js\"></script>\n",
       "          <script>\n",
       "            requirejs.config({\n",
       "              paths: {\n",
       "                base: '/static/base',\n",
       "              },\n",
       "            });\n",
       "          </script>\n",
       "          "
      ],
      "text/plain": [
       "<IPython.core.display.HTML object>"
      ]
     },
     "metadata": {},
     "output_type": "display_data"
    }
   ],
   "source": [
    "%%bq query --name counting_nonzero_event_id\n",
    "SELECT COUNT(event_id) as count\n",
    "FROM (\n",
    "  SELECT event_id\n",
    "  FROM `exem-191100.ods_im5.xapm_db_wait`\n",
    "  WHERE db_id = 6 and wait_time = 0\n",
    "  GROUP BY event_id)"
   ]
  },
  {
   "cell_type": "code",
<<<<<<< HEAD
   "execution_count": 31,
=======
   "execution_count": 16,
>>>>>>> yh_dev
   "metadata": {
    "collapsed": false
   },
   "outputs": [
    {
     "data": {
      "text/html": [
       "\n",
       "          <script src=\"/static/components/requirejs/require.js\"></script>\n",
       "          <script>\n",
       "            requirejs.config({\n",
       "              paths: {\n",
       "                base: '/static/base',\n",
       "              },\n",
       "            });\n",
       "          </script>\n",
       "          "
      ],
      "text/plain": [
       "<IPython.core.display.HTML object>"
      ]
     },
     "metadata": {},
     "output_type": "display_data"
    },
    {
     "data": {
      "text/html": [
       "\n",
<<<<<<< HEAD
       "    <div class=\"bqtv\" id=\"10_151547208566\"><table><tr><th>count</th></tr><tr><td>112</td></tr></table></div>\n",
       "    <br />(rows: 1, time: 1.5s,   398MB processed, job: job_hRSB9NHc1JBZuwMxVPVsj4QxpmwJ)<br />\n",
=======
       "    <div class=\"bqtv\" id=\"5_151555007994\"><table><tr><th>count</th></tr><tr><td>112</td></tr></table></div>\n",
       "    <br />(rows: 1, time: 0.1s, cached, job: job_ZmGvYekVR9T4TJkOk-rJir7h_9LK)<br />\n",
>>>>>>> yh_dev
       "    <script>\n",
       "\n",
       "      require.config({\n",
       "        paths: {\n",
       "          d3: '//cdnjs.cloudflare.com/ajax/libs/d3/3.4.13/d3',\n",
       "          plotly: 'https://cdn.plot.ly/plotly-1.5.1.min.js?noext',\n",
       "          jquery: '//ajax.googleapis.com/ajax/libs/jquery/2.0.0/jquery.min'\n",
       "        },\n",
       "        map: {\n",
       "          '*': {\n",
       "            datalab: 'nbextensions/gcpdatalab'\n",
       "          }\n",
       "        },\n",
       "        shim: {\n",
       "          plotly: {\n",
       "            deps: ['d3', 'jquery'],\n",
       "            exports: 'plotly'\n",
       "          }\n",
       "        }\n",
       "      });\n",
       "\n",
<<<<<<< HEAD
       "      require(['datalab/charting', 'datalab/element!10_151547208566', 'base/js/events',\n",
=======
       "      require(['datalab/charting', 'datalab/element!5_151555007994', 'base/js/events',\n",
>>>>>>> yh_dev
       "          'datalab/style!/nbextensions/gcpdatalab/charting.css'],\n",
       "        function(charts, dom, events) {\n",
       "          charts.render('gcharts', dom, events, 'table', [], {\"rows\": [{\"c\": [{\"v\": 112}]}], \"cols\": [{\"type\": \"number\", \"id\": \"count\", \"label\": \"count\"}]},\n",
       "            {\n",
       "              pageSize: 25,\n",
       "              cssClassNames:  {\n",
       "                tableRow: 'gchart-table-row',\n",
       "                headerRow: 'gchart-table-headerrow',\n",
       "                oddTableRow: 'gchart-table-oddrow',\n",
       "                selectedTableRow: 'gchart-table-selectedrow',\n",
       "                hoverTableRow: 'gchart-table-hoverrow',\n",
       "                tableCell: 'gchart-table-cell',\n",
       "                headerCell: 'gchart-table-headercell',\n",
       "                rowNumberCell: 'gchart-table-rownumcell'\n",
       "              }\n",
       "            },\n",
<<<<<<< HEAD
       "            {source_index: 8, fields: 'count'},\n",
=======
       "            {source_index: 4, fields: 'count'},\n",
>>>>>>> yh_dev
       "            0,\n",
       "            1);\n",
       "        }\n",
       "      );\n",
       "    </script>\n",
       "  "
      ],
      "text/plain": [
<<<<<<< HEAD
       "QueryResultsTable job_hRSB9NHc1JBZuwMxVPVsj4QxpmwJ"
      ]
     },
     "execution_count": 31,
=======
       "QueryResultsTable job_ZmGvYekVR9T4TJkOk-rJir7h_9LK"
      ]
     },
     "execution_count": 16,
>>>>>>> yh_dev
     "metadata": {},
     "output_type": "execute_result"
    }
   ],
   "source": [
    "%%bq sample --query counting_nonzero_event_id"
   ]
  },
  {
   "cell_type": "markdown",
   "metadata": {},
   "source": [
    "**10개의 event** 에 대해서는 아예 wait가 발생하지도 않는다..!"
   ]
  },
  {
   "cell_type": "markdown",
   "metadata": {},
   "source": [
    "# event별로 wait 타임이 달라지는지 알기 위해 event로 group by 하여 wait의 Min, Max, Avg 값을 구해보자"
   ]
  },
  {
   "cell_type": "code",
   "execution_count": 17,
   "metadata": {
    "collapsed": false
   },
   "outputs": [
    {
     "data": {
      "text/html": [
       "\n",
       "          <script src=\"/static/components/requirejs/require.js\"></script>\n",
       "          <script>\n",
       "            requirejs.config({\n",
       "              paths: {\n",
       "                base: '/static/base',\n",
       "              },\n",
       "            });\n",
       "          </script>\n",
       "          "
      ],
      "text/plain": [
       "<IPython.core.display.HTML object>"
      ]
     },
     "metadata": {},
     "output_type": "display_data"
    }
   ],
   "source": [
    "%%bq query --name minmaxavgeventgrouping\n",
    "SELECT event_id, MAX(wait_time) as max_wait, AVG(wait_time) as avg_wait, MIN(wait_time) as min_wait\n",
    "FROM `exem-191100.ods_im5.xapm_db_wait`\n",
    "WHERE db_id = 6 and wait_time <> 0\n",
    "GROUP BY event_id\n",
    "ORDER BY event_id"
   ]
  },
  {
   "cell_type": "code",
<<<<<<< HEAD
   "execution_count": 24,
=======
   "execution_count": 18,
>>>>>>> yh_dev
   "metadata": {
    "collapsed": false
   },
   "outputs": [
    {
     "data": {
      "text/html": [
       "\n",
       "          <script src=\"/static/components/requirejs/require.js\"></script>\n",
       "          <script>\n",
       "            requirejs.config({\n",
       "              paths: {\n",
       "                base: '/static/base',\n",
       "              },\n",
       "            });\n",
       "          </script>\n",
       "          "
      ],
      "text/plain": [
       "<IPython.core.display.HTML object>"
      ]
     },
     "metadata": {},
     "output_type": "display_data"
    },
    {
     "data": {
      "text/html": [
       "\n",
<<<<<<< HEAD
       "    <div class=\"bqtv\" id=\"7_151547174133\"><table><tr><th>event_id</th><th>max_wait</th><th>avg_wait</th><th>min_wait</th></tr><tr><td>1</td><td>691652388</td><td>149733.879719</td><td>285</td></tr><tr><td>7</td><td>1968925133</td><td>533401.289846</td><td>-1930701481</td></tr><tr><td>11</td><td>3290</td><td>857.0</td><td>321</td></tr><tr><td>15</td><td>9887</td><td>1989.4375</td><td>1</td></tr><tr><td>20</td><td>356</td><td>92.4054054054</td><td>35</td></tr><tr><td>65</td><td>236153918</td><td>32968101.971</td><td>69516</td></tr><tr><td>68</td><td>75375</td><td>19715.8648649</td><td>7536</td></tr><tr><td>71</td><td>1101085</td><td>174052.081967</td><td>1</td></tr><tr><td>74</td><td>1383222854</td><td>299450.017254</td><td>590</td></tr><tr><td>79</td><td>1782</td><td>465.810810811</td><td>178</td></tr><tr><td>81</td><td>23690</td><td>5864.38461538</td><td>3</td></tr><tr><td>83</td><td>2986071</td><td>12318.0051216</td><td>1</td></tr><tr><td>88</td><td>3893</td><td>1018.02702703</td><td>389</td></tr><tr><td>91</td><td>1</td><td>1.0</td><td>1</td></tr><tr><td>92</td><td>5172</td><td>879.333333333</td><td>1</td></tr><tr><td>95</td><td>24546</td><td>6419.81081081</td><td>2453</td></tr><tr><td>98</td><td>320</td><td>83.1351351351</td><td>31</td></tr><tr><td>100</td><td>37</td><td>9.16216216216</td><td>3</td></tr><tr><td>108</td><td>4485</td><td>990.209302326</td><td>1</td></tr><tr><td>109</td><td>71</td><td>18.1621621622</td><td>7</td></tr><tr><td>133</td><td>9</td><td>2.40625</td><td>1</td></tr><tr><td>134</td><td>5838</td><td>1485.07894737</td><td>2</td></tr><tr><td>135</td><td>1259948</td><td>23154.5437262</td><td>1</td></tr><tr><td>136</td><td>2</td><td>1.5</td><td>1</td></tr><tr><td>138</td><td>832</td><td>205.41025641</td><td>2</td></tr></table></div>\n",
       "    <br />(rows: 100, time: 1.8s,   398MB processed, job: job_71lCHFtIxTWvfnzQQrxLO5FGky8F)<br />\n",
=======
       "    <div class=\"bqtv\" id=\"6_151555008149\"><table><tr><th>event_id</th><th>max_wait</th><th>avg_wait</th><th>min_wait</th></tr><tr><td>1</td><td>691652388</td><td>149733.879719</td><td>285</td></tr><tr><td>7</td><td>1968925133</td><td>533401.289846</td><td>-1930701481</td></tr><tr><td>11</td><td>3290</td><td>857.0</td><td>321</td></tr><tr><td>15</td><td>9887</td><td>1989.4375</td><td>1</td></tr><tr><td>20</td><td>356</td><td>92.4054054054</td><td>35</td></tr><tr><td>65</td><td>236153918</td><td>32968101.971</td><td>69516</td></tr><tr><td>68</td><td>75375</td><td>19715.8648649</td><td>7536</td></tr><tr><td>71</td><td>1101085</td><td>174052.081967</td><td>1</td></tr><tr><td>74</td><td>1383222854</td><td>299450.017254</td><td>590</td></tr><tr><td>79</td><td>1782</td><td>465.810810811</td><td>178</td></tr><tr><td>81</td><td>23690</td><td>5864.38461538</td><td>3</td></tr><tr><td>83</td><td>2986071</td><td>12318.0051216</td><td>1</td></tr><tr><td>88</td><td>3893</td><td>1018.02702703</td><td>389</td></tr><tr><td>91</td><td>1</td><td>1.0</td><td>1</td></tr><tr><td>92</td><td>5172</td><td>879.333333333</td><td>1</td></tr><tr><td>95</td><td>24546</td><td>6419.81081081</td><td>2453</td></tr><tr><td>98</td><td>320</td><td>83.1351351351</td><td>31</td></tr><tr><td>100</td><td>37</td><td>9.16216216216</td><td>3</td></tr><tr><td>108</td><td>4485</td><td>990.209302326</td><td>1</td></tr><tr><td>109</td><td>71</td><td>18.1621621622</td><td>7</td></tr><tr><td>133</td><td>9</td><td>2.40625</td><td>1</td></tr><tr><td>134</td><td>5838</td><td>1485.07894737</td><td>2</td></tr><tr><td>135</td><td>1259948</td><td>23154.5437262</td><td>1</td></tr><tr><td>136</td><td>2</td><td>1.5</td><td>1</td></tr><tr><td>138</td><td>832</td><td>205.41025641</td><td>2</td></tr></table></div>\n",
       "    <br />(rows: 100, time: 0.2s, cached, job: job_YL3l_zP3ZIobNy1BmuxkpoF8hEVx)<br />\n",
>>>>>>> yh_dev
       "    <script>\n",
       "\n",
       "      require.config({\n",
       "        paths: {\n",
       "          d3: '//cdnjs.cloudflare.com/ajax/libs/d3/3.4.13/d3',\n",
       "          plotly: 'https://cdn.plot.ly/plotly-1.5.1.min.js?noext',\n",
       "          jquery: '//ajax.googleapis.com/ajax/libs/jquery/2.0.0/jquery.min'\n",
       "        },\n",
       "        map: {\n",
       "          '*': {\n",
       "            datalab: 'nbextensions/gcpdatalab'\n",
       "          }\n",
       "        },\n",
       "        shim: {\n",
       "          plotly: {\n",
       "            deps: ['d3', 'jquery'],\n",
       "            exports: 'plotly'\n",
       "          }\n",
       "        }\n",
       "      });\n",
       "\n",
<<<<<<< HEAD
       "      require(['datalab/charting', 'datalab/element!7_151547174133', 'base/js/events',\n",
=======
       "      require(['datalab/charting', 'datalab/element!6_151555008149', 'base/js/events',\n",
>>>>>>> yh_dev
       "          'datalab/style!/nbextensions/gcpdatalab/charting.css'],\n",
       "        function(charts, dom, events) {\n",
       "          charts.render('gcharts', dom, events, 'paged_table', [], {\"rows\": [{\"c\": [{\"v\": 1}, {\"v\": 691652388}, {\"v\": 149733.87971889385}, {\"v\": 285}]}, {\"c\": [{\"v\": 7}, {\"v\": 1968925133}, {\"v\": 533401.289845931}, {\"v\": -1930701481}]}, {\"c\": [{\"v\": 11}, {\"v\": 3290}, {\"v\": 857.0}, {\"v\": 321}]}, {\"c\": [{\"v\": 15}, {\"v\": 9887}, {\"v\": 1989.4375}, {\"v\": 1}]}, {\"c\": [{\"v\": 20}, {\"v\": 356}, {\"v\": 92.4054054054054}, {\"v\": 35}]}, {\"c\": [{\"v\": 65}, {\"v\": 236153918}, {\"v\": 32968101.971014492}, {\"v\": 69516}]}, {\"c\": [{\"v\": 68}, {\"v\": 75375}, {\"v\": 19715.864864864867}, {\"v\": 7536}]}, {\"c\": [{\"v\": 71}, {\"v\": 1101085}, {\"v\": 174052.08196721313}, {\"v\": 1}]}, {\"c\": [{\"v\": 74}, {\"v\": 1383222854}, {\"v\": 299450.0172538074}, {\"v\": 590}]}, {\"c\": [{\"v\": 79}, {\"v\": 1782}, {\"v\": 465.81081081081084}, {\"v\": 178}]}, {\"c\": [{\"v\": 81}, {\"v\": 23690}, {\"v\": 5864.384615384615}, {\"v\": 3}]}, {\"c\": [{\"v\": 83}, {\"v\": 2986071}, {\"v\": 12318.00512163893}, {\"v\": 1}]}, {\"c\": [{\"v\": 88}, {\"v\": 3893}, {\"v\": 1018.027027027027}, {\"v\": 389}]}, {\"c\": [{\"v\": 91}, {\"v\": 1}, {\"v\": 1.0}, {\"v\": 1}]}, {\"c\": [{\"v\": 92}, {\"v\": 5172}, {\"v\": 879.3333333333334}, {\"v\": 1}]}, {\"c\": [{\"v\": 95}, {\"v\": 24546}, {\"v\": 6419.810810810811}, {\"v\": 2453}]}, {\"c\": [{\"v\": 98}, {\"v\": 320}, {\"v\": 83.13513513513514}, {\"v\": 31}]}, {\"c\": [{\"v\": 100}, {\"v\": 37}, {\"v\": 9.162162162162163}, {\"v\": 3}]}, {\"c\": [{\"v\": 108}, {\"v\": 4485}, {\"v\": 990.2093023255813}, {\"v\": 1}]}, {\"c\": [{\"v\": 109}, {\"v\": 71}, {\"v\": 18.16216216216216}, {\"v\": 7}]}, {\"c\": [{\"v\": 133}, {\"v\": 9}, {\"v\": 2.4062500000000004}, {\"v\": 1}]}, {\"c\": [{\"v\": 134}, {\"v\": 5838}, {\"v\": 1485.078947368421}, {\"v\": 2}]}, {\"c\": [{\"v\": 135}, {\"v\": 1259948}, {\"v\": 23154.54372623575}, {\"v\": 1}]}, {\"c\": [{\"v\": 136}, {\"v\": 2}, {\"v\": 1.5}, {\"v\": 1}]}, {\"c\": [{\"v\": 138}, {\"v\": 832}, {\"v\": 205.4102564102564}, {\"v\": 2}]}], \"cols\": [{\"type\": \"number\", \"id\": \"event_id\", \"label\": \"event_id\"}, {\"type\": \"number\", \"id\": \"max_wait\", \"label\": \"max_wait\"}, {\"type\": \"number\", \"id\": \"avg_wait\", \"label\": \"avg_wait\"}, {\"type\": \"number\", \"id\": \"min_wait\", \"label\": \"min_wait\"}]},\n",
       "            {\n",
       "              pageSize: 25,\n",
       "              cssClassNames:  {\n",
       "                tableRow: 'gchart-table-row',\n",
       "                headerRow: 'gchart-table-headerrow',\n",
       "                oddTableRow: 'gchart-table-oddrow',\n",
       "                selectedTableRow: 'gchart-table-selectedrow',\n",
       "                hoverTableRow: 'gchart-table-hoverrow',\n",
       "                tableCell: 'gchart-table-cell',\n",
       "                headerCell: 'gchart-table-headercell',\n",
       "                rowNumberCell: 'gchart-table-rownumcell'\n",
       "              }\n",
       "            },\n",
<<<<<<< HEAD
       "            {source_index: 6, fields: 'event_id,max_wait,avg_wait,min_wait'},\n",
=======
       "            {source_index: 5, fields: 'event_id,max_wait,avg_wait,min_wait'},\n",
>>>>>>> yh_dev
       "            0,\n",
       "            100);\n",
       "        }\n",
       "      );\n",
       "    </script>\n",
       "  "
      ],
      "text/plain": [
<<<<<<< HEAD
       "QueryResultsTable job_71lCHFtIxTWvfnzQQrxLO5FGky8F"
      ]
     },
     "execution_count": 24,
=======
       "QueryResultsTable job_YL3l_zP3ZIobNy1BmuxkpoF8hEVx"
      ]
     },
     "execution_count": 18,
>>>>>>> yh_dev
     "metadata": {},
     "output_type": "execute_result"
    }
   ],
   "source": [
    "%%bq sample --query minmaxavgeventgrouping --count 100"
   ]
  },
  {
   "cell_type": "markdown",
   "metadata": {},
   "source": [
    "min 값과 max 값의 차이가 너무 큰것으로 보아 **중앙값**을 알아내는 코드가 필요할것 같다\n",
    "\n",
    "근데 SQL 함수로 안주어지는거 같다ㅎㅎ\n",
    "\n",
    "생각하기 너무 귀찮구..\n",
    "\n",
    "각 event id에 대한 **wait_time의 분포**를 볼 필요가 있는것 같다.."
   ]
  },
  {
   "cell_type": "markdown",
   "metadata": {},
   "source": [
    "# 시간당 event_id 의 개수, wait_time의 합을 알아보자"
   ]
  },
  {
   "cell_type": "code",
<<<<<<< HEAD
   "execution_count": 26,
=======
   "execution_count": 19,
>>>>>>> yh_dev
   "metadata": {
    "collapsed": false
   },
   "outputs": [
    {
     "data": {
      "text/html": [
       "\n",
       "          <script src=\"/static/components/requirejs/require.js\"></script>\n",
       "          <script>\n",
       "            requirejs.config({\n",
       "              paths: {\n",
       "                base: '/static/base',\n",
       "              },\n",
       "            });\n",
       "          </script>\n",
       "          "
      ],
      "text/plain": [
       "<IPython.core.display.HTML object>"
      ]
     },
     "metadata": {},
     "output_type": "display_data"
    }
   ],
   "source": [
    "%%bq query --name eventidcounting\n",
    "\n",
    "SELECT time, COUNT(event_id) as total_event, SUM(wait_time) as sum_wait\n",
    "FROM `exem-191100.ods_im5.xapm_db_wait`\n",
    "WHERE db_id = 6\n",
    "GROUP BY time\n",
    "HAVING sum_wait > 1000000000\n",
    "ORDER BY time\n"
   ]
  },
  {
   "cell_type": "code",
<<<<<<< HEAD
   "execution_count": 27,
=======
   "execution_count": 20,
>>>>>>> yh_dev
   "metadata": {
    "collapsed": false
   },
   "outputs": [
    {
     "data": {
      "text/html": [
       "\n",
       "          <script src=\"/static/components/requirejs/require.js\"></script>\n",
       "          <script>\n",
       "            requirejs.config({\n",
       "              paths: {\n",
       "                base: '/static/base',\n",
       "              },\n",
       "            });\n",
       "          </script>\n",
       "          "
      ],
      "text/plain": [
       "<IPython.core.display.HTML object>"
      ]
     },
     "metadata": {},
     "output_type": "display_data"
    },
    {
     "data": {
      "text/html": [
       "\n",
<<<<<<< HEAD
       "    <div class=\"bqtv\" id=\"6_151554432979\"><table><tr><th>time</th><th>total_event</th><th>sum_wait</th></tr><tr><td>2017-11-14 04:25:00</td><td>122</td><td>5754870515</td></tr><tr><td>2017-11-14 04:26:00</td><td>122</td><td>1793111717</td></tr><tr><td>2017-11-15 12:05:00</td><td>122</td><td>3625951143</td></tr><tr><td>2017-11-16 10:44:00</td><td>122</td><td>2250520411</td></tr><tr><td>2017-11-16 14:36:00</td><td>122</td><td>3889994473</td></tr><tr><td>2017-11-21 06:22:00</td><td>122</td><td>6716777589</td></tr><tr><td>2017-11-21 06:56:00</td><td>122</td><td>2800571266</td></tr><tr><td>2017-11-21 12:32:00</td><td>122</td><td>1553961384</td></tr><tr><td>2017-11-23 04:03:00</td><td>122</td><td>2359956500</td></tr><tr><td>2017-11-23 04:14:00</td><td>122</td><td>2501785405</td></tr><tr><td>2017-11-23 04:18:00</td><td>122</td><td>6963334782</td></tr><tr><td>2017-11-23 04:24:00</td><td>122</td><td>2360152416</td></tr><tr><td>2017-11-23 04:28:00</td><td>122</td><td>1944240882</td></tr><tr><td>2017-11-23 04:48:00</td><td>122</td><td>1393079901</td></tr><tr><td>2017-11-23 04:55:00</td><td>122</td><td>7507216263</td></tr><tr><td>2017-11-23 05:02:00</td><td>122</td><td>1376812629</td></tr><tr><td>2017-11-23 05:08:00</td><td>122</td><td>2835958921</td></tr><tr><td>2017-11-23 05:40:00</td><td>122</td><td>1251552059</td></tr><tr><td>2017-11-23 05:42:00</td><td>122</td><td>1254448760</td></tr><tr><td>2017-11-23 05:44:00</td><td>122</td><td>2840014900</td></tr><tr><td>2017-11-23 05:52:00</td><td>122</td><td>3497868967</td></tr><tr><td>2017-11-23 06:36:00</td><td>122</td><td>7529129906</td></tr><tr><td>2017-11-23 07:22:00</td><td>122</td><td>1387290449</td></tr><tr><td>2017-11-23 07:56:00</td><td>122</td><td>2802133866</td></tr><tr><td>2017-11-24 06:57:00</td><td>122</td><td>1595473686</td></tr></table></div>\n",
       "    <br />(rows: 28, time: 2.6s,   530MB processed, job: job_TMGGB2sfFi7eZ-yqwZxxfKIHqlpt)<br />\n",
=======
       "    <div class=\"bqtv\" id=\"7_151555008304\"><table><tr><th>time</th><th>total_event</th><th>sum_wait</th></tr><tr><td>2017-11-14 04:25:00</td><td>122</td><td>5754870515</td></tr><tr><td>2017-11-14 04:26:00</td><td>122</td><td>1793111717</td></tr><tr><td>2017-11-15 12:05:00</td><td>122</td><td>3625951143</td></tr><tr><td>2017-11-16 10:44:00</td><td>122</td><td>2250520411</td></tr><tr><td>2017-11-16 14:36:00</td><td>122</td><td>3889994473</td></tr><tr><td>2017-11-21 06:22:00</td><td>122</td><td>6716777589</td></tr><tr><td>2017-11-21 06:56:00</td><td>122</td><td>2800571266</td></tr><tr><td>2017-11-21 12:32:00</td><td>122</td><td>1553961384</td></tr><tr><td>2017-11-23 04:03:00</td><td>122</td><td>2359956500</td></tr><tr><td>2017-11-23 04:14:00</td><td>122</td><td>2501785405</td></tr><tr><td>2017-11-23 04:18:00</td><td>122</td><td>6963334782</td></tr><tr><td>2017-11-23 04:24:00</td><td>122</td><td>2360152416</td></tr><tr><td>2017-11-23 04:28:00</td><td>122</td><td>1944240882</td></tr><tr><td>2017-11-23 04:48:00</td><td>122</td><td>1393079901</td></tr><tr><td>2017-11-23 04:55:00</td><td>122</td><td>7507216263</td></tr><tr><td>2017-11-23 05:02:00</td><td>122</td><td>1376812629</td></tr><tr><td>2017-11-23 05:08:00</td><td>122</td><td>2835958921</td></tr><tr><td>2017-11-23 05:40:00</td><td>122</td><td>1251552059</td></tr><tr><td>2017-11-23 05:42:00</td><td>122</td><td>1254448760</td></tr><tr><td>2017-11-23 05:44:00</td><td>122</td><td>2840014900</td></tr><tr><td>2017-11-23 05:52:00</td><td>122</td><td>3497868967</td></tr><tr><td>2017-11-23 06:36:00</td><td>122</td><td>7529129906</td></tr><tr><td>2017-11-23 07:22:00</td><td>122</td><td>1387290449</td></tr><tr><td>2017-11-23 07:56:00</td><td>122</td><td>2802133866</td></tr><tr><td>2017-11-24 06:57:00</td><td>122</td><td>1595473686</td></tr></table></div>\n",
       "    <br />(rows: 28, time: 0.2s, cached, job: job_zvV7wyHeRAjWK66XYBnH-PzDpr2s)<br />\n",
>>>>>>> yh_dev
       "    <script>\n",
       "\n",
       "      require.config({\n",
       "        paths: {\n",
       "          d3: '//cdnjs.cloudflare.com/ajax/libs/d3/3.4.13/d3',\n",
       "          plotly: 'https://cdn.plot.ly/plotly-1.5.1.min.js?noext',\n",
       "          jquery: '//ajax.googleapis.com/ajax/libs/jquery/2.0.0/jquery.min'\n",
       "        },\n",
       "        map: {\n",
       "          '*': {\n",
       "            datalab: 'nbextensions/gcpdatalab'\n",
       "          }\n",
       "        },\n",
       "        shim: {\n",
       "          plotly: {\n",
       "            deps: ['d3', 'jquery'],\n",
       "            exports: 'plotly'\n",
       "          }\n",
       "        }\n",
       "      });\n",
       "\n",
<<<<<<< HEAD
       "      require(['datalab/charting', 'datalab/element!6_151554432979', 'base/js/events',\n",
=======
       "      require(['datalab/charting', 'datalab/element!7_151555008304', 'base/js/events',\n",
>>>>>>> yh_dev
       "          'datalab/style!/nbextensions/gcpdatalab/charting.css'],\n",
       "        function(charts, dom, events) {\n",
       "          charts.render('gcharts', dom, events, 'paged_table', [], {\"rows\": [{\"c\": [{\"v\": \"2017-11-14T04:25:00\"}, {\"v\": 122}, {\"v\": 5754870515}]}, {\"c\": [{\"v\": \"2017-11-14T04:26:00\"}, {\"v\": 122}, {\"v\": 1793111717}]}, {\"c\": [{\"v\": \"2017-11-15T12:05:00\"}, {\"v\": 122}, {\"v\": 3625951143}]}, {\"c\": [{\"v\": \"2017-11-16T10:44:00\"}, {\"v\": 122}, {\"v\": 2250520411}]}, {\"c\": [{\"v\": \"2017-11-16T14:36:00\"}, {\"v\": 122}, {\"v\": 3889994473}]}, {\"c\": [{\"v\": \"2017-11-21T06:22:00\"}, {\"v\": 122}, {\"v\": 6716777589}]}, {\"c\": [{\"v\": \"2017-11-21T06:56:00\"}, {\"v\": 122}, {\"v\": 2800571266}]}, {\"c\": [{\"v\": \"2017-11-21T12:32:00\"}, {\"v\": 122}, {\"v\": 1553961384}]}, {\"c\": [{\"v\": \"2017-11-23T04:03:00\"}, {\"v\": 122}, {\"v\": 2359956500}]}, {\"c\": [{\"v\": \"2017-11-23T04:14:00\"}, {\"v\": 122}, {\"v\": 2501785405}]}, {\"c\": [{\"v\": \"2017-11-23T04:18:00\"}, {\"v\": 122}, {\"v\": 6963334782}]}, {\"c\": [{\"v\": \"2017-11-23T04:24:00\"}, {\"v\": 122}, {\"v\": 2360152416}]}, {\"c\": [{\"v\": \"2017-11-23T04:28:00\"}, {\"v\": 122}, {\"v\": 1944240882}]}, {\"c\": [{\"v\": \"2017-11-23T04:48:00\"}, {\"v\": 122}, {\"v\": 1393079901}]}, {\"c\": [{\"v\": \"2017-11-23T04:55:00\"}, {\"v\": 122}, {\"v\": 7507216263}]}, {\"c\": [{\"v\": \"2017-11-23T05:02:00\"}, {\"v\": 122}, {\"v\": 1376812629}]}, {\"c\": [{\"v\": \"2017-11-23T05:08:00\"}, {\"v\": 122}, {\"v\": 2835958921}]}, {\"c\": [{\"v\": \"2017-11-23T05:40:00\"}, {\"v\": 122}, {\"v\": 1251552059}]}, {\"c\": [{\"v\": \"2017-11-23T05:42:00\"}, {\"v\": 122}, {\"v\": 1254448760}]}, {\"c\": [{\"v\": \"2017-11-23T05:44:00\"}, {\"v\": 122}, {\"v\": 2840014900}]}, {\"c\": [{\"v\": \"2017-11-23T05:52:00\"}, {\"v\": 122}, {\"v\": 3497868967}]}, {\"c\": [{\"v\": \"2017-11-23T06:36:00\"}, {\"v\": 122}, {\"v\": 7529129906}]}, {\"c\": [{\"v\": \"2017-11-23T07:22:00\"}, {\"v\": 122}, {\"v\": 1387290449}]}, {\"c\": [{\"v\": \"2017-11-23T07:56:00\"}, {\"v\": 122}, {\"v\": 2802133866}]}, {\"c\": [{\"v\": \"2017-11-24T06:57:00\"}, {\"v\": 122}, {\"v\": 1595473686}]}], \"cols\": [{\"type\": \"timestamp\", \"id\": \"time\", \"label\": \"time\"}, {\"type\": \"number\", \"id\": \"total_event\", \"label\": \"total_event\"}, {\"type\": \"number\", \"id\": \"sum_wait\", \"label\": \"sum_wait\"}]},\n",
       "            {\n",
       "              pageSize: 25,\n",
       "              cssClassNames:  {\n",
       "                tableRow: 'gchart-table-row',\n",
       "                headerRow: 'gchart-table-headerrow',\n",
       "                oddTableRow: 'gchart-table-oddrow',\n",
       "                selectedTableRow: 'gchart-table-selectedrow',\n",
       "                hoverTableRow: 'gchart-table-hoverrow',\n",
       "                tableCell: 'gchart-table-cell',\n",
       "                headerCell: 'gchart-table-headercell',\n",
       "                rowNumberCell: 'gchart-table-rownumcell'\n",
       "              }\n",
       "            },\n",
<<<<<<< HEAD
       "            {source_index: 5, fields: 'time,total_event,sum_wait'},\n",
=======
       "            {source_index: 6, fields: 'time,total_event,sum_wait'},\n",
>>>>>>> yh_dev
       "            0,\n",
       "            28);\n",
       "        }\n",
       "      );\n",
       "    </script>\n",
       "  "
      ],
      "text/plain": [
<<<<<<< HEAD
       "QueryResultsTable job_TMGGB2sfFi7eZ-yqwZxxfKIHqlpt"
      ]
     },
     "execution_count": 27,
=======
       "QueryResultsTable job_zvV7wyHeRAjWK66XYBnH-PzDpr2s"
      ]
     },
     "execution_count": 20,
>>>>>>> yh_dev
     "metadata": {},
     "output_type": "execute_result"
    }
   ],
   "source": [
    "%%bq sample --query eventidcounting --count 1000"
   ]
  },
  {
   "cell_type": "markdown",
   "metadata": {},
   "source": [
    "# pandas dataframe 에 넣어보자"
   ]
  },
  {
   "cell_type": "code",
<<<<<<< HEAD
   "execution_count": 19,
=======
   "execution_count": 21,
>>>>>>> yh_dev
   "metadata": {
    "collapsed": false
   },
   "outputs": [
    {
     "data": {
      "text/html": [
       "\n",
       "          <script src=\"/static/components/requirejs/require.js\"></script>\n",
       "          <script>\n",
       "            requirejs.config({\n",
       "              paths: {\n",
       "                base: '/static/base',\n",
       "              },\n",
       "            });\n",
       "          </script>\n",
       "          "
      ],
      "text/plain": [
       "<IPython.core.display.HTML object>"
      ]
     },
     "metadata": {},
     "output_type": "display_data"
    }
   ],
   "source": [
    "sql = 'SELECT time, SUM(wait_time) as sum_wait FROM `exem-191100.ods_im5.xapm_db_wait` WHERE db_id = 6 GROUP BY time ORDER BY time'\n",
    "\n",
    "query = bq.Query(sql)\n",
    "\n",
    "df =  query.execute(output_options = bq.QueryOutput.dataframe()).result()"
   ]
  },
  {
   "cell_type": "code",
<<<<<<< HEAD
   "execution_count": 20,
=======
   "execution_count": 22,
>>>>>>> yh_dev
   "metadata": {
    "collapsed": false
   },
   "outputs": [
    {
     "data": {
      "text/html": [
       "\n",
       "          <script src=\"/static/components/requirejs/require.js\"></script>\n",
       "          <script>\n",
       "            requirejs.config({\n",
       "              paths: {\n",
       "                base: '/static/base',\n",
       "              },\n",
       "            });\n",
       "          </script>\n",
       "          "
      ],
      "text/plain": [
       "<IPython.core.display.HTML object>"
      ]
     },
     "metadata": {},
     "output_type": "display_data"
    },
    {
     "data": {
      "text/html": [
       "<div>\n",
       "<table border=\"1\" class=\"dataframe\">\n",
       "  <thead>\n",
       "    <tr style=\"text-align: right;\">\n",
       "      <th></th>\n",
       "      <th>time</th>\n",
       "      <th>sum_wait</th>\n",
       "    </tr>\n",
       "  </thead>\n",
       "  <tbody>\n",
       "    <tr>\n",
       "      <th>0</th>\n",
       "      <td>2017-11-03 15:00:00</td>\n",
       "      <td>7197</td>\n",
       "    </tr>\n",
       "    <tr>\n",
       "      <th>1</th>\n",
       "      <td>2017-11-03 15:01:00</td>\n",
       "      <td>8660</td>\n",
       "    </tr>\n",
       "    <tr>\n",
       "      <th>2</th>\n",
       "      <td>2017-11-03 15:02:00</td>\n",
       "      <td>7127</td>\n",
       "    </tr>\n",
       "    <tr>\n",
       "      <th>3</th>\n",
       "      <td>2017-11-03 15:03:00</td>\n",
       "      <td>16178</td>\n",
       "    </tr>\n",
       "    <tr>\n",
       "      <th>4</th>\n",
       "      <td>2017-11-03 15:04:00</td>\n",
       "      <td>7187</td>\n",
       "    </tr>\n",
       "    <tr>\n",
       "      <th>5</th>\n",
       "      <td>2017-11-03 15:05:00</td>\n",
       "      <td>7329</td>\n",
       "    </tr>\n",
       "    <tr>\n",
       "      <th>6</th>\n",
       "      <td>2017-11-03 15:06:00</td>\n",
       "      <td>8686</td>\n",
       "    </tr>\n",
       "    <tr>\n",
       "      <th>7</th>\n",
       "      <td>2017-11-03 15:07:00</td>\n",
       "      <td>7133</td>\n",
       "    </tr>\n",
       "    <tr>\n",
       "      <th>8</th>\n",
       "      <td>2017-11-03 15:08:00</td>\n",
       "      <td>7186</td>\n",
       "    </tr>\n",
       "    <tr>\n",
       "      <th>9</th>\n",
       "      <td>2017-11-03 15:09:00</td>\n",
       "      <td>7117</td>\n",
       "    </tr>\n",
       "    <tr>\n",
       "      <th>10</th>\n",
       "      <td>2017-11-03 15:10:00</td>\n",
       "      <td>7209</td>\n",
       "    </tr>\n",
       "    <tr>\n",
       "      <th>11</th>\n",
       "      <td>2017-11-03 15:11:00</td>\n",
       "      <td>8614</td>\n",
       "    </tr>\n",
       "    <tr>\n",
       "      <th>12</th>\n",
       "      <td>2017-11-03 15:12:00</td>\n",
       "      <td>7203</td>\n",
       "    </tr>\n",
       "    <tr>\n",
       "      <th>13</th>\n",
       "      <td>2017-11-03 15:13:00</td>\n",
       "      <td>7106</td>\n",
       "    </tr>\n",
       "    <tr>\n",
       "      <th>14</th>\n",
       "      <td>2017-11-03 15:14:00</td>\n",
       "      <td>7196</td>\n",
       "    </tr>\n",
       "    <tr>\n",
       "      <th>15</th>\n",
       "      <td>2017-11-03 15:15:00</td>\n",
       "      <td>7348</td>\n",
       "    </tr>\n",
       "    <tr>\n",
       "      <th>16</th>\n",
       "      <td>2017-11-03 15:16:00</td>\n",
       "      <td>8665</td>\n",
       "    </tr>\n",
       "    <tr>\n",
       "      <th>17</th>\n",
       "      <td>2017-11-03 15:17:00</td>\n",
       "      <td>7175</td>\n",
       "    </tr>\n",
       "    <tr>\n",
       "      <th>18</th>\n",
       "      <td>2017-11-03 15:18:00</td>\n",
       "      <td>7119</td>\n",
       "    </tr>\n",
       "    <tr>\n",
       "      <th>19</th>\n",
       "      <td>2017-11-03 15:19:00</td>\n",
       "      <td>7160</td>\n",
       "    </tr>\n",
       "    <tr>\n",
       "      <th>20</th>\n",
       "      <td>2017-11-03 15:20:00</td>\n",
       "      <td>7208</td>\n",
       "    </tr>\n",
       "    <tr>\n",
       "      <th>21</th>\n",
       "      <td>2017-11-03 15:21:00</td>\n",
       "      <td>8608</td>\n",
       "    </tr>\n",
       "    <tr>\n",
       "      <th>22</th>\n",
       "      <td>2017-11-03 15:22:00</td>\n",
       "      <td>7208</td>\n",
       "    </tr>\n",
       "    <tr>\n",
       "      <th>23</th>\n",
       "      <td>2017-11-03 15:23:00</td>\n",
       "      <td>7225</td>\n",
       "    </tr>\n",
       "    <tr>\n",
       "      <th>24</th>\n",
       "      <td>2017-11-03 15:24:00</td>\n",
       "      <td>7174</td>\n",
       "    </tr>\n",
       "    <tr>\n",
       "      <th>25</th>\n",
       "      <td>2017-11-03 15:25:00</td>\n",
       "      <td>7417</td>\n",
       "    </tr>\n",
       "    <tr>\n",
       "      <th>26</th>\n",
       "      <td>2017-11-03 15:26:00</td>\n",
       "      <td>8615</td>\n",
       "    </tr>\n",
       "    <tr>\n",
       "      <th>27</th>\n",
       "      <td>2017-11-03 15:27:00</td>\n",
       "      <td>7234</td>\n",
       "    </tr>\n",
       "    <tr>\n",
       "      <th>28</th>\n",
       "      <td>2017-11-03 15:28:00</td>\n",
       "      <td>7123</td>\n",
       "    </tr>\n",
       "    <tr>\n",
       "      <th>29</th>\n",
       "      <td>2017-11-03 15:29:00</td>\n",
       "      <td>7182</td>\n",
       "    </tr>\n",
       "    <tr>\n",
       "      <th>...</th>\n",
       "      <td>...</td>\n",
       "      <td>...</td>\n",
       "    </tr>\n",
       "    <tr>\n",
       "      <th>70</th>\n",
       "      <td>2017-11-03 16:10:00</td>\n",
       "      <td>7135</td>\n",
       "    </tr>\n",
       "    <tr>\n",
       "      <th>71</th>\n",
       "      <td>2017-11-03 16:11:00</td>\n",
       "      <td>8658</td>\n",
       "    </tr>\n",
       "    <tr>\n",
       "      <th>72</th>\n",
       "      <td>2017-11-03 16:12:00</td>\n",
       "      <td>7146</td>\n",
       "    </tr>\n",
       "    <tr>\n",
       "      <th>73</th>\n",
       "      <td>2017-11-03 16:13:00</td>\n",
       "      <td>7163</td>\n",
       "    </tr>\n",
       "    <tr>\n",
       "      <th>74</th>\n",
       "      <td>2017-11-03 16:14:00</td>\n",
       "      <td>7151</td>\n",
       "    </tr>\n",
       "    <tr>\n",
       "      <th>75</th>\n",
       "      <td>2017-11-03 16:15:00</td>\n",
       "      <td>7423</td>\n",
       "    </tr>\n",
       "    <tr>\n",
       "      <th>76</th>\n",
       "      <td>2017-11-03 16:16:00</td>\n",
       "      <td>8612</td>\n",
       "    </tr>\n",
       "    <tr>\n",
       "      <th>77</th>\n",
       "      <td>2017-11-03 16:17:00</td>\n",
       "      <td>7217</td>\n",
       "    </tr>\n",
       "    <tr>\n",
       "      <th>78</th>\n",
       "      <td>2017-11-03 16:18:00</td>\n",
       "      <td>7125</td>\n",
       "    </tr>\n",
       "    <tr>\n",
       "      <th>79</th>\n",
       "      <td>2017-11-03 16:19:00</td>\n",
       "      <td>7176</td>\n",
       "    </tr>\n",
       "    <tr>\n",
       "      <th>80</th>\n",
       "      <td>2017-11-03 16:20:00</td>\n",
       "      <td>7116</td>\n",
       "    </tr>\n",
       "    <tr>\n",
       "      <th>81</th>\n",
       "      <td>2017-11-03 16:21:00</td>\n",
       "      <td>8919</td>\n",
       "    </tr>\n",
       "    <tr>\n",
       "      <th>82</th>\n",
       "      <td>2017-11-03 16:22:00</td>\n",
       "      <td>7103</td>\n",
       "    </tr>\n",
       "    <tr>\n",
       "      <th>83</th>\n",
       "      <td>2017-11-03 16:23:00</td>\n",
       "      <td>7195</td>\n",
       "    </tr>\n",
       "    <tr>\n",
       "      <th>84</th>\n",
       "      <td>2017-11-03 16:24:00</td>\n",
       "      <td>7191</td>\n",
       "    </tr>\n",
       "    <tr>\n",
       "      <th>85</th>\n",
       "      <td>2017-11-03 16:25:00</td>\n",
       "      <td>7356</td>\n",
       "    </tr>\n",
       "    <tr>\n",
       "      <th>86</th>\n",
       "      <td>2017-11-03 16:26:00</td>\n",
       "      <td>8651</td>\n",
       "    </tr>\n",
       "    <tr>\n",
       "      <th>87</th>\n",
       "      <td>2017-11-03 16:27:00</td>\n",
       "      <td>7191</td>\n",
       "    </tr>\n",
       "    <tr>\n",
       "      <th>88</th>\n",
       "      <td>2017-11-03 16:28:00</td>\n",
       "      <td>7077</td>\n",
       "    </tr>\n",
       "    <tr>\n",
       "      <th>89</th>\n",
       "      <td>2017-11-03 16:29:00</td>\n",
       "      <td>7214</td>\n",
       "    </tr>\n",
       "    <tr>\n",
       "      <th>90</th>\n",
       "      <td>2017-11-03 16:30:00</td>\n",
       "      <td>7109</td>\n",
       "    </tr>\n",
       "    <tr>\n",
       "      <th>91</th>\n",
       "      <td>2017-11-03 16:31:00</td>\n",
       "      <td>8683</td>\n",
       "    </tr>\n",
       "    <tr>\n",
       "      <th>92</th>\n",
       "      <td>2017-11-03 16:32:00</td>\n",
       "      <td>7099</td>\n",
       "    </tr>\n",
       "    <tr>\n",
       "      <th>93</th>\n",
       "      <td>2017-11-03 16:33:00</td>\n",
       "      <td>16210</td>\n",
       "    </tr>\n",
       "    <tr>\n",
       "      <th>94</th>\n",
       "      <td>2017-11-03 16:34:00</td>\n",
       "      <td>7135</td>\n",
       "    </tr>\n",
       "    <tr>\n",
       "      <th>95</th>\n",
       "      <td>2017-11-03 16:35:00</td>\n",
       "      <td>7402</td>\n",
       "    </tr>\n",
       "    <tr>\n",
       "      <th>96</th>\n",
       "      <td>2017-11-03 16:36:00</td>\n",
       "      <td>8628</td>\n",
       "    </tr>\n",
       "    <tr>\n",
       "      <th>97</th>\n",
       "      <td>2017-11-03 16:37:00</td>\n",
       "      <td>7192</td>\n",
       "    </tr>\n",
       "    <tr>\n",
       "      <th>98</th>\n",
       "      <td>2017-11-03 16:38:00</td>\n",
       "      <td>7137</td>\n",
       "    </tr>\n",
       "    <tr>\n",
       "      <th>99</th>\n",
       "      <td>2017-11-03 16:39:00</td>\n",
       "      <td>7206</td>\n",
       "    </tr>\n",
       "  </tbody>\n",
       "</table>\n",
       "<p>100 rows × 2 columns</p>\n",
       "</div>"
      ],
      "text/plain": [
       "                  time  sum_wait\n",
       "0  2017-11-03 15:00:00      7197\n",
       "1  2017-11-03 15:01:00      8660\n",
       "2  2017-11-03 15:02:00      7127\n",
       "3  2017-11-03 15:03:00     16178\n",
       "4  2017-11-03 15:04:00      7187\n",
       "5  2017-11-03 15:05:00      7329\n",
       "6  2017-11-03 15:06:00      8686\n",
       "7  2017-11-03 15:07:00      7133\n",
       "8  2017-11-03 15:08:00      7186\n",
       "9  2017-11-03 15:09:00      7117\n",
       "10 2017-11-03 15:10:00      7209\n",
       "11 2017-11-03 15:11:00      8614\n",
       "12 2017-11-03 15:12:00      7203\n",
       "13 2017-11-03 15:13:00      7106\n",
       "14 2017-11-03 15:14:00      7196\n",
       "15 2017-11-03 15:15:00      7348\n",
       "16 2017-11-03 15:16:00      8665\n",
       "17 2017-11-03 15:17:00      7175\n",
       "18 2017-11-03 15:18:00      7119\n",
       "19 2017-11-03 15:19:00      7160\n",
       "20 2017-11-03 15:20:00      7208\n",
       "21 2017-11-03 15:21:00      8608\n",
       "22 2017-11-03 15:22:00      7208\n",
       "23 2017-11-03 15:23:00      7225\n",
       "24 2017-11-03 15:24:00      7174\n",
       "25 2017-11-03 15:25:00      7417\n",
       "26 2017-11-03 15:26:00      8615\n",
       "27 2017-11-03 15:27:00      7234\n",
       "28 2017-11-03 15:28:00      7123\n",
       "29 2017-11-03 15:29:00      7182\n",
       "..                 ...       ...\n",
       "70 2017-11-03 16:10:00      7135\n",
       "71 2017-11-03 16:11:00      8658\n",
       "72 2017-11-03 16:12:00      7146\n",
       "73 2017-11-03 16:13:00      7163\n",
       "74 2017-11-03 16:14:00      7151\n",
       "75 2017-11-03 16:15:00      7423\n",
       "76 2017-11-03 16:16:00      8612\n",
       "77 2017-11-03 16:17:00      7217\n",
       "78 2017-11-03 16:18:00      7125\n",
       "79 2017-11-03 16:19:00      7176\n",
       "80 2017-11-03 16:20:00      7116\n",
       "81 2017-11-03 16:21:00      8919\n",
       "82 2017-11-03 16:22:00      7103\n",
       "83 2017-11-03 16:23:00      7195\n",
       "84 2017-11-03 16:24:00      7191\n",
       "85 2017-11-03 16:25:00      7356\n",
       "86 2017-11-03 16:26:00      8651\n",
       "87 2017-11-03 16:27:00      7191\n",
       "88 2017-11-03 16:28:00      7077\n",
       "89 2017-11-03 16:29:00      7214\n",
       "90 2017-11-03 16:30:00      7109\n",
       "91 2017-11-03 16:31:00      8683\n",
       "92 2017-11-03 16:32:00      7099\n",
       "93 2017-11-03 16:33:00     16210\n",
       "94 2017-11-03 16:34:00      7135\n",
       "95 2017-11-03 16:35:00      7402\n",
       "96 2017-11-03 16:36:00      8628\n",
       "97 2017-11-03 16:37:00      7192\n",
       "98 2017-11-03 16:38:00      7137\n",
       "99 2017-11-03 16:39:00      7206\n",
       "\n",
       "[100 rows x 2 columns]"
      ]
     },
<<<<<<< HEAD
     "execution_count": 20,
=======
     "execution_count": 22,
>>>>>>> yh_dev
     "metadata": {},
     "output_type": "execute_result"
    }
   ],
   "source": [
    "df.head(100)"
   ]
  },
  {
   "cell_type": "markdown",
   "metadata": {},
   "source": [
    "# matplot으로 plotting 해보자"
   ]
  },
  {
   "cell_type": "code",
<<<<<<< HEAD
   "execution_count": 21,
=======
   "execution_count": 23,
>>>>>>> yh_dev
   "metadata": {
    "collapsed": false
   },
   "outputs": [
    {
     "data": {
      "text/html": [
       "\n",
       "          <script src=\"/static/components/requirejs/require.js\"></script>\n",
       "          <script>\n",
       "            requirejs.config({\n",
       "              paths: {\n",
       "                base: '/static/base',\n",
       "              },\n",
       "            });\n",
       "          </script>\n",
       "          "
      ],
      "text/plain": [
       "<IPython.core.display.HTML object>"
      ]
     },
     "metadata": {},
     "output_type": "display_data"
    },
    {
     "data": {
      "image/png": "iVBORw0KGgoAAAANSUhEUgAAAgMAAAFtCAYAAACazWngAAAABHNCSVQICAgIfAhkiAAAAAlwSFlz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\nAElFTkSuQmCC\n",
      "text/plain": [
<<<<<<< HEAD
       "<matplotlib.figure.Figure at 0x7f42b988ce90>"
=======
       "<matplotlib.figure.Figure at 0x7f7794b6a050>"
>>>>>>> yh_dev
      ]
     },
     "metadata": {},
     "output_type": "display_data"
    }
   ],
   "source": [
    "ax = df.plot(kind = 'line' ,x='time', y='sum_wait')"
   ]
  },
  {
   "cell_type": "markdown",
   "metadata": {},
   "source": [
    "**1분에 122개의 event가 균일하게 발생한다**\n",
    "\n",
    "**wait_time 의 합이 7000~8000 정도 사이**에 대부분 위치함을 알 수 있다."
   ]
  },
  {
   "cell_type": "code",
<<<<<<< HEAD
   "execution_count": 3,
=======
   "execution_count": 24,
>>>>>>> yh_dev
   "metadata": {
    "collapsed": false
   },
   "outputs": [
    {
     "data": {
      "text/html": [
       "\n",
       "          <script src=\"/static/components/requirejs/require.js\"></script>\n",
       "          <script>\n",
       "            requirejs.config({\n",
       "              paths: {\n",
       "                base: '/static/base',\n",
       "              },\n",
       "            });\n",
       "          </script>\n",
       "          "
      ],
      "text/plain": [
       "<IPython.core.display.HTML object>"
      ]
     },
     "metadata": {},
     "output_type": "display_data"
    }
   ],
   "source": [
    "%%bq query --name countingover9000\n",
    "SELECT COUNT(sum_wait)\n",
    "FROM(\n",
    "  SELECT SUM(wait_time) as sum_wait\n",
    "  FROM `exem-191100.ods_im5.xapm_db_wait`\n",
    "  WHERE db_id = 6\n",
    "  GROUP BY time\n",
    "  )\n",
    "WHERE sum_wait > 9000"
   ]
  },
  {
   "cell_type": "code",
<<<<<<< HEAD
   "execution_count": 4,
=======
   "execution_count": 25,
>>>>>>> yh_dev
   "metadata": {
    "collapsed": false
   },
   "outputs": [
    {
     "data": {
      "text/html": [
       "\n",
       "          <script src=\"/static/components/requirejs/require.js\"></script>\n",
       "          <script>\n",
       "            requirejs.config({\n",
       "              paths: {\n",
       "                base: '/static/base',\n",
       "              },\n",
       "            });\n",
       "          </script>\n",
       "          "
      ],
      "text/plain": [
       "<IPython.core.display.HTML object>"
      ]
     },
     "metadata": {},
     "output_type": "display_data"
    },
    {
     "data": {
      "text/html": [
       "\n",
<<<<<<< HEAD
       "    <div class=\"bqtv\" id=\"1_151554328445\"><table><tr><th>f0_</th></tr><tr><td>5256</td></tr></table></div>\n",
       "    <br />(rows: 1, time: 2.6s,   398MB processed, job: job_Juffn-Zmo1ldkILzUpqScwnBgIwb)<br />\n",
=======
       "    <div class=\"bqtv\" id=\"8_151555008831\"><table><tr><th>f0_</th></tr><tr><td>5256</td></tr></table></div>\n",
       "    <br />(rows: 1, time: 0.2s, cached, job: job_IyNI6MzfKc854wTAI8myCYgimaFK)<br />\n",
>>>>>>> yh_dev
       "    <script>\n",
       "\n",
       "      require.config({\n",
       "        paths: {\n",
       "          d3: '//cdnjs.cloudflare.com/ajax/libs/d3/3.4.13/d3',\n",
       "          plotly: 'https://cdn.plot.ly/plotly-1.5.1.min.js?noext',\n",
       "          jquery: '//ajax.googleapis.com/ajax/libs/jquery/2.0.0/jquery.min'\n",
       "        },\n",
       "        map: {\n",
       "          '*': {\n",
       "            datalab: 'nbextensions/gcpdatalab'\n",
       "          }\n",
       "        },\n",
       "        shim: {\n",
       "          plotly: {\n",
       "            deps: ['d3', 'jquery'],\n",
       "            exports: 'plotly'\n",
       "          }\n",
       "        }\n",
       "      });\n",
       "\n",
<<<<<<< HEAD
       "      require(['datalab/charting', 'datalab/element!1_151554328445', 'base/js/events',\n",
=======
       "      require(['datalab/charting', 'datalab/element!8_151555008831', 'base/js/events',\n",
>>>>>>> yh_dev
       "          'datalab/style!/nbextensions/gcpdatalab/charting.css'],\n",
       "        function(charts, dom, events) {\n",
       "          charts.render('gcharts', dom, events, 'table', [], {\"rows\": [{\"c\": [{\"v\": 5256}]}], \"cols\": [{\"type\": \"number\", \"id\": \"f0_\", \"label\": \"f0_\"}]},\n",
       "            {\n",
       "              pageSize: 25,\n",
       "              cssClassNames:  {\n",
       "                tableRow: 'gchart-table-row',\n",
       "                headerRow: 'gchart-table-headerrow',\n",
       "                oddTableRow: 'gchart-table-oddrow',\n",
       "                selectedTableRow: 'gchart-table-selectedrow',\n",
       "                hoverTableRow: 'gchart-table-hoverrow',\n",
       "                tableCell: 'gchart-table-cell',\n",
       "                headerCell: 'gchart-table-headercell',\n",
       "                rowNumberCell: 'gchart-table-rownumcell'\n",
       "              }\n",
       "            },\n",
<<<<<<< HEAD
       "            {source_index: 0, fields: 'f0_'},\n",
=======
       "            {source_index: 7, fields: 'f0_'},\n",
>>>>>>> yh_dev
       "            0,\n",
       "            1);\n",
       "        }\n",
       "      );\n",
       "    </script>\n",
       "  "
      ],
      "text/plain": [
<<<<<<< HEAD
       "QueryResultsTable job_Juffn-Zmo1ldkILzUpqScwnBgIwb"
      ]
     },
     "execution_count": 4,
=======
       "QueryResultsTable job_IyNI6MzfKc854wTAI8myCYgimaFK"
      ]
     },
     "execution_count": 25,
>>>>>>> yh_dev
     "metadata": {},
     "output_type": "execute_result"
    }
   ],
   "source": [
    "%%bq sample --query countingover9000"
   ]
  },
  {
   "cell_type": "markdown",
   "metadata": {},
   "source": [
<<<<<<< HEAD
=======
    "# 몇개의 stat_id가 있을까? 이것은 db_stat 로 계산을 해야한다."
   ]
  },
  {
   "cell_type": "code",
   "execution_count": 91,
   "metadata": {
    "collapsed": false
   },
   "outputs": [
    {
     "data": {
      "text/html": [
       "\n",
       "          <script src=\"/static/components/requirejs/require.js\"></script>\n",
       "          <script>\n",
       "            requirejs.config({\n",
       "              paths: {\n",
       "                base: '/static/base',\n",
       "              },\n",
       "            });\n",
       "          </script>\n",
       "          "
      ],
      "text/plain": [
       "<IPython.core.display.HTML object>"
      ]
     },
     "metadata": {},
     "output_type": "display_data"
    }
   ],
   "source": [
    "%%bq query --name num_stat_id\n",
    "SELECT COUNT(stat_id)\n",
    "FROM(\n",
    "  SELECT stat_id \n",
    "  FROM `exem-191100.ods_im5.xapm_db_stat`\n",
    "  GROUP BY stat_id\n",
    "  ORDER BY stat_id\n",
    "  )"
   ]
  },
  {
   "cell_type": "code",
   "execution_count": 89,
   "metadata": {
    "collapsed": false
   },
   "outputs": [
    {
     "data": {
      "text/html": [
       "\n",
       "          <script src=\"/static/components/requirejs/require.js\"></script>\n",
       "          <script>\n",
       "            requirejs.config({\n",
       "              paths: {\n",
       "                base: '/static/base',\n",
       "              },\n",
       "            });\n",
       "          </script>\n",
       "          "
      ],
      "text/plain": [
       "<IPython.core.display.HTML object>"
      ]
     },
     "metadata": {},
     "output_type": "display_data"
    },
    {
     "data": {
      "text/html": [
       "\n",
       "    <div class=\"bqtv\" id=\"29_151555258782\"><table><tr><th>f0_</th></tr><tr><td>3629</td></tr></table></div>\n",
       "    <br />(rows: 1, time: 0.2s, cached, job: job_5Ni5Wecxs_ZJyzMBqj3rReiEfnQG)<br />\n",
       "    <script>\n",
       "\n",
       "      require.config({\n",
       "        paths: {\n",
       "          d3: '//cdnjs.cloudflare.com/ajax/libs/d3/3.4.13/d3',\n",
       "          plotly: 'https://cdn.plot.ly/plotly-1.5.1.min.js?noext',\n",
       "          jquery: '//ajax.googleapis.com/ajax/libs/jquery/2.0.0/jquery.min'\n",
       "        },\n",
       "        map: {\n",
       "          '*': {\n",
       "            datalab: 'nbextensions/gcpdatalab'\n",
       "          }\n",
       "        },\n",
       "        shim: {\n",
       "          plotly: {\n",
       "            deps: ['d3', 'jquery'],\n",
       "            exports: 'plotly'\n",
       "          }\n",
       "        }\n",
       "      });\n",
       "\n",
       "      require(['datalab/charting', 'datalab/element!29_151555258782', 'base/js/events',\n",
       "          'datalab/style!/nbextensions/gcpdatalab/charting.css'],\n",
       "        function(charts, dom, events) {\n",
       "          charts.render('gcharts', dom, events, 'table', [], {\"rows\": [{\"c\": [{\"v\": 3629}]}], \"cols\": [{\"type\": \"number\", \"id\": \"f0_\", \"label\": \"f0_\"}]},\n",
       "            {\n",
       "              pageSize: 25,\n",
       "              cssClassNames:  {\n",
       "                tableRow: 'gchart-table-row',\n",
       "                headerRow: 'gchart-table-headerrow',\n",
       "                oddTableRow: 'gchart-table-oddrow',\n",
       "                selectedTableRow: 'gchart-table-selectedrow',\n",
       "                hoverTableRow: 'gchart-table-hoverrow',\n",
       "                tableCell: 'gchart-table-cell',\n",
       "                headerCell: 'gchart-table-headercell',\n",
       "                rowNumberCell: 'gchart-table-rownumcell'\n",
       "              }\n",
       "            },\n",
       "            {source_index: 25, fields: 'f0_'},\n",
       "            0,\n",
       "            1);\n",
       "        }\n",
       "      );\n",
       "    </script>\n",
       "  "
      ],
      "text/plain": [
       "QueryResultsTable job_5Ni5Wecxs_ZJyzMBqj3rReiEfnQG"
      ]
     },
     "execution_count": 89,
     "metadata": {},
     "output_type": "execute_result"
    }
   ],
   "source": [
    "%%bq sample --query num_stat_id\n",
    "\n"
   ]
  },
  {
   "cell_type": "code",
   "execution_count": 106,
   "metadata": {
    "collapsed": false
   },
   "outputs": [
    {
     "data": {
      "text/html": [
       "\n",
       "          <script src=\"/static/components/requirejs/require.js\"></script>\n",
       "          <script>\n",
       "            requirejs.config({\n",
       "              paths: {\n",
       "                base: '/static/base',\n",
       "              },\n",
       "            });\n",
       "          </script>\n",
       "          "
      ],
      "text/plain": [
       "<IPython.core.display.HTML object>"
      ]
     },
     "metadata": {},
     "output_type": "display_data"
    }
   ],
   "source": [
    "%%bq query --name num_stat_id_db_id_6\n",
    "SELECT COUNT(stat_id)\n",
    "FROM(\n",
    "  SELECT stat_id \n",
    "  FROM `exem-191100.ods_im5.xapm_db_stat`\n",
    "  WHERE db_id = 6\n",
    "  GROUP BY stat_id\n",
    "  ORDER BY stat_id\n",
    "  )"
   ]
  },
  {
   "cell_type": "code",
   "execution_count": 105,
   "metadata": {
    "collapsed": false
   },
   "outputs": [
    {
     "data": {
      "text/html": [
       "\n",
       "          <script src=\"/static/components/requirejs/require.js\"></script>\n",
       "          <script>\n",
       "            requirejs.config({\n",
       "              paths: {\n",
       "                base: '/static/base',\n",
       "              },\n",
       "            });\n",
       "          </script>\n",
       "          "
      ],
      "text/plain": [
       "<IPython.core.display.HTML object>"
      ]
     },
     "metadata": {},
     "output_type": "display_data"
    },
    {
     "data": {
      "text/html": [
       "\n",
       "    <div class=\"bqtv\" id=\"31_151555282152\"><table><tr><th>f0_</th></tr><tr><td>1374</td></tr></table></div>\n",
       "    <br />(rows: 1, time: 0.2s, cached, job: job_-2SIG2OaJ-P_mVdgWDXwv_MaWXaf)<br />\n",
       "    <script>\n",
       "\n",
       "      require.config({\n",
       "        paths: {\n",
       "          d3: '//cdnjs.cloudflare.com/ajax/libs/d3/3.4.13/d3',\n",
       "          plotly: 'https://cdn.plot.ly/plotly-1.5.1.min.js?noext',\n",
       "          jquery: '//ajax.googleapis.com/ajax/libs/jquery/2.0.0/jquery.min'\n",
       "        },\n",
       "        map: {\n",
       "          '*': {\n",
       "            datalab: 'nbextensions/gcpdatalab'\n",
       "          }\n",
       "        },\n",
       "        shim: {\n",
       "          plotly: {\n",
       "            deps: ['d3', 'jquery'],\n",
       "            exports: 'plotly'\n",
       "          }\n",
       "        }\n",
       "      });\n",
       "\n",
       "      require(['datalab/charting', 'datalab/element!31_151555282152', 'base/js/events',\n",
       "          'datalab/style!/nbextensions/gcpdatalab/charting.css'],\n",
       "        function(charts, dom, events) {\n",
       "          charts.render('gcharts', dom, events, 'table', [], {\"rows\": [{\"c\": [{\"v\": 1374}]}], \"cols\": [{\"type\": \"number\", \"id\": \"f0_\", \"label\": \"f0_\"}]},\n",
       "            {\n",
       "              pageSize: 25,\n",
       "              cssClassNames:  {\n",
       "                tableRow: 'gchart-table-row',\n",
       "                headerRow: 'gchart-table-headerrow',\n",
       "                oddTableRow: 'gchart-table-oddrow',\n",
       "                selectedTableRow: 'gchart-table-selectedrow',\n",
       "                hoverTableRow: 'gchart-table-hoverrow',\n",
       "                tableCell: 'gchart-table-cell',\n",
       "                headerCell: 'gchart-table-headercell',\n",
       "                rowNumberCell: 'gchart-table-rownumcell'\n",
       "              }\n",
       "            },\n",
       "            {source_index: 26, fields: 'f0_'},\n",
       "            0,\n",
       "            1);\n",
       "        }\n",
       "      );\n",
       "    </script>\n",
       "  "
      ],
      "text/plain": [
       "QueryResultsTable job_-2SIG2OaJ-P_mVdgWDXwv_MaWXaf"
      ]
     },
     "execution_count": 105,
     "metadata": {},
     "output_type": "execute_result"
    }
   ],
   "source": [
    "%%bq sample --query num_stat_id_db_id_6"
   ]
  },
  {
   "cell_type": "code",
   "execution_count": 111,
   "metadata": {
    "collapsed": false
   },
   "outputs": [
    {
     "data": {
      "text/html": [
       "\n",
       "          <script src=\"/static/components/requirejs/require.js\"></script>\n",
       "          <script>\n",
       "            requirejs.config({\n",
       "              paths: {\n",
       "                base: '/static/base',\n",
       "              },\n",
       "            });\n",
       "          </script>\n",
       "          "
      ],
      "text/plain": [
       "<IPython.core.display.HTML object>"
      ]
     },
     "metadata": {},
     "output_type": "display_data"
    }
   ],
   "source": [
    "%%bq query --name num_stat_id_db_id_13\n",
    "SELECT COUNT(stat_id)\n",
    "FROM(\n",
    "  SELECT stat_id \n",
    "  FROM `exem-191100.ods_im5.xapm_db_stat`\n",
    "  WHERE db_id = 13\n",
    "  GROUP BY stat_id\n",
    "  ORDER BY stat_id\n",
    "  )"
   ]
  },
  {
   "cell_type": "code",
   "execution_count": 112,
   "metadata": {
    "collapsed": false
   },
   "outputs": [
    {
     "data": {
      "text/html": [
       "\n",
       "          <script src=\"/static/components/requirejs/require.js\"></script>\n",
       "          <script>\n",
       "            requirejs.config({\n",
       "              paths: {\n",
       "                base: '/static/base',\n",
       "              },\n",
       "            });\n",
       "          </script>\n",
       "          "
      ],
      "text/plain": [
       "<IPython.core.display.HTML object>"
      ]
     },
     "metadata": {},
     "output_type": "display_data"
    },
    {
     "data": {
      "text/html": [
       "\n",
       "    <div class=\"bqtv\" id=\"33_151555316169\"><table><tr><th>f0_</th></tr><tr><td>3629</td></tr></table></div>\n",
       "    <br />(rows: 1, time: 0.2s, cached, job: job_jTzNwHzn3SQQi_QZPMynzZi5v1Im)<br />\n",
       "    <script>\n",
       "\n",
       "      require.config({\n",
       "        paths: {\n",
       "          d3: '//cdnjs.cloudflare.com/ajax/libs/d3/3.4.13/d3',\n",
       "          plotly: 'https://cdn.plot.ly/plotly-1.5.1.min.js?noext',\n",
       "          jquery: '//ajax.googleapis.com/ajax/libs/jquery/2.0.0/jquery.min'\n",
       "        },\n",
       "        map: {\n",
       "          '*': {\n",
       "            datalab: 'nbextensions/gcpdatalab'\n",
       "          }\n",
       "        },\n",
       "        shim: {\n",
       "          plotly: {\n",
       "            deps: ['d3', 'jquery'],\n",
       "            exports: 'plotly'\n",
       "          }\n",
       "        }\n",
       "      });\n",
       "\n",
       "      require(['datalab/charting', 'datalab/element!33_151555316169', 'base/js/events',\n",
       "          'datalab/style!/nbextensions/gcpdatalab/charting.css'],\n",
       "        function(charts, dom, events) {\n",
       "          charts.render('gcharts', dom, events, 'table', [], {\"rows\": [{\"c\": [{\"v\": 3629}]}], \"cols\": [{\"type\": \"number\", \"id\": \"f0_\", \"label\": \"f0_\"}]},\n",
       "            {\n",
       "              pageSize: 25,\n",
       "              cssClassNames:  {\n",
       "                tableRow: 'gchart-table-row',\n",
       "                headerRow: 'gchart-table-headerrow',\n",
       "                oddTableRow: 'gchart-table-oddrow',\n",
       "                selectedTableRow: 'gchart-table-selectedrow',\n",
       "                hoverTableRow: 'gchart-table-hoverrow',\n",
       "                tableCell: 'gchart-table-cell',\n",
       "                headerCell: 'gchart-table-headercell',\n",
       "                rowNumberCell: 'gchart-table-rownumcell'\n",
       "              }\n",
       "            },\n",
       "            {source_index: 27, fields: 'f0_'},\n",
       "            0,\n",
       "            1);\n",
       "        }\n",
       "      );\n",
       "    </script>\n",
       "  "
      ],
      "text/plain": [
       "QueryResultsTable job_jTzNwHzn3SQQi_QZPMynzZi5v1Im"
      ]
     },
     "execution_count": 112,
     "metadata": {},
     "output_type": "execute_result"
    }
   ],
   "source": [
    "%%bq sample --query num_stat_id_db_id_13"
   ]
  },
  {
   "cell_type": "code",
   "execution_count": 113,
   "metadata": {
    "collapsed": false
   },
   "outputs": [
    {
     "data": {
      "text/html": [
       "\n",
       "          <script src=\"/static/components/requirejs/require.js\"></script>\n",
       "          <script>\n",
       "            requirejs.config({\n",
       "              paths: {\n",
       "                base: '/static/base',\n",
       "              },\n",
       "            });\n",
       "          </script>\n",
       "          "
      ],
      "text/plain": [
       "<IPython.core.display.HTML object>"
      ]
     },
     "metadata": {},
     "output_type": "display_data"
    }
   ],
   "source": [
    "%%bq query --name num_stat_id_db_id_16\n",
    "SELECT COUNT(stat_id)\n",
    "FROM(\n",
    "  SELECT stat_id \n",
    "  FROM `exem-191100.ods_im5.xapm_db_stat`\n",
    "  WHERE db_id = 16\n",
    "  GROUP BY stat_id\n",
    "  ORDER BY stat_id\n",
    "  )"
   ]
  },
  {
   "cell_type": "code",
   "execution_count": 114,
   "metadata": {
    "collapsed": false
   },
   "outputs": [
    {
     "data": {
      "text/html": [
       "\n",
       "          <script src=\"/static/components/requirejs/require.js\"></script>\n",
       "          <script>\n",
       "            requirejs.config({\n",
       "              paths: {\n",
       "                base: '/static/base',\n",
       "              },\n",
       "            });\n",
       "          </script>\n",
       "          "
      ],
      "text/plain": [
       "<IPython.core.display.HTML object>"
      ]
     },
     "metadata": {},
     "output_type": "display_data"
    },
    {
     "data": {
      "text/html": [
       "\n",
       "    <div class=\"bqtv\" id=\"34_151555316901\"><table><tr><th>f0_</th></tr><tr><td>1812</td></tr></table></div>\n",
       "    <br />(rows: 1, time: 2.3s,     3GB processed, job: job_lRK-o2uv7PLuzlZwAfFvp2TlbByp)<br />\n",
       "    <script>\n",
       "\n",
       "      require.config({\n",
       "        paths: {\n",
       "          d3: '//cdnjs.cloudflare.com/ajax/libs/d3/3.4.13/d3',\n",
       "          plotly: 'https://cdn.plot.ly/plotly-1.5.1.min.js?noext',\n",
       "          jquery: '//ajax.googleapis.com/ajax/libs/jquery/2.0.0/jquery.min'\n",
       "        },\n",
       "        map: {\n",
       "          '*': {\n",
       "            datalab: 'nbextensions/gcpdatalab'\n",
       "          }\n",
       "        },\n",
       "        shim: {\n",
       "          plotly: {\n",
       "            deps: ['d3', 'jquery'],\n",
       "            exports: 'plotly'\n",
       "          }\n",
       "        }\n",
       "      });\n",
       "\n",
       "      require(['datalab/charting', 'datalab/element!34_151555316901', 'base/js/events',\n",
       "          'datalab/style!/nbextensions/gcpdatalab/charting.css'],\n",
       "        function(charts, dom, events) {\n",
       "          charts.render('gcharts', dom, events, 'table', [], {\"rows\": [{\"c\": [{\"v\": 1812}]}], \"cols\": [{\"type\": \"number\", \"id\": \"f0_\", \"label\": \"f0_\"}]},\n",
       "            {\n",
       "              pageSize: 25,\n",
       "              cssClassNames:  {\n",
       "                tableRow: 'gchart-table-row',\n",
       "                headerRow: 'gchart-table-headerrow',\n",
       "                oddTableRow: 'gchart-table-oddrow',\n",
       "                selectedTableRow: 'gchart-table-selectedrow',\n",
       "                hoverTableRow: 'gchart-table-hoverrow',\n",
       "                tableCell: 'gchart-table-cell',\n",
       "                headerCell: 'gchart-table-headercell',\n",
       "                rowNumberCell: 'gchart-table-rownumcell'\n",
       "              }\n",
       "            },\n",
       "            {source_index: 28, fields: 'f0_'},\n",
       "            0,\n",
       "            1);\n",
       "        }\n",
       "      );\n",
       "    </script>\n",
       "  "
      ],
      "text/plain": [
       "QueryResultsTable job_lRK-o2uv7PLuzlZwAfFvp2TlbByp"
      ]
     },
     "execution_count": 114,
     "metadata": {},
     "output_type": "execute_result"
    }
   ],
   "source": [
    "\n",
    "%%bq sample --query num_stat_id_db_id_16"
   ]
  },
  {
   "cell_type": "markdown",
   "metadata": {},
   "source": [
    "각각 모든 stat_id는 3629개고 6번 디비에서는 1374, 13번 디비에서는 3629, 16번 ㅇ디비에서는 1812의 stat_id가 있다."
   ]
  },
  {
   "cell_type": "markdown",
   "metadata": {},
   "source": [
>>>>>>> yh_dev
    "# 총 몇개의 time 이 있을까?"
   ]
  },
  {
   "cell_type": "code",
<<<<<<< HEAD
   "execution_count": 26,
=======
   "execution_count": 33,
>>>>>>> yh_dev
   "metadata": {
    "collapsed": false
   },
   "outputs": [
    {
     "data": {
      "text/html": [
       "\n",
       "          <script src=\"/static/components/requirejs/require.js\"></script>\n",
       "          <script>\n",
       "            requirejs.config({\n",
       "              paths: {\n",
       "                base: '/static/base',\n",
       "              },\n",
       "            });\n",
       "          </script>\n",
       "          "
      ],
      "text/plain": [
       "<IPython.core.display.HTML object>"
      ]
     },
     "metadata": {},
     "output_type": "display_data"
    }
   ],
   "source": [
    "%%bq query --name totaltime\n",
<<<<<<< HEAD
    "SELECT COUNT(a)\n",
=======
    "SELECT count(a)\n",
>>>>>>> yh_dev
    "FROM(\n",
    "  SELECT COUNT(event_id) as a\n",
    "  FROM `exem-191100.ods_im5.xapm_db_wait`\n",
    "  WHERE db_id = 6\n",
    "  GROUP BY time\n",
    "  ORDER BY time\n",
    ")"
   ]
  },
  {
   "cell_type": "code",
<<<<<<< HEAD
   "execution_count": 12,
=======
   "execution_count": 34,
>>>>>>> yh_dev
   "metadata": {
    "collapsed": false
   },
   "outputs": [
    {
     "data": {
      "text/html": [
       "\n",
       "          <script src=\"/static/components/requirejs/require.js\"></script>\n",
       "          <script>\n",
       "            requirejs.config({\n",
       "              paths: {\n",
       "                base: '/static/base',\n",
       "              },\n",
       "            });\n",
       "          </script>\n",
       "          "
      ],
      "text/plain": [
       "<IPython.core.display.HTML object>"
      ]
     },
     "metadata": {},
     "output_type": "display_data"
    },
    {
     "data": {
      "text/html": [
       "\n",
<<<<<<< HEAD
       "    <div class=\"bqtv\" id=\"6_151548088406\"><table><tr><th>f0_</th></tr><tr><td>44396</td></tr></table></div>\n",
       "    <br />(rows: 1, time: 1.9s,   398MB processed, job: job_deFsO6nC7VLCv134brlfS8_AqWuI)<br />\n",
=======
       "    <div class=\"bqtv\" id=\"12_151555013412\"><table><tr><th>f0_</th></tr><tr><td>44396</td></tr></table></div>\n",
       "    <br />(rows: 1, time: 1.9s,   398MB processed, job: job_yMnSYrXnhudAjrLXXSW5StFhuo72)<br />\n",
>>>>>>> yh_dev
       "    <script>\n",
       "\n",
       "      require.config({\n",
       "        paths: {\n",
       "          d3: '//cdnjs.cloudflare.com/ajax/libs/d3/3.4.13/d3',\n",
       "          plotly: 'https://cdn.plot.ly/plotly-1.5.1.min.js?noext',\n",
       "          jquery: '//ajax.googleapis.com/ajax/libs/jquery/2.0.0/jquery.min'\n",
       "        },\n",
       "        map: {\n",
       "          '*': {\n",
       "            datalab: 'nbextensions/gcpdatalab'\n",
       "          }\n",
       "        },\n",
       "        shim: {\n",
       "          plotly: {\n",
       "            deps: ['d3', 'jquery'],\n",
       "            exports: 'plotly'\n",
       "          }\n",
       "        }\n",
       "      });\n",
       "\n",
<<<<<<< HEAD
       "      require(['datalab/charting', 'datalab/element!6_151548088406', 'base/js/events',\n",
=======
       "      require(['datalab/charting', 'datalab/element!12_151555013412', 'base/js/events',\n",
>>>>>>> yh_dev
       "          'datalab/style!/nbextensions/gcpdatalab/charting.css'],\n",
       "        function(charts, dom, events) {\n",
       "          charts.render('gcharts', dom, events, 'table', [], {\"rows\": [{\"c\": [{\"v\": 44396}]}], \"cols\": [{\"type\": \"number\", \"id\": \"f0_\", \"label\": \"f0_\"}]},\n",
       "            {\n",
       "              pageSize: 25,\n",
       "              cssClassNames:  {\n",
       "                tableRow: 'gchart-table-row',\n",
       "                headerRow: 'gchart-table-headerrow',\n",
       "                oddTableRow: 'gchart-table-oddrow',\n",
       "                selectedTableRow: 'gchart-table-selectedrow',\n",
       "                hoverTableRow: 'gchart-table-hoverrow',\n",
       "                tableCell: 'gchart-table-cell',\n",
       "                headerCell: 'gchart-table-headercell',\n",
       "                rowNumberCell: 'gchart-table-rownumcell'\n",
       "              }\n",
       "            },\n",
<<<<<<< HEAD
       "            {source_index: 5, fields: 'f0_'},\n",
=======
       "            {source_index: 11, fields: 'f0_'},\n",
>>>>>>> yh_dev
       "            0,\n",
       "            1);\n",
       "        }\n",
       "      );\n",
       "    </script>\n",
       "  "
      ],
      "text/plain": [
<<<<<<< HEAD
       "QueryResultsTable job_deFsO6nC7VLCv134brlfS8_AqWuI"
      ]
     },
     "execution_count": 12,
=======
       "QueryResultsTable job_yMnSYrXnhudAjrLXXSW5StFhuo72"
      ]
     },
     "execution_count": 34,
>>>>>>> yh_dev
     "metadata": {},
     "output_type": "execute_result"
    }
   ],
   "source": [
<<<<<<< HEAD
    "%%bq sample --query tota ltime --count 100"
=======
    "%%bq sample --query totaltime --count 100"
>>>>>>> yh_dev
   ]
  },
  {
   "cell_type": "markdown",
   "metadata": {},
   "source": [
    "# event 당 발생하는 wait_time의 빈도, 평균 구하기"
   ]
  },
  {
   "cell_type": "code",
<<<<<<< HEAD
   "execution_count": 27,
=======
   "execution_count": 28,
>>>>>>> yh_dev
   "metadata": {
    "collapsed": false
   },
   "outputs": [
    {
     "data": {
      "text/html": [
       "\n",
       "          <script src=\"/static/components/requirejs/require.js\"></script>\n",
       "          <script>\n",
       "            requirejs.config({\n",
       "              paths: {\n",
       "                base: '/static/base',\n",
       "              },\n",
       "            });\n",
       "          </script>\n",
       "          "
      ],
      "text/plain": [
       "<IPython.core.display.HTML object>"
      ]
     },
     "metadata": {},
     "output_type": "display_data"
    }
   ],
   "source": [
    "%%bq query --name wait_time_per_event\n",
    "SELECT event_id, COUNT(wait_time) as count, AVG(wait_time) as avg\n",
    "FROM `exem-191100.ods_im5.xapm_db_wait`\n",
    "WHERE db_id = 6\n",
    "GROUP BY event_id\n",
    "ORDER BY event_id"
   ]
  },
  {
   "cell_type": "code",
<<<<<<< HEAD
   "execution_count": 28,
=======
   "execution_count": 29,
>>>>>>> yh_dev
   "metadata": {
    "collapsed": false
   },
   "outputs": [
    {
     "data": {
      "text/html": [
       "\n",
       "          <script src=\"/static/components/requirejs/require.js\"></script>\n",
       "          <script>\n",
       "            requirejs.config({\n",
       "              paths: {\n",
       "                base: '/static/base',\n",
       "              },\n",
       "            });\n",
       "          </script>\n",
       "          "
      ],
      "text/plain": [
       "<IPython.core.display.HTML object>"
      ]
     },
     "metadata": {},
     "output_type": "display_data"
    },
    {
     "data": {
      "text/html": [
       "\n",
<<<<<<< HEAD
       "    <div class=\"bqtv\" id=\"12_151548736409\"><table><tr><th>event_id</th><th>count</th><th>avg</th></tr><tr><td>1</td><td>44396</td><td>149733.879719</td></tr><tr><td>7</td><td>44396</td><td>533401.289846</td></tr><tr><td>11</td><td>44396</td><td>0.714231011803</td></tr><tr><td>14</td><td>44396</td><td>0.0</td></tr><tr><td>15</td><td>44396</td><td>2.15093702135</td></tr><tr><td>20</td><td>44396</td><td>0.0770114424723</td></tr><tr><td>22</td><td>44396</td><td>0.0</td></tr><tr><td>65</td><td>44396</td><td>51238.8286332</td></tr><tr><td>68</td><td>44396</td><td>16.4313676908</td></tr><tr><td>71</td><td>44396</td><td>239.147152897</td></tr><tr><td>74</td><td>44396</td><td>299450.017254</td></tr><tr><td>79</td><td>44396</td><td>0.388210649608</td></tr><tr><td>81</td><td>44396</td><td>5.15161275791</td></tr><tr><td>83</td><td>44396</td><td>650.083025498</td></tr><tr><td>88</td><td>44396</td><td>0.848432291197</td></tr><tr><td>91</td><td>44396</td><td>0.000112622758807</td></tr><tr><td>92</td><td>44396</td><td>1.12897558339</td></tr><tr><td>95</td><td>44396</td><td>5.35032435355</td></tr><tr><td>98</td><td>44396</td><td>0.0692855212181</td></tr><tr><td>100</td><td>44396</td><td>0.00763582304712</td></tr><tr><td>108</td><td>44396</td><td>0.95907288945</td></tr><tr><td>109</td><td>44396</td><td>0.0151364987837</td></tr><tr><td>133</td><td>44396</td><td>0.00173439048563</td></tr><tr><td>134</td><td>44396</td><td>1.27112802955</td></tr><tr><td>135</td><td>44396</td><td>274.333048022</td></tr></table></div>\n",
       "    <br />(rows: 122, time: 1.7s,   398MB processed, job: job_2dTm1j_sqfOce9esMCSHR6T_SJBP)<br />\n",
=======
       "    <div class=\"bqtv\" id=\"9_151555009000\"><table><tr><th>event_id</th><th>count</th><th>avg</th></tr><tr><td>1</td><td>44396</td><td>149733.879719</td></tr><tr><td>7</td><td>44396</td><td>533401.289846</td></tr><tr><td>11</td><td>44396</td><td>0.714231011803</td></tr><tr><td>14</td><td>44396</td><td>0.0</td></tr><tr><td>15</td><td>44396</td><td>2.15093702135</td></tr><tr><td>20</td><td>44396</td><td>0.0770114424723</td></tr><tr><td>22</td><td>44396</td><td>0.0</td></tr><tr><td>65</td><td>44396</td><td>51238.8286332</td></tr><tr><td>68</td><td>44396</td><td>16.4313676908</td></tr><tr><td>71</td><td>44396</td><td>239.147152897</td></tr><tr><td>74</td><td>44396</td><td>299450.017254</td></tr><tr><td>79</td><td>44396</td><td>0.388210649608</td></tr><tr><td>81</td><td>44396</td><td>5.15161275791</td></tr><tr><td>83</td><td>44396</td><td>650.083025498</td></tr><tr><td>88</td><td>44396</td><td>0.848432291197</td></tr><tr><td>91</td><td>44396</td><td>0.000112622758807</td></tr><tr><td>92</td><td>44396</td><td>1.12897558339</td></tr><tr><td>95</td><td>44396</td><td>5.35032435355</td></tr><tr><td>98</td><td>44396</td><td>0.0692855212181</td></tr><tr><td>100</td><td>44396</td><td>0.00763582304712</td></tr><tr><td>108</td><td>44396</td><td>0.95907288945</td></tr><tr><td>109</td><td>44396</td><td>0.0151364987837</td></tr><tr><td>133</td><td>44396</td><td>0.00173439048563</td></tr><tr><td>134</td><td>44396</td><td>1.27112802955</td></tr><tr><td>135</td><td>44396</td><td>274.333048022</td></tr></table></div>\n",
       "    <br />(rows: 122, time: 0.3s, cached, job: job_Xc5aXwKAhQ9rEBhGAm-8wHhg4zVa)<br />\n",
>>>>>>> yh_dev
       "    <script>\n",
       "\n",
       "      require.config({\n",
       "        paths: {\n",
       "          d3: '//cdnjs.cloudflare.com/ajax/libs/d3/3.4.13/d3',\n",
       "          plotly: 'https://cdn.plot.ly/plotly-1.5.1.min.js?noext',\n",
       "          jquery: '//ajax.googleapis.com/ajax/libs/jquery/2.0.0/jquery.min'\n",
       "        },\n",
       "        map: {\n",
       "          '*': {\n",
       "            datalab: 'nbextensions/gcpdatalab'\n",
       "          }\n",
       "        },\n",
       "        shim: {\n",
       "          plotly: {\n",
       "            deps: ['d3', 'jquery'],\n",
       "            exports: 'plotly'\n",
       "          }\n",
       "        }\n",
       "      });\n",
       "\n",
<<<<<<< HEAD
       "      require(['datalab/charting', 'datalab/element!12_151548736409', 'base/js/events',\n",
=======
       "      require(['datalab/charting', 'datalab/element!9_151555009000', 'base/js/events',\n",
>>>>>>> yh_dev
       "          'datalab/style!/nbextensions/gcpdatalab/charting.css'],\n",
       "        function(charts, dom, events) {\n",
       "          charts.render('gcharts', dom, events, 'paged_table', [], {\"rows\": [{\"c\": [{\"v\": 1}, {\"v\": 44396}, {\"v\": 149733.87971889385}]}, {\"c\": [{\"v\": 7}, {\"v\": 44396}, {\"v\": 533401.289845931}]}, {\"c\": [{\"v\": 11}, {\"v\": 44396}, {\"v\": 0.7142310118028639}]}, {\"c\": [{\"v\": 14}, {\"v\": 44396}, {\"v\": 0.0}]}, {\"c\": [{\"v\": 15}, {\"v\": 44396}, {\"v\": 2.150937021353277}]}, {\"c\": [{\"v\": 20}, {\"v\": 44396}, {\"v\": 0.07701144247229474}]}, {\"c\": [{\"v\": 22}, {\"v\": 44396}, {\"v\": 0.0}]}, {\"c\": [{\"v\": 65}, {\"v\": 44396}, {\"v\": 51238.82863321033}]}, {\"c\": [{\"v\": 68}, {\"v\": 44396}, {\"v\": 16.431367690782956}]}, {\"c\": [{\"v\": 71}, {\"v\": 44396}, {\"v\": 239.14715289665764}]}, {\"c\": [{\"v\": 74}, {\"v\": 44396}, {\"v\": 299450.0172538074}]}, {\"c\": [{\"v\": 79}, {\"v\": 44396}, {\"v\": 0.38821064960807233}]}, {\"c\": [{\"v\": 81}, {\"v\": 44396}, {\"v\": 5.151612757906122}]}, {\"c\": [{\"v\": 83}, {\"v\": 44396}, {\"v\": 650.0830254977924}]}, {\"c\": [{\"v\": 88}, {\"v\": 44396}, {\"v\": 0.8484322911974053}]}, {\"c\": [{\"v\": 91}, {\"v\": 44396}, {\"v\": 0.00011262275880709972}]}, {\"c\": [{\"v\": 92}, {\"v\": 44396}, {\"v\": 1.128975583385894}]}, {\"c\": [{\"v\": 95}, {\"v\": 44396}, {\"v\": 5.350324353545365}]}, {\"c\": [{\"v\": 98}, {\"v\": 44396}, {\"v\": 0.06928552121812767}]}, {\"c\": [{\"v\": 100}, {\"v\": 44396}, {\"v\": 0.007635823047121346}]}, {\"c\": [{\"v\": 108}, {\"v\": 44396}, {\"v\": 0.9590728894495002}]}, {\"c\": [{\"v\": 109}, {\"v\": 44396}, {\"v\": 0.015136498783674221}]}, {\"c\": [{\"v\": 133}, {\"v\": 44396}, {\"v\": 0.0017343904856293346}]}, {\"c\": [{\"v\": 134}, {\"v\": 44396}, {\"v\": 1.2711280295522107}]}, {\"c\": [{\"v\": 135}, {\"v\": 44396}, {\"v\": 274.3330480223446}]}], \"cols\": [{\"type\": \"number\", \"id\": \"event_id\", \"label\": \"event_id\"}, {\"type\": \"number\", \"id\": \"count\", \"label\": \"count\"}, {\"type\": \"number\", \"id\": \"avg\", \"label\": \"avg\"}]},\n",
       "            {\n",
       "              pageSize: 25,\n",
       "              cssClassNames:  {\n",
       "                tableRow: 'gchart-table-row',\n",
       "                headerRow: 'gchart-table-headerrow',\n",
       "                oddTableRow: 'gchart-table-oddrow',\n",
       "                selectedTableRow: 'gchart-table-selectedrow',\n",
       "                hoverTableRow: 'gchart-table-hoverrow',\n",
       "                tableCell: 'gchart-table-cell',\n",
       "                headerCell: 'gchart-table-headercell',\n",
       "                rowNumberCell: 'gchart-table-rownumcell'\n",
       "              }\n",
       "            },\n",
<<<<<<< HEAD
       "            {source_index: 11, fields: 'event_id,count,avg'},\n",
=======
       "            {source_index: 8, fields: 'event_id,count,avg'},\n",
>>>>>>> yh_dev
       "            0,\n",
       "            122);\n",
       "        }\n",
       "      );\n",
       "    </script>\n",
       "  "
      ],
      "text/plain": [
<<<<<<< HEAD
       "QueryResultsTable job_2dTm1j_sqfOce9esMCSHR6T_SJBP"
      ]
     },
     "execution_count": 28,
=======
       "QueryResultsTable job_Xc5aXwKAhQ9rEBhGAm-8wHhg4zVa"
      ]
     },
     "execution_count": 29,
>>>>>>> yh_dev
     "metadata": {},
     "output_type": "execute_result"
    }
   ],
   "source": [
    "%%bq sample --query wait_time_per_event --count 1000"
   ]
  },
  {
   "cell_type": "markdown",
   "metadata": {},
   "source": [
    "**1367개의 event 중 나오는 122개의 event는 고정이며 1분마다 모든 event가 발생하는구나..!**"
   ]
  },
  {
   "cell_type": "markdown",
   "metadata": {},
   "source": [
    "## 질문\n",
    "\n",
    "- min_wait가 음수인건 뭘까? outlier처리 해주어야하나\n",
    "- wait가 시간에 따른 event의 패턴에 따라 달라지기도 할까?\n",
    "- event, count, time_out의 정의를 알아야...\n",
    "\n",
    "- 추가적으로 max는 1분동안 "
   ]
  },
  {
   "cell_type": "markdown",
   "metadata": {},
   "source": []
  }
 ],
 "metadata": {
  "kernelspec": {
   "display_name": "Python 2",
   "language": "python",
   "name": "python2"
  },
  "language_info": {
   "codemirror_mode": {
    "name": "ipython",
    "version": 2
   },
   "file_extension": ".py",
   "mimetype": "text/x-python",
   "name": "python",
   "nbconvert_exporter": "python",
   "pygments_lexer": "ipython2",
   "version": "2.7.12"
  }
 },
 "nbformat": 4,
 "nbformat_minor": 2
}
