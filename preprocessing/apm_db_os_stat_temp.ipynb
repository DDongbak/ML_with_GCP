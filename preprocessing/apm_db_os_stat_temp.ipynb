{
 "cells": [
  {
   "cell_type": "code",
   "execution_count": 3,
   "metadata": {
    "collapsed": false
   },
   "outputs": [],
   "source": [
    "import google.datalab.bigquery as bq\n",
    "import pandas as pd"
   ]
  },
  {
   "cell_type": "markdown",
   "metadata": {},
   "source": [
    "# SCHEMA"
   ]
  },
  {
   "cell_type": "code",
   "execution_count": 19,
   "metadata": {
    "collapsed": false
   },
   "outputs": [
    {
     "name": "stdout",
     "output_type": "stream",
     "text": [
      "Table xmdw31:ods_mga.apm_db_os_stat_temp\n",
      "\n",
      "   Last modified             Schema             Total Rows   Total Bytes   Expiration   Time Partitioning   Labels   kmsKeyName  \n",
      " ----------------- --------------------------- ------------ ------------- ------------ ------------------- -------- ------------ \n",
      "  24 Jan 08:09:23   |- partition_key: integer   25225288     1009011520                                                          \n",
      "                    |- db_id: integer                                                                                            \n",
      "                    |- time: timestamp                                                                                           \n",
      "                    |- os_id: integer                                                                                            \n",
      "                    |- max_value: float                                                                                          \n",
      "                    |- avg_value: float                                                                                          \n",
      "\n"
     ]
    }
   ],
   "source": []
  },
  {
   "cell_type": "markdown",
   "metadata": {},
   "source": [
    "# sample"
   ]
  },
  {
   "cell_type": "code",
   "execution_count": 20,
   "metadata": {
    "collapsed": false
   },
   "outputs": [
    {
     "name": "stdout",
     "output_type": "stream",
     "text": [
      "+---------------+-------+---------------------+-------+-----------+-----------+\n",
      "| partition_key | db_id |        time         | os_id | max_value | avg_value |\n",
      "+---------------+-------+---------------------+-------+-----------+-----------+\n",
      "|     180117001 |     1 | 2018-01-16 15:03:05 |     0 |      NULL |    3580.0 |\n",
      "|     180117001 |     1 | 2018-01-16 15:20:39 |     0 |      NULL |      30.0 |\n",
      "|     180117001 |     1 | 2018-01-16 15:20:45 |     0 |      NULL |       0.0 |\n",
      "|     180117001 |     1 | 2018-01-16 15:22:13 |     0 |      NULL |    3240.0 |\n",
      "|     180117001 |     1 | 2018-01-16 15:36:44 |     0 |      NULL |    5630.0 |\n",
      "+---------------+-------+---------------------+-------+-----------+-----------+\n"
     ]
    }
   ],
   "source": [
    "%%bash\n",
    "bq head -n 5 xmdw31:ods_mga.apm_db_os_stat_temp"
   ]
  },
  {
   "cell_type": "markdown",
   "metadata": {},
   "source": [
    "# os_id 의 갯수는 22개이다 0~21"
   ]
  },
  {
   "cell_type": "code",
   "execution_count": 60,
   "metadata": {
    "collapsed": false
   },
   "outputs": [
    {
     "data": {
      "text/html": [
       "\n",
       "    <div class=\"bqtv\" id=\"21_151814341941\"><table><tr><th>os_id</th></tr><tr><td>0</td></tr><tr><td>1</td></tr><tr><td>2</td></tr><tr><td>3</td></tr><tr><td>4</td></tr><tr><td>5</td></tr><tr><td>6</td></tr><tr><td>7</td></tr><tr><td>8</td></tr><tr><td>9</td></tr><tr><td>10</td></tr><tr><td>11</td></tr><tr><td>12</td></tr><tr><td>13</td></tr><tr><td>14</td></tr><tr><td>15</td></tr><tr><td>16</td></tr><tr><td>17</td></tr><tr><td>18</td></tr><tr><td>19</td></tr><tr><td>20</td></tr><tr><td>21</td></tr></table></div>\n",
       "    <br />(rows: 22, time: 1.4s,   201MB processed, job: job_aVNi8ADgmYG8r9wQivCOKeRDLrSF)<br />\n",
       "    <script src=\"/static/components/requirejs/require.js\"></script>\n",
       "    <script>\n",
       "      require.config({\n",
       "        paths: {\n",
       "          base: '/static/base',\n",
       "          d3: '//cdnjs.cloudflare.com/ajax/libs/d3/3.4.13/d3',\n",
       "          plotly: 'https://cdn.plot.ly/plotly-1.5.1.min.js?noext',\n",
       "          jquery: '//ajax.googleapis.com/ajax/libs/jquery/2.0.0/jquery.min'\n",
       "        },\n",
       "        map: {\n",
       "          '*': {\n",
       "            datalab: 'nbextensions/gcpdatalab'\n",
       "          }\n",
       "        },\n",
       "        shim: {\n",
       "          plotly: {\n",
       "            deps: ['d3', 'jquery'],\n",
       "            exports: 'plotly'\n",
       "          }\n",
       "        }\n",
       "      });\n",
       "\n",
       "      require(['datalab/charting', 'datalab/element!21_151814341941', 'base/js/events',\n",
       "          'datalab/style!/nbextensions/gcpdatalab/charting.css'],\n",
       "        function(charts, dom, events) {\n",
       "          charts.render('gcharts', dom, events, 'table', [], {\"rows\": [{\"c\": [{\"v\": 0}]}, {\"c\": [{\"v\": 1}]}, {\"c\": [{\"v\": 2}]}, {\"c\": [{\"v\": 3}]}, {\"c\": [{\"v\": 4}]}, {\"c\": [{\"v\": 5}]}, {\"c\": [{\"v\": 6}]}, {\"c\": [{\"v\": 7}]}, {\"c\": [{\"v\": 8}]}, {\"c\": [{\"v\": 9}]}, {\"c\": [{\"v\": 10}]}, {\"c\": [{\"v\": 11}]}, {\"c\": [{\"v\": 12}]}, {\"c\": [{\"v\": 13}]}, {\"c\": [{\"v\": 14}]}, {\"c\": [{\"v\": 15}]}, {\"c\": [{\"v\": 16}]}, {\"c\": [{\"v\": 17}]}, {\"c\": [{\"v\": 18}]}, {\"c\": [{\"v\": 19}]}, {\"c\": [{\"v\": 20}]}, {\"c\": [{\"v\": 21}]}], \"cols\": [{\"type\": \"number\", \"id\": \"os_id\", \"label\": \"os_id\"}]},\n",
       "            {\n",
       "              pageSize: 25,\n",
       "              cssClassNames:  {\n",
       "                tableRow: 'gchart-table-row',\n",
       "                headerRow: 'gchart-table-headerrow',\n",
       "                oddTableRow: 'gchart-table-oddrow',\n",
       "                selectedTableRow: 'gchart-table-selectedrow',\n",
       "                hoverTableRow: 'gchart-table-hoverrow',\n",
       "                tableCell: 'gchart-table-cell',\n",
       "                headerCell: 'gchart-table-headercell',\n",
       "                rowNumberCell: 'gchart-table-rownumcell'\n",
       "              }\n",
       "            },\n",
       "            {source_index: 17, fields: 'os_id'},\n",
       "            0,\n",
       "            22);\n",
       "        }\n",
       "      );\n",
       "    </script>\n",
       "  "
      ],
      "text/plain": [
       "QueryResultsTable job_aVNi8ADgmYG8r9wQivCOKeRDLrSF"
      ]
     },
     "execution_count": 60,
     "metadata": {},
     "output_type": "execute_result"
    }
   ],
   "source": [
    "%%bq query \n",
    "--name os_num\n",
    "SELECT os_id\n",
    "FROM `xmdw31.ods_mga.apm_db_os_stat_temp`\n",
    "GROUP BY os_id"
   ]
  },
  {
   "cell_type": "code",
   "execution_count": 7,
   "metadata": {
    "collapsed": false
   },
   "outputs": [],
   "source": [
    "%%bq query \n",
    "--name time_avg_value_os_id_1\n",
    "SELECT time, avg_value\n",
    "FROM `xmdw31.ods_mga.apm_db_os_stat_temp`\n",
    "WHERE os_id = 1\n",
    "ORDER BY time\n",
    "\n"
   ]
  },
  {
   "cell_type": "markdown",
   "metadata": {},
   "source": [
    "max_value데이터는 없는 것으로 확인되었다."
   ]
  },
  {
   "cell_type": "code",
   "execution_count": 59,
   "metadata": {
    "collapsed": false
   },
   "outputs": [
    {
     "data": {
      "text/html": [
       "\n",
       "    <div class=\"bqtv\" id=\"20_151814337585\"><table><tr><th>f0_</th></tr><tr><td>0</td></tr></table></div>\n",
       "    <br />(rows: 1, time: 0.9s,   201MB processed, job: job_rP65GYNjCKqhVke8aUgr3sw06sWo)<br />\n",
       "    <script src=\"/static/components/requirejs/require.js\"></script>\n",
       "    <script>\n",
       "      require.config({\n",
       "        paths: {\n",
       "          base: '/static/base',\n",
       "          d3: '//cdnjs.cloudflare.com/ajax/libs/d3/3.4.13/d3',\n",
       "          plotly: 'https://cdn.plot.ly/plotly-1.5.1.min.js?noext',\n",
       "          jquery: '//ajax.googleapis.com/ajax/libs/jquery/2.0.0/jquery.min'\n",
       "        },\n",
       "        map: {\n",
       "          '*': {\n",
       "            datalab: 'nbextensions/gcpdatalab'\n",
       "          }\n",
       "        },\n",
       "        shim: {\n",
       "          plotly: {\n",
       "            deps: ['d3', 'jquery'],\n",
       "            exports: 'plotly'\n",
       "          }\n",
       "        }\n",
       "      });\n",
       "\n",
       "      require(['datalab/charting', 'datalab/element!20_151814337585', 'base/js/events',\n",
       "          'datalab/style!/nbextensions/gcpdatalab/charting.css'],\n",
       "        function(charts, dom, events) {\n",
       "          charts.render('gcharts', dom, events, 'table', [], {\"rows\": [{\"c\": [{\"v\": 0}]}], \"cols\": [{\"type\": \"number\", \"id\": \"f0_\", \"label\": \"f0_\"}]},\n",
       "            {\n",
       "              pageSize: 25,\n",
       "              cssClassNames:  {\n",
       "                tableRow: 'gchart-table-row',\n",
       "                headerRow: 'gchart-table-headerrow',\n",
       "                oddTableRow: 'gchart-table-oddrow',\n",
       "                selectedTableRow: 'gchart-table-selectedrow',\n",
       "                hoverTableRow: 'gchart-table-hoverrow',\n",
       "                tableCell: 'gchart-table-cell',\n",
       "                headerCell: 'gchart-table-headercell',\n",
       "                rowNumberCell: 'gchart-table-rownumcell'\n",
       "              }\n",
       "            },\n",
       "            {source_index: 16, fields: 'f0_'},\n",
       "            0,\n",
       "            1);\n",
       "        }\n",
       "      );\n",
       "    </script>\n",
       "  "
      ],
      "text/plain": [
       "QueryResultsTable job_rP65GYNjCKqhVke8aUgr3sw06sWo"
      ]
     },
     "execution_count": 59,
     "metadata": {},
     "output_type": "execute_result"
    }
   ],
   "source": [
    "%%bq query \n",
    "--name count_max_value\n",
    "SELECT  COUNT(max_value)\n",
    "FROM `xmdw31.ods_mga.apm_db_os_stat_temp`\n",
    "WHERE os_id = 1"
   ]
  },
  {
   "cell_type": "markdown",
   "metadata": {},
   "source": [
    "# partition_key 가 어떤 것인지 파악해 보기 위해서 조회를 해보고 있다."
   ]
  },
  {
   "cell_type": "code",
   "execution_count": 4,
   "metadata": {
    "collapsed": false
   },
   "outputs": [
    {
     "data": {
      "text/html": [
       "\n",
       "    <div class=\"bqtv\" id=\"2_151902469270\"><table><tr><th>os_id</th><th>f0_</th></tr><tr><td>0</td><td>1146604</td></tr><tr><td>1</td><td>1146604</td></tr><tr><td>2</td><td>1146604</td></tr><tr><td>3</td><td>1146604</td></tr><tr><td>4</td><td>1146604</td></tr><tr><td>5</td><td>1146604</td></tr><tr><td>6</td><td>1146604</td></tr><tr><td>7</td><td>1146604</td></tr><tr><td>8</td><td>1146604</td></tr><tr><td>9</td><td>1146604</td></tr><tr><td>10</td><td>1146604</td></tr><tr><td>11</td><td>1146604</td></tr><tr><td>12</td><td>1146604</td></tr><tr><td>13</td><td>1146604</td></tr><tr><td>14</td><td>1146604</td></tr><tr><td>15</td><td>1146604</td></tr><tr><td>16</td><td>1146604</td></tr><tr><td>17</td><td>1146604</td></tr><tr><td>18</td><td>1146604</td></tr><tr><td>19</td><td>1146604</td></tr><tr><td>20</td><td>1146604</td></tr><tr><td>21</td><td>1146604</td></tr></table></div>\n",
       "    <br />(rows: 22, time: 0.2s, cached, job: job_2sTQDyYxyTmlwfUcJVcxYgvv312V)<br />\n",
       "    <script src=\"/static/components/requirejs/require.js\"></script>\n",
       "    <script>\n",
       "      require.config({\n",
       "        paths: {\n",
       "          base: '/static/base',\n",
       "          d3: '//cdnjs.cloudflare.com/ajax/libs/d3/3.4.13/d3',\n",
       "          plotly: 'https://cdn.plot.ly/plotly-1.5.1.min.js?noext',\n",
       "          jquery: '//ajax.googleapis.com/ajax/libs/jquery/2.0.0/jquery.min'\n",
       "        },\n",
       "        map: {\n",
       "          '*': {\n",
       "            datalab: 'nbextensions/gcpdatalab'\n",
       "          }\n",
       "        },\n",
       "        shim: {\n",
       "          plotly: {\n",
       "            deps: ['d3', 'jquery'],\n",
       "            exports: 'plotly'\n",
       "          }\n",
       "        }\n",
       "      });\n",
       "\n",
       "      require(['datalab/charting', 'datalab/element!2_151902469270', 'base/js/events',\n",
       "          'datalab/style!/nbextensions/gcpdatalab/charting.css'],\n",
       "        function(charts, dom, events) {\n",
       "          charts.render('gcharts', dom, events, 'table', [], {\"rows\": [{\"c\": [{\"v\": 0}, {\"v\": 1146604}]}, {\"c\": [{\"v\": 1}, {\"v\": 1146604}]}, {\"c\": [{\"v\": 2}, {\"v\": 1146604}]}, {\"c\": [{\"v\": 3}, {\"v\": 1146604}]}, {\"c\": [{\"v\": 4}, {\"v\": 1146604}]}, {\"c\": [{\"v\": 5}, {\"v\": 1146604}]}, {\"c\": [{\"v\": 6}, {\"v\": 1146604}]}, {\"c\": [{\"v\": 7}, {\"v\": 1146604}]}, {\"c\": [{\"v\": 8}, {\"v\": 1146604}]}, {\"c\": [{\"v\": 9}, {\"v\": 1146604}]}, {\"c\": [{\"v\": 10}, {\"v\": 1146604}]}, {\"c\": [{\"v\": 11}, {\"v\": 1146604}]}, {\"c\": [{\"v\": 12}, {\"v\": 1146604}]}, {\"c\": [{\"v\": 13}, {\"v\": 1146604}]}, {\"c\": [{\"v\": 14}, {\"v\": 1146604}]}, {\"c\": [{\"v\": 15}, {\"v\": 1146604}]}, {\"c\": [{\"v\": 16}, {\"v\": 1146604}]}, {\"c\": [{\"v\": 17}, {\"v\": 1146604}]}, {\"c\": [{\"v\": 18}, {\"v\": 1146604}]}, {\"c\": [{\"v\": 19}, {\"v\": 1146604}]}, {\"c\": [{\"v\": 20}, {\"v\": 1146604}]}, {\"c\": [{\"v\": 21}, {\"v\": 1146604}]}], \"cols\": [{\"type\": \"number\", \"id\": \"os_id\", \"label\": \"os_id\"}, {\"type\": \"number\", \"id\": \"f0_\", \"label\": \"f0_\"}]},\n",
       "            {\n",
       "              pageSize: 25,\n",
       "              cssClassNames:  {\n",
       "                tableRow: 'gchart-table-row',\n",
       "                headerRow: 'gchart-table-headerrow',\n",
       "                oddTableRow: 'gchart-table-oddrow',\n",
       "                selectedTableRow: 'gchart-table-selectedrow',\n",
       "                hoverTableRow: 'gchart-table-hoverrow',\n",
       "                tableCell: 'gchart-table-cell',\n",
       "                headerCell: 'gchart-table-headercell',\n",
       "                rowNumberCell: 'gchart-table-rownumcell'\n",
       "              }\n",
       "            },\n",
       "            {source_index: 0, fields: 'os_id,f0_'},\n",
       "            0,\n",
       "            22);\n",
       "        }\n",
       "      );\n",
       "    </script>\n",
       "  "
      ],
      "text/plain": [
       "QueryResultsTable job_2sTQDyYxyTmlwfUcJVcxYgvv312V"
      ]
     },
     "execution_count": 4,
     "metadata": {},
     "output_type": "execute_result"
    }
   ],
   "source": [
    "%%bq query \n",
    "--name count_partition_key\n",
    "#SQL query to return count_partition_key \n",
    "SELECT  os_id, COUNT(partition_key)\n",
    "FROM `xmdw31.ods_mga.apm_db_os_stat_temp`\n",
    "GROUP BY os_id\n",
    "ORDER BY os_id"
   ]
  },
  {
   "cell_type": "markdown",
   "metadata": {},
   "source": [
    "## os_id 에 따라서 1146604개의 partition_key가 있다. 이 숫자와 시간의 분포를 보아야 겠다."
   ]
  },
  {
   "cell_type": "code",
   "execution_count": 11,
   "metadata": {
    "collapsed": false
   },
   "outputs": [
    {
     "data": {
      "text/html": [
       "\n",
       "    <div class=\"bqtv\" id=\"2_151815546916\"><table><tr><th>time</th><th>os_id</th><th>partition_key</th></tr><tr><td>2018-01-05 00:16:14</td><td>1</td><td>180105001</td></tr><tr><td>2018-01-05 00:16:14</td><td>19</td><td>180105001</td></tr><tr><td>2018-01-05 00:16:14</td><td>20</td><td>180105001</td></tr><tr><td>2018-01-05 00:16:14</td><td>21</td><td>180105001</td></tr><tr><td>2018-01-05 00:16:14</td><td>17</td><td>180105001</td></tr><tr><td>2018-01-05 00:16:14</td><td>7</td><td>180105001</td></tr><tr><td>2018-01-05 00:16:14</td><td>11</td><td>180105001</td></tr><tr><td>2018-01-05 00:16:14</td><td>9</td><td>180105001</td></tr><tr><td>2018-01-05 00:16:14</td><td>2</td><td>180105001</td></tr><tr><td>2018-01-05 00:16:14</td><td>13</td><td>180105001</td></tr><tr><td>2018-01-05 00:16:14</td><td>16</td><td>180105001</td></tr><tr><td>2018-01-05 00:16:14</td><td>12</td><td>180105001</td></tr><tr><td>2018-01-05 00:16:14</td><td>5</td><td>180105001</td></tr><tr><td>2018-01-05 00:16:14</td><td>8</td><td>180105001</td></tr><tr><td>2018-01-05 00:16:14</td><td>4</td><td>180105001</td></tr><tr><td>2018-01-05 00:16:14</td><td>3</td><td>180105001</td></tr><tr><td>2018-01-05 00:16:14</td><td>18</td><td>180105001</td></tr><tr><td>2018-01-05 00:16:14</td><td>15</td><td>180105001</td></tr><tr><td>2018-01-05 00:16:14</td><td>6</td><td>180105001</td></tr><tr><td>2018-01-05 00:16:14</td><td>10</td><td>180105001</td></tr><tr><td>2018-01-05 00:16:14</td><td>14</td><td>180105001</td></tr><tr><td>2018-01-05 00:16:14</td><td>0</td><td>180105001</td></tr><tr><td>2018-01-05 00:16:15</td><td>12</td><td>180105001</td></tr><tr><td>2018-01-05 00:16:15</td><td>18</td><td>180105001</td></tr><tr><td>2018-01-05 00:16:15</td><td>7</td><td>180105001</td></tr></table></div>\n",
       "    <br />(rows: 100, time: 1.7s,   605MB processed, job: job_OzJ-QznB4bAMewiHvMQj7SfFQvkN)<br />\n",
       "    <script src=\"/static/components/requirejs/require.js\"></script>\n",
       "    <script>\n",
       "      require.config({\n",
       "        paths: {\n",
       "          base: '/static/base',\n",
       "          d3: '//cdnjs.cloudflare.com/ajax/libs/d3/3.4.13/d3',\n",
       "          plotly: 'https://cdn.plot.ly/plotly-1.5.1.min.js?noext',\n",
       "          jquery: '//ajax.googleapis.com/ajax/libs/jquery/2.0.0/jquery.min'\n",
       "        },\n",
       "        map: {\n",
       "          '*': {\n",
       "            datalab: 'nbextensions/gcpdatalab'\n",
       "          }\n",
       "        },\n",
       "        shim: {\n",
       "          plotly: {\n",
       "            deps: ['d3', 'jquery'],\n",
       "            exports: 'plotly'\n",
       "          }\n",
       "        }\n",
       "      });\n",
       "\n",
       "      require(['datalab/charting', 'datalab/element!2_151815546916', 'base/js/events',\n",
       "          'datalab/style!/nbextensions/gcpdatalab/charting.css'],\n",
       "        function(charts, dom, events) {\n",
       "          charts.render('gcharts', dom, events, 'paged_table', [], {\"rows\": [{\"c\": [{\"v\": \"2018-01-05T00:16:14\"}, {\"v\": 1}, {\"v\": 180105001}]}, {\"c\": [{\"v\": \"2018-01-05T00:16:14\"}, {\"v\": 19}, {\"v\": 180105001}]}, {\"c\": [{\"v\": \"2018-01-05T00:16:14\"}, {\"v\": 20}, {\"v\": 180105001}]}, {\"c\": [{\"v\": \"2018-01-05T00:16:14\"}, {\"v\": 21}, {\"v\": 180105001}]}, {\"c\": [{\"v\": \"2018-01-05T00:16:14\"}, {\"v\": 17}, {\"v\": 180105001}]}, {\"c\": [{\"v\": \"2018-01-05T00:16:14\"}, {\"v\": 7}, {\"v\": 180105001}]}, {\"c\": [{\"v\": \"2018-01-05T00:16:14\"}, {\"v\": 11}, {\"v\": 180105001}]}, {\"c\": [{\"v\": \"2018-01-05T00:16:14\"}, {\"v\": 9}, {\"v\": 180105001}]}, {\"c\": [{\"v\": \"2018-01-05T00:16:14\"}, {\"v\": 2}, {\"v\": 180105001}]}, {\"c\": [{\"v\": \"2018-01-05T00:16:14\"}, {\"v\": 13}, {\"v\": 180105001}]}, {\"c\": [{\"v\": \"2018-01-05T00:16:14\"}, {\"v\": 16}, {\"v\": 180105001}]}, {\"c\": [{\"v\": \"2018-01-05T00:16:14\"}, {\"v\": 12}, {\"v\": 180105001}]}, {\"c\": [{\"v\": \"2018-01-05T00:16:14\"}, {\"v\": 5}, {\"v\": 180105001}]}, {\"c\": [{\"v\": \"2018-01-05T00:16:14\"}, {\"v\": 8}, {\"v\": 180105001}]}, {\"c\": [{\"v\": \"2018-01-05T00:16:14\"}, {\"v\": 4}, {\"v\": 180105001}]}, {\"c\": [{\"v\": \"2018-01-05T00:16:14\"}, {\"v\": 3}, {\"v\": 180105001}]}, {\"c\": [{\"v\": \"2018-01-05T00:16:14\"}, {\"v\": 18}, {\"v\": 180105001}]}, {\"c\": [{\"v\": \"2018-01-05T00:16:14\"}, {\"v\": 15}, {\"v\": 180105001}]}, {\"c\": [{\"v\": \"2018-01-05T00:16:14\"}, {\"v\": 6}, {\"v\": 180105001}]}, {\"c\": [{\"v\": \"2018-01-05T00:16:14\"}, {\"v\": 10}, {\"v\": 180105001}]}, {\"c\": [{\"v\": \"2018-01-05T00:16:14\"}, {\"v\": 14}, {\"v\": 180105001}]}, {\"c\": [{\"v\": \"2018-01-05T00:16:14\"}, {\"v\": 0}, {\"v\": 180105001}]}, {\"c\": [{\"v\": \"2018-01-05T00:16:15\"}, {\"v\": 12}, {\"v\": 180105001}]}, {\"c\": [{\"v\": \"2018-01-05T00:16:15\"}, {\"v\": 18}, {\"v\": 180105001}]}, {\"c\": [{\"v\": \"2018-01-05T00:16:15\"}, {\"v\": 7}, {\"v\": 180105001}]}], \"cols\": [{\"type\": \"timestamp\", \"id\": \"time\", \"label\": \"time\"}, {\"type\": \"number\", \"id\": \"os_id\", \"label\": \"os_id\"}, {\"type\": \"number\", \"id\": \"partition_key\", \"label\": \"partition_key\"}]},\n",
       "            {\n",
       "              pageSize: 25,\n",
       "              cssClassNames:  {\n",
       "                tableRow: 'gchart-table-row',\n",
       "                headerRow: 'gchart-table-headerrow',\n",
       "                oddTableRow: 'gchart-table-oddrow',\n",
       "                selectedTableRow: 'gchart-table-selectedrow',\n",
       "                hoverTableRow: 'gchart-table-hoverrow',\n",
       "                tableCell: 'gchart-table-cell',\n",
       "                headerCell: 'gchart-table-headercell',\n",
       "                rowNumberCell: 'gchart-table-rownumcell'\n",
       "              }\n",
       "            },\n",
       "            {source_index: 1, fields: 'time,os_id,partition_key'},\n",
       "            0,\n",
       "            100);\n",
       "        }\n",
       "      );\n",
       "    </script>\n",
       "  "
      ],
      "text/plain": [
       "QueryResultsTable job_OzJ-QznB4bAMewiHvMQj7SfFQvkN"
      ]
     },
     "execution_count": 11,
     "metadata": {},
     "output_type": "execute_result"
    }
   ],
   "source": [
    "%%bq query \n",
    "--name time_partition_key_os_1\n",
    "SELECT time, os_id, partition_key\n",
    "FROM `xmdw31.ods_mga.apm_db_os_stat_temp`\n",
    "ORDER BY time, os_id\n",
    "LIMIT 100"
   ]
  },
  {
   "cell_type": "markdown",
   "metadata": {},
   "source": [
    "# 15개의 partition_key 가 있다."
   ]
  },
  {
   "cell_type": "code",
   "execution_count": 29,
   "metadata": {
    "collapsed": false
   },
   "outputs": [
    {
     "data": {
      "text/html": [
       "\n",
       "    <div class=\"bqtv\" id=\"7_151815610592\"><table><tr><th>num_partition_key</th></tr><tr><td>15</td></tr></table></div>\n",
       "    <br />(rows: 1, time: 0.2s, cached, job: job_W67fZnIGHmTmvDr4zs-2Blux1J-J)<br />\n",
       "    <script src=\"/static/components/requirejs/require.js\"></script>\n",
       "    <script>\n",
       "      require.config({\n",
       "        paths: {\n",
       "          base: '/static/base',\n",
       "          d3: '//cdnjs.cloudflare.com/ajax/libs/d3/3.4.13/d3',\n",
       "          plotly: 'https://cdn.plot.ly/plotly-1.5.1.min.js?noext',\n",
       "          jquery: '//ajax.googleapis.com/ajax/libs/jquery/2.0.0/jquery.min'\n",
       "        },\n",
       "        map: {\n",
       "          '*': {\n",
       "            datalab: 'nbextensions/gcpdatalab'\n",
       "          }\n",
       "        },\n",
       "        shim: {\n",
       "          plotly: {\n",
       "            deps: ['d3', 'jquery'],\n",
       "            exports: 'plotly'\n",
       "          }\n",
       "        }\n",
       "      });\n",
       "\n",
       "      require(['datalab/charting', 'datalab/element!7_151815610592', 'base/js/events',\n",
       "          'datalab/style!/nbextensions/gcpdatalab/charting.css'],\n",
       "        function(charts, dom, events) {\n",
       "          charts.render('gcharts', dom, events, 'table', [], {\"rows\": [{\"c\": [{\"v\": 15}]}], \"cols\": [{\"type\": \"number\", \"id\": \"num_partition_key\", \"label\": \"num_partition_key\"}]},\n",
       "            {\n",
       "              pageSize: 25,\n",
       "              cssClassNames:  {\n",
       "                tableRow: 'gchart-table-row',\n",
       "                headerRow: 'gchart-table-headerrow',\n",
       "                oddTableRow: 'gchart-table-oddrow',\n",
       "                selectedTableRow: 'gchart-table-selectedrow',\n",
       "                hoverTableRow: 'gchart-table-hoverrow',\n",
       "                tableCell: 'gchart-table-cell',\n",
       "                headerCell: 'gchart-table-headercell',\n",
       "                rowNumberCell: 'gchart-table-rownumcell'\n",
       "              }\n",
       "            },\n",
       "            {source_index: 3, fields: 'num_partition_key'},\n",
       "            0,\n",
       "            1);\n",
       "        }\n",
       "      );\n",
       "    </script>\n",
       "  "
      ],
      "text/plain": [
       "QueryResultsTable job_W67fZnIGHmTmvDr4zs-2Blux1J-J"
      ]
     },
     "execution_count": 29,
     "metadata": {},
     "output_type": "execute_result"
    }
   ],
   "source": [
    "%%bq query\n",
    "SELECT COUNT(*) AS num_partition_key\n",
    "FROM(\n",
    "  SELECT distinct partition_key\n",
    "  FROM `xmdw31.ods_mga.apm_db_os_stat_temp`\n",
    ")\n"
   ]
  },
  {
   "cell_type": "markdown",
   "metadata": {},
   "source": [
    "## 키들의 종류가 있다. 15개로 180,105,001 로 시작하여 1000씩 증가하면서 180,109,001까지 증가하다가(5개)  180,115,001로 다시 보였다가 180,124,001까지 1000씩 증가한다.(10개)"
   ]
  },
  {
   "cell_type": "code",
   "execution_count": 36,
   "metadata": {
    "collapsed": false
   },
   "outputs": [
    {
     "data": {
      "text/html": [
       "\n",
       "    <div class=\"bqtv\" id=\"11_151815636325\"><table><tr><th>partition_key</th></tr><tr><td>180105001</td></tr><tr><td>180106001</td></tr><tr><td>180107001</td></tr><tr><td>180108001</td></tr><tr><td>180109001</td></tr><tr><td>180115001</td></tr><tr><td>180116001</td></tr><tr><td>180117001</td></tr><tr><td>180118001</td></tr><tr><td>180119001</td></tr><tr><td>180120001</td></tr><tr><td>180121001</td></tr><tr><td>180122001</td></tr><tr><td>180123001</td></tr><tr><td>180124001</td></tr></table></div>\n",
       "    <br />(rows: 15, time: 1.7s,   201MB processed, job: job_gw5TBaVgVxNAe04qpKDuGaLdvOHE)<br />\n",
       "    <script src=\"/static/components/requirejs/require.js\"></script>\n",
       "    <script>\n",
       "      require.config({\n",
       "        paths: {\n",
       "          base: '/static/base',\n",
       "          d3: '//cdnjs.cloudflare.com/ajax/libs/d3/3.4.13/d3',\n",
       "          plotly: 'https://cdn.plot.ly/plotly-1.5.1.min.js?noext',\n",
       "          jquery: '//ajax.googleapis.com/ajax/libs/jquery/2.0.0/jquery.min'\n",
       "        },\n",
       "        map: {\n",
       "          '*': {\n",
       "            datalab: 'nbextensions/gcpdatalab'\n",
       "          }\n",
       "        },\n",
       "        shim: {\n",
       "          plotly: {\n",
       "            deps: ['d3', 'jquery'],\n",
       "            exports: 'plotly'\n",
       "          }\n",
       "        }\n",
       "      });\n",
       "\n",
       "      require(['datalab/charting', 'datalab/element!11_151815636325', 'base/js/events',\n",
       "          'datalab/style!/nbextensions/gcpdatalab/charting.css'],\n",
       "        function(charts, dom, events) {\n",
       "          charts.render('gcharts', dom, events, 'table', [], {\"rows\": [{\"c\": [{\"v\": 180105001}]}, {\"c\": [{\"v\": 180106001}]}, {\"c\": [{\"v\": 180107001}]}, {\"c\": [{\"v\": 180108001}]}, {\"c\": [{\"v\": 180109001}]}, {\"c\": [{\"v\": 180115001}]}, {\"c\": [{\"v\": 180116001}]}, {\"c\": [{\"v\": 180117001}]}, {\"c\": [{\"v\": 180118001}]}, {\"c\": [{\"v\": 180119001}]}, {\"c\": [{\"v\": 180120001}]}, {\"c\": [{\"v\": 180121001}]}, {\"c\": [{\"v\": 180122001}]}, {\"c\": [{\"v\": 180123001}]}, {\"c\": [{\"v\": 180124001}]}], \"cols\": [{\"type\": \"number\", \"id\": \"partition_key\", \"label\": \"partition_key\"}]},\n",
       "            {\n",
       "              pageSize: 25,\n",
       "              cssClassNames:  {\n",
       "                tableRow: 'gchart-table-row',\n",
       "                headerRow: 'gchart-table-headerrow',\n",
       "                oddTableRow: 'gchart-table-oddrow',\n",
       "                selectedTableRow: 'gchart-table-selectedrow',\n",
       "                hoverTableRow: 'gchart-table-hoverrow',\n",
       "                tableCell: 'gchart-table-cell',\n",
       "                headerCell: 'gchart-table-headercell',\n",
       "                rowNumberCell: 'gchart-table-rownumcell'\n",
       "              }\n",
       "            },\n",
       "            {source_index: 7, fields: 'partition_key'},\n",
       "            0,\n",
       "            15);\n",
       "        }\n",
       "      );\n",
       "    </script>\n",
       "  "
      ],
      "text/plain": [
       "QueryResultsTable job_gw5TBaVgVxNAe04qpKDuGaLdvOHE"
      ]
     },
     "execution_count": 36,
     "metadata": {},
     "output_type": "execute_result"
    }
   ],
   "source": [
    "%%bq query \n",
    "SELECT distinct partition_key\n",
    "FROM `xmdw31.ods_mga.apm_db_os_stat_temp` \n",
    "GROUP BY partition_key\n",
    "ORDER BY partition_key"
   ]
  },
  {
   "cell_type": "markdown",
   "metadata": {},
   "source": [
    "## 보니 os_id 마다 15개의 partition_key를 가지고 데이터를 수집하고 있다. 따라서 22 * 15 = 330개가 나오는 것이다."
   ]
  },
  {
   "cell_type": "code",
   "execution_count": 42,
   "metadata": {
    "collapsed": false
   },
   "outputs": [
    {
     "data": {
      "text/html": [
       "\n",
       "    <div class=\"bqtv\" id=\"15_151815699924\"><table><tr><th>partition_key</th><th>os_id</th></tr><tr><td>180105001</td><td>0</td></tr><tr><td>180106001</td><td>0</td></tr><tr><td>180107001</td><td>0</td></tr><tr><td>180108001</td><td>0</td></tr><tr><td>180109001</td><td>0</td></tr><tr><td>180115001</td><td>0</td></tr><tr><td>180116001</td><td>0</td></tr><tr><td>180117001</td><td>0</td></tr><tr><td>180118001</td><td>0</td></tr><tr><td>180119001</td><td>0</td></tr><tr><td>180120001</td><td>0</td></tr><tr><td>180121001</td><td>0</td></tr><tr><td>180122001</td><td>0</td></tr><tr><td>180123001</td><td>0</td></tr><tr><td>180124001</td><td>0</td></tr><tr><td>180105001</td><td>1</td></tr><tr><td>180106001</td><td>1</td></tr><tr><td>180107001</td><td>1</td></tr><tr><td>180108001</td><td>1</td></tr><tr><td>180109001</td><td>1</td></tr><tr><td>180115001</td><td>1</td></tr><tr><td>180116001</td><td>1</td></tr><tr><td>180117001</td><td>1</td></tr><tr><td>180118001</td><td>1</td></tr><tr><td>180119001</td><td>1</td></tr></table></div>\n",
       "    <br />(rows: 330, time: 0.2s, cached, job: job_8ssNjChgQMoxbpdKVq_yJtRyBo64)<br />\n",
       "    <script src=\"/static/components/requirejs/require.js\"></script>\n",
       "    <script>\n",
       "      require.config({\n",
       "        paths: {\n",
       "          base: '/static/base',\n",
       "          d3: '//cdnjs.cloudflare.com/ajax/libs/d3/3.4.13/d3',\n",
       "          plotly: 'https://cdn.plot.ly/plotly-1.5.1.min.js?noext',\n",
       "          jquery: '//ajax.googleapis.com/ajax/libs/jquery/2.0.0/jquery.min'\n",
       "        },\n",
       "        map: {\n",
       "          '*': {\n",
       "            datalab: 'nbextensions/gcpdatalab'\n",
       "          }\n",
       "        },\n",
       "        shim: {\n",
       "          plotly: {\n",
       "            deps: ['d3', 'jquery'],\n",
       "            exports: 'plotly'\n",
       "          }\n",
       "        }\n",
       "      });\n",
       "\n",
       "      require(['datalab/charting', 'datalab/element!15_151815699924', 'base/js/events',\n",
       "          'datalab/style!/nbextensions/gcpdatalab/charting.css'],\n",
       "        function(charts, dom, events) {\n",
       "          charts.render('gcharts', dom, events, 'paged_table', [], {\"rows\": [{\"c\": [{\"v\": 180105001}, {\"v\": 0}]}, {\"c\": [{\"v\": 180106001}, {\"v\": 0}]}, {\"c\": [{\"v\": 180107001}, {\"v\": 0}]}, {\"c\": [{\"v\": 180108001}, {\"v\": 0}]}, {\"c\": [{\"v\": 180109001}, {\"v\": 0}]}, {\"c\": [{\"v\": 180115001}, {\"v\": 0}]}, {\"c\": [{\"v\": 180116001}, {\"v\": 0}]}, {\"c\": [{\"v\": 180117001}, {\"v\": 0}]}, {\"c\": [{\"v\": 180118001}, {\"v\": 0}]}, {\"c\": [{\"v\": 180119001}, {\"v\": 0}]}, {\"c\": [{\"v\": 180120001}, {\"v\": 0}]}, {\"c\": [{\"v\": 180121001}, {\"v\": 0}]}, {\"c\": [{\"v\": 180122001}, {\"v\": 0}]}, {\"c\": [{\"v\": 180123001}, {\"v\": 0}]}, {\"c\": [{\"v\": 180124001}, {\"v\": 0}]}, {\"c\": [{\"v\": 180105001}, {\"v\": 1}]}, {\"c\": [{\"v\": 180106001}, {\"v\": 1}]}, {\"c\": [{\"v\": 180107001}, {\"v\": 1}]}, {\"c\": [{\"v\": 180108001}, {\"v\": 1}]}, {\"c\": [{\"v\": 180109001}, {\"v\": 1}]}, {\"c\": [{\"v\": 180115001}, {\"v\": 1}]}, {\"c\": [{\"v\": 180116001}, {\"v\": 1}]}, {\"c\": [{\"v\": 180117001}, {\"v\": 1}]}, {\"c\": [{\"v\": 180118001}, {\"v\": 1}]}, {\"c\": [{\"v\": 180119001}, {\"v\": 1}]}], \"cols\": [{\"type\": \"number\", \"id\": \"partition_key\", \"label\": \"partition_key\"}, {\"type\": \"number\", \"id\": \"os_id\", \"label\": \"os_id\"}]},\n",
       "            {\n",
       "              pageSize: 25,\n",
       "              cssClassNames:  {\n",
       "                tableRow: 'gchart-table-row',\n",
       "                headerRow: 'gchart-table-headerrow',\n",
       "                oddTableRow: 'gchart-table-oddrow',\n",
       "                selectedTableRow: 'gchart-table-selectedrow',\n",
       "                hoverTableRow: 'gchart-table-hoverrow',\n",
       "                tableCell: 'gchart-table-cell',\n",
       "                headerCell: 'gchart-table-headercell',\n",
       "                rowNumberCell: 'gchart-table-rownumcell'\n",
       "              }\n",
       "            },\n",
       "            {source_index: 6, fields: 'partition_key,os_id'},\n",
       "            0,\n",
       "            330);\n",
       "        }\n",
       "      );\n",
       "    </script>\n",
       "  "
      ],
      "text/plain": [
       "QueryResultsTable job_8ssNjChgQMoxbpdKVq_yJtRyBo64"
      ]
     },
     "execution_count": 42,
     "metadata": {},
     "output_type": "execute_result"
    }
   ],
   "source": [
    "%%bq query \n",
    "SELECT distinct partition_key, os_id\n",
    "FROM `xmdw31.ods_mga.apm_db_os_stat_temp` \n",
    "GROUP BY partition_key, os_id\n",
    "ORDER BY os_id, partition_key"
   ]
  },
  {
   "cell_type": "markdown",
   "metadata": {},
   "source": [
    "## 180,120,001를 partition_key로 가지고 os_id는 0인 녀석들에 대해서 avg_value를 그래프로 나타내보려고한다."
   ]
  },
  {
   "cell_type": "code",
   "execution_count": 3,
   "metadata": {
    "collapsed": false
   },
   "outputs": [],
   "source": [
    "%%bq query --name p_key_os_id_0_avg_value\n",
    "SELECT time, avg_value\n",
    "FROM `xmdw31.ods_mga.apm_db_os_stat_temp` \n",
    "WHERE partition_key=180120001 AND os_id=0\n",
    "ORDER BY time"
   ]
  },
  {
   "cell_type": "code",
   "execution_count": 3,
   "metadata": {
    "collapsed": false
   },
   "outputs": [
    {
     "data": {
      "text/html": [
       "\n",
       "    <div class=\"bqtv\" id=\"1_151839747745\"><table><tr><th>time</th><th>avg_value</th></tr><tr><td>2018-01-19 15:00:00</td><td>1160.0</td></tr><tr><td>2018-01-19 15:00:01</td><td>80.0</td></tr><tr><td>2018-01-19 15:00:02</td><td>30.0</td></tr><tr><td>2018-01-19 15:00:03</td><td>2160.0</td></tr><tr><td>2018-01-19 15:00:04</td><td>80.0</td></tr><tr><td>2018-01-19 15:00:05</td><td>30.0</td></tr><tr><td>2018-01-19 15:00:06</td><td>1520.0</td></tr><tr><td>2018-01-19 15:00:07</td><td>0.0</td></tr><tr><td>2018-01-19 15:00:08</td><td>0.0</td></tr><tr><td>2018-01-19 15:00:09</td><td>2000.0</td></tr></table></div>\n",
       "    <br />(rows: 10, time: 1.6s,   807MB processed, job: job_u-vE2IUbUaWXpxvYewZIvjLfNb1j)<br />\n",
       "    <script src=\"/static/components/requirejs/require.js\"></script>\n",
       "    <script>\n",
       "      require.config({\n",
       "        paths: {\n",
       "          base: '/static/base',\n",
       "          d3: '//cdnjs.cloudflare.com/ajax/libs/d3/3.4.13/d3',\n",
       "          plotly: 'https://cdn.plot.ly/plotly-1.5.1.min.js?noext',\n",
       "          jquery: '//ajax.googleapis.com/ajax/libs/jquery/2.0.0/jquery.min'\n",
       "        },\n",
       "        map: {\n",
       "          '*': {\n",
       "            datalab: 'nbextensions/gcpdatalab'\n",
       "          }\n",
       "        },\n",
       "        shim: {\n",
       "          plotly: {\n",
       "            deps: ['d3', 'jquery'],\n",
       "            exports: 'plotly'\n",
       "          }\n",
       "        }\n",
       "      });\n",
       "\n",
       "      require(['datalab/charting', 'datalab/element!1_151839747745', 'base/js/events',\n",
       "          'datalab/style!/nbextensions/gcpdatalab/charting.css'],\n",
       "        function(charts, dom, events) {\n",
       "          charts.render('gcharts', dom, events, 'table', [], {\"rows\": [{\"c\": [{\"v\": \"2018-01-19T15:00:00\"}, {\"v\": 1160.0}]}, {\"c\": [{\"v\": \"2018-01-19T15:00:01\"}, {\"v\": 80.0}]}, {\"c\": [{\"v\": \"2018-01-19T15:00:02\"}, {\"v\": 30.0}]}, {\"c\": [{\"v\": \"2018-01-19T15:00:03\"}, {\"v\": 2160.0}]}, {\"c\": [{\"v\": \"2018-01-19T15:00:04\"}, {\"v\": 80.0}]}, {\"c\": [{\"v\": \"2018-01-19T15:00:05\"}, {\"v\": 30.0}]}, {\"c\": [{\"v\": \"2018-01-19T15:00:06\"}, {\"v\": 1520.0}]}, {\"c\": [{\"v\": \"2018-01-19T15:00:07\"}, {\"v\": 0.0}]}, {\"c\": [{\"v\": \"2018-01-19T15:00:08\"}, {\"v\": 0.0}]}, {\"c\": [{\"v\": \"2018-01-19T15:00:09\"}, {\"v\": 2000.0}]}], \"cols\": [{\"type\": \"timestamp\", \"id\": \"time\", \"label\": \"time\"}, {\"type\": \"number\", \"id\": \"avg_value\", \"label\": \"avg_value\"}]},\n",
       "            {\n",
       "              pageSize: 25,\n",
       "              cssClassNames:  {\n",
       "                tableRow: 'gchart-table-row',\n",
       "                headerRow: 'gchart-table-headerrow',\n",
       "                oddTableRow: 'gchart-table-oddrow',\n",
       "                selectedTableRow: 'gchart-table-selectedrow',\n",
       "                hoverTableRow: 'gchart-table-hoverrow',\n",
       "                tableCell: 'gchart-table-cell',\n",
       "                headerCell: 'gchart-table-headercell',\n",
       "                rowNumberCell: 'gchart-table-rownumcell'\n",
       "              }\n",
       "            },\n",
       "            {source_index: 0, fields: 'time,avg_value'},\n",
       "            0,\n",
       "            10);\n",
       "        }\n",
       "      );\n",
       "    </script>\n",
       "  "
      ],
      "text/plain": [
       "QueryResultsTable job_u-vE2IUbUaWXpxvYewZIvjLfNb1j"
      ]
     },
     "execution_count": 3,
     "metadata": {},
     "output_type": "execute_result"
    }
   ],
   "source": [
    "%%bq sample --query p_key_os_id_0_avg_value"
   ]
  },
  {
   "cell_type": "code",
   "execution_count": 18,
   "metadata": {
    "collapsed": false
   },
   "outputs": [
    {
     "data": {
      "text/plain": [
       "u'SELECT time, avg_value\\nFROM `xmdw31.ods_mga.apm_db_os_stat_temp` \\nWHERE partition_key=180120001 AND os_id=0\\nORDER BY time'"
      ]
     },
     "execution_count": 18,
     "metadata": {},
     "output_type": "execute_result"
    }
   ],
   "source": [
    "p_key_os_id_0_avg_value.sql"
   ]
  },
  {
   "cell_type": "markdown",
   "metadata": {},
   "source": [
    "### 갯수가 86400개인 것을 봐서 60 X 60 X 24 즉 하루였다."
   ]
  },
  {
   "cell_type": "code",
   "execution_count": 12,
   "metadata": {
    "collapsed": false
   },
   "outputs": [
    {
     "name": "stdout",
     "output_type": "stream",
     "text": [
      "                 time  avg_value\n",
      "0 2018-01-19 15:00:00     1160.0\n",
      "1 2018-01-19 15:00:01       80.0\n",
      "2 2018-01-19 15:00:02       30.0\n",
      "3 2018-01-19 15:00:03     2160.0\n",
      "4 2018-01-19 15:00:04       80.0\n",
      "5 2018-01-19 15:00:05       30.0\n",
      "6 2018-01-19 15:00:06     1520.0\n",
      "7 2018-01-19 15:00:07        0.0\n",
      "8 2018-01-19 15:00:08        0.0\n",
      "9 2018-01-19 15:00:09     2000.0\n",
      "<class 'pandas.core.frame.DataFrame'>\n",
      "RangeIndex: 86400 entries, 0 to 86399\n",
      "Data columns (total 2 columns):\n",
      "time         86400 non-null datetime64[ns]\n",
      "avg_value    86400 non-null float64\n",
      "dtypes: datetime64[ns](1), float64(1)\n",
      "memory usage: 1.3 MB\n"
     ]
    }
   ],
   "source": [
    "p_key_os_id_0_avg_value = bq.Query(p_key_os_id_0_avg_value.sql)\n",
    "os_0_avg_df = p_key_os_id_0_avg_value.execute(output_options=bq.QueryOutput.dataframe()).result()\n",
    "print(os_0_avg_df.head(10))\n",
    "os_0_avg_df.info()"
   ]
  },
  {
   "cell_type": "code",
   "execution_count": 10,
   "metadata": {
    "collapsed": true
   },
   "outputs": [],
   "source": [
    "%%bq query --name p_key_os_id_1_avg_value\n",
    "SELECT time, avg_value\n",
    "FROM `xmdw31.ods_mga.apm_db_os_stat_temp` \n",
    "WHERE partition_key=180120001 AND os_id=1\n",
    "ORDER BY time"
   ]
  },
  {
   "cell_type": "code",
   "execution_count": 13,
   "metadata": {
    "collapsed": false
   },
   "outputs": [
    {
     "name": "stdout",
     "output_type": "stream",
     "text": [
      "                 time  avg_value\n",
      "0 2018-01-19 15:00:00      410.0\n",
      "1 2018-01-19 15:00:01      150.0\n",
      "2 2018-01-19 15:00:02      100.0\n",
      "3 2018-01-19 15:00:03      690.0\n",
      "4 2018-01-19 15:00:04       80.0\n",
      "5 2018-01-19 15:00:05       30.0\n",
      "6 2018-01-19 15:00:06      450.0\n",
      "7 2018-01-19 15:00:07       30.0\n",
      "8 2018-01-19 15:00:08        0.0\n",
      "9 2018-01-19 15:00:09      780.0\n",
      "<class 'pandas.core.frame.DataFrame'>\n",
      "RangeIndex: 86400 entries, 0 to 86399\n",
      "Data columns (total 2 columns):\n",
      "time         86400 non-null datetime64[ns]\n",
      "avg_value    86400 non-null float64\n",
      "dtypes: datetime64[ns](1), float64(1)\n",
      "memory usage: 1.3 MB\n"
     ]
    }
   ],
   "source": [
    "p_key_os_id_1_avg_value = bq.Query(p_key_os_id_1_avg_value.sql)\n",
    "os_1_avg_df = p_key_os_id_1_avg_value.execute(output_options=bq.QueryOutput.dataframe()).result()\n",
    "print(os_1_avg_df.head(10))\n",
    "os_1_avg_df.info()"
   ]
  },
  {
   "cell_type": "markdown",
   "metadata": {},
   "source": [
    "### os_id마다 partition_key에 따른 값들이 포진해 있다."
   ]
  },
  {
   "cell_type": "code",
   "execution_count": 15,
   "metadata": {
    "collapsed": true
   },
   "outputs": [],
   "source": [
    "%%bq query --name p_key_os_id_0_avg_value_p1\n",
    "SELECT time, avg_value\n",
    "FROM `xmdw31.ods_mga.apm_db_os_stat_temp` \n",
    "WHERE partition_key=180121001 AND os_id=0\n",
    "ORDER BY time"
   ]
  },
  {
   "cell_type": "code",
   "execution_count": 17,
   "metadata": {
    "collapsed": false
   },
   "outputs": [
    {
     "name": "stdout",
     "output_type": "stream",
     "text": [
      "                 time  avg_value\n",
      "0 2018-01-20 15:00:00        0.0\n",
      "1 2018-01-20 15:00:01      100.0\n",
      "2 2018-01-20 15:00:02     2550.0\n",
      "3 2018-01-20 15:00:03        0.0\n",
      "4 2018-01-20 15:00:04       30.0\n",
      "5 2018-01-20 15:00:05     1630.0\n",
      "6 2018-01-20 15:00:06        0.0\n",
      "7 2018-01-20 15:00:07       30.0\n",
      "8 2018-01-20 15:00:08     2650.0\n",
      "9 2018-01-20 15:00:09     2530.0\n",
      "<class 'pandas.core.frame.DataFrame'>\n",
      "RangeIndex: 86400 entries, 0 to 86399\n",
      "Data columns (total 2 columns):\n",
      "time         86400 non-null datetime64[ns]\n",
      "avg_value    86400 non-null float64\n",
      "dtypes: datetime64[ns](1), float64(1)\n",
      "memory usage: 1.3 MB\n"
     ]
    }
   ],
   "source": [
    "p_key_os_id_0_avg_value_p1 = bq.Query(p_key_os_id_0_avg_value_p1.sql)\n",
    "os_0_avg_p1_df = p_key_os_id_0_avg_value_p1.execute(output_options=bq.QueryOutput.dataframe()).result()\n",
    "print(os_0_avg_p1_df.head(10))\n",
    "os_0_avg_p1_df.info()"
   ]
  },
  {
   "cell_type": "markdown",
   "metadata": {},
   "source": [
    "# partition_key는 그냥 날짜별이라고 생각해도 될 듯 하다. 없는 부분들에 대해서는 빵꾸가 난 것 이다. 결론적으로 단지 avg_value만을 가지고 이상탐지를 할 수 있을 것이다. 또한 데이터 들에 대해서 빵꾸난 것들은 partition_key에 따라서 구분이 되므로 그것들을 묶어서 인덱스에 따른 데이터 프레임을 만들 수 있을 것이다. 또한 이를 이용하여 isolation forest를 만들어내고 할수있을 것이다."
   ]
  },
  {
   "cell_type": "code",
   "execution_count": 1,
   "metadata": {
    "collapsed": false
   },
   "outputs": [],
   "source": [
    "%%bq query --name os_id_0_avg_value_query\n",
    "SELECT time, avg_value\n",
    "FROM `xmdw31.ods_mga.apm_db_os_stat_temp`\n",
    "WHERE os_id=0\n",
    "ORDER BY time"
   ]
  },
  {
   "cell_type": "code",
   "execution_count": 4,
   "metadata": {
    "collapsed": false
   },
   "outputs": [
    {
     "name": "stdout",
     "output_type": "stream",
     "text": [
      "                 time  avg_value\n",
      "0 2018-01-05 00:16:14        0.0\n",
      "1 2018-01-05 00:16:15        0.0\n",
      "2 2018-01-05 00:16:16        0.0\n",
      "3 2018-01-05 00:16:17        0.0\n",
      "4 2018-01-05 00:16:18        0.0\n",
      "5 2018-01-05 00:16:19        0.0\n",
      "6 2018-01-05 00:16:20        0.0\n",
      "7 2018-01-05 00:16:21        0.0\n",
      "8 2018-01-05 00:16:22       30.0\n",
      "9 2018-01-05 00:16:23        0.0\n",
      "<class 'pandas.core.frame.DataFrame'>\n",
      "RangeIndex: 1146604 entries, 0 to 1146603\n",
      "Data columns (total 2 columns):\n",
      "time         1146604 non-null datetime64[ns]\n",
      "avg_value    1146604 non-null float64\n",
      "dtypes: datetime64[ns](1), float64(1)\n",
      "memory usage: 17.5 MB\n",
      "                     avg_value\n",
      "time                          \n",
      "2018-01-05 00:16:14        0.0\n",
      "2018-01-05 00:16:15        0.0\n",
      "2018-01-05 00:16:16        0.0\n",
      "2018-01-05 00:16:17        0.0\n",
      "2018-01-05 00:16:18        0.0\n",
      "2018-01-05 00:16:19        0.0\n",
      "2018-01-05 00:16:20        0.0\n",
      "2018-01-05 00:16:21        0.0\n",
      "2018-01-05 00:16:22       30.0\n",
      "2018-01-05 00:16:23        0.0\n",
      "<class 'pandas.core.frame.DataFrame'>\n",
      "DatetimeIndex: 1146604 entries, 2018-01-05 00:16:14 to 2018-01-23 22:42:37\n",
      "Data columns (total 1 columns):\n",
      "avg_value    1146604 non-null float64\n",
      "dtypes: float64(1)\n",
      "memory usage: 17.5 MB\n"
     ]
    }
   ],
   "source": [
    "os_id_0_avg_value_query_df = bq.Query(os_id_0_avg_value_query.sql)\n",
    "os_id_0_avg_value_df = os_id_0_avg_value_query_df.execute(output_options=bq.QueryOutput.dataframe()).result()\n",
    "print(os_id_0_avg_value_df.head(10))\n",
    "os_id_0_avg_value_df.info()\n",
    "\n",
    "os_id_0_avg_value_df_idxtime = os_id_0_avg_value_df.set_index('time')\n",
    "print(os_id_0_avg_value_df_idxtime.head(10))\n",
    "os_id_0_avg_value_df_idxtime.info()"
   ]
  },
  {
   "cell_type": "code",
   "execution_count": 7,
   "metadata": {
    "collapsed": false
   },
   "outputs": [],
   "source": [
    "os_id_0_avg_value_df.to_csv('os_id_0_avg_value.csv', sep=',')"
   ]
  },
  {
   "cell_type": "code",
   "execution_count": 7,
   "metadata": {
    "collapsed": false
   },
   "outputs": [
    {
     "data": {
      "text/plain": [
       "DatetimeIndex(['2018-01-05 00:16:14', '2018-01-05 00:16:15',\n",
       "               '2018-01-05 00:16:16', '2018-01-05 00:16:17',\n",
       "               '2018-01-05 00:16:18', '2018-01-05 00:16:19',\n",
       "               '2018-01-05 00:16:20', '2018-01-05 00:16:21',\n",
       "               '2018-01-05 00:16:22', '2018-01-05 00:16:23',\n",
       "               ...\n",
       "               '2018-01-23 22:42:28', '2018-01-23 22:42:29',\n",
       "               '2018-01-23 22:42:30', '2018-01-23 22:42:31',\n",
       "               '2018-01-23 22:42:32', '2018-01-23 22:42:33',\n",
       "               '2018-01-23 22:42:34', '2018-01-23 22:42:35',\n",
       "               '2018-01-23 22:42:36', '2018-01-23 22:42:37'],\n",
       "              dtype='datetime64[ns]', name=u'time', length=1146604, freq=None)"
      ]
     },
     "execution_count": 7,
     "metadata": {},
     "output_type": "execute_result"
    }
   ],
   "source": [
    "os_id_0_avg_value_df_idxtime.index"
   ]
  },
  {
   "cell_type": "code",
   "execution_count": null,
   "metadata": {
    "collapsed": false
   },
   "outputs": [],
   "source": [
    "os_id_0_avg_value_df_idxtime.loc[:]['avg_value'].plot(kind='barh')"
   ]
  },
  {
   "cell_type": "markdown",
   "metadata": {},
   "source": [
    " os_id에 따라서 모든 데이터들을 스토리지에 저장하기 해보자...."
   ]
  },
  {
   "cell_type": "code",
   "execution_count": null,
   "metadata": {
    "collapsed": false
   },
   "outputs": [],
   "source": [
    "os_id_i_avg_value_query={}\n",
    "os_id_i_avg_value_df = {}\n",
    "for i in range(2):\n",
    "  os_id_i_avg_value_query[i] = bq.Query('SELECT time, avg_value \\\n",
    "                                        FROM `xmdw31.ods_mga.apm_db_os_stat_temp` \\\n",
    "                                        WHERE os_id='+str(i)+' \\\n",
    "                                        ORDER BY time')\n",
    "  print(os_id_i_avg_value_query[i])\n",
    "  os_id_i_avg_value_df[i] = os_id_i_avg_value_query[i].execute(output_options=bq.QueryOutput.dataframe()).result()\n",
    "  print(os_id_i_avg_value_df[i].head(5))"
   ]
  },
  {
   "cell_type": "markdown",
   "metadata": {},
   "source": [
    "1월 22일 하루의 데이터를 확인해보고자한다."
   ]
  },
  {
   "cell_type": "code",
   "execution_count": null,
   "metadata": {
    "collapsed": false
   },
   "outputs": [],
   "source": [
    "os_id_0_avg_value_1_22 = os_id_0_avg_value_df_idxtime.loc['2018-01-22 00:00:00':'2018-01-22 23:59:59']['avg_value'].to_frame()\n",
    "type(os_id_0_avg_value_1_22)\n",
    "os_id_0_avg_value_1_22.info()"
   ]
  },
  {
   "cell_type": "code",
   "execution_count": null,
   "metadata": {
    "collapsed": true
   },
   "outputs": [],
   "source": [
    "%%bq query --os\n",
    "SELECT distinct partition_key, os_id, time\n",
    "FROM `xmdw31.ods_mga.apm_db_os_stat_temp` \n",
    "GROUP BY partition_key, os_id, time\n",
    "ORDER BY os_id, time, partition_key\n",
    "LIMIT 50"
   ]
  },
  {
   "cell_type": "code",
   "execution_count": null,
   "metadata": {
    "collapsed": true
   },
   "outputs": [],
   "source": [
    "os_id_0_avg_value_query"
   ]
  },
  {
   "cell_type": "code",
   "execution_count": 6,
   "metadata": {
    "collapsed": false
   },
   "outputs": [],
   "source": [
    "p_key_time = bq.Query('SELECT time, partition_key \\\n",
    "FROM `xmdw31.ods_mga.apm_db_os_stat_temp` \\\n",
    "WHERE os_id = 1 \\\n",
    "ORDER BY time \\\n",
    "LIMIT 50 \\\n",
    "')\n",
    "df = p_key_time.execute(output_options=bq.QueryOutput.dataframe()).result()\n"
   ]
  },
  {
   "cell_type": "code",
   "execution_count": 7,
   "metadata": {
    "collapsed": false
   },
   "outputs": [
    {
     "name": "stdout",
     "output_type": "stream",
     "text": [
      "<class 'pandas.core.frame.DataFrame'>\n",
      "RangeIndex: 50 entries, 0 to 49\n",
      "Data columns (total 2 columns):\n",
      "time             50 non-null datetime64[ns]\n",
      "partition_key    50 non-null int64\n",
      "dtypes: datetime64[ns](1), int64(1)\n",
      "memory usage: 872.0 bytes\n"
     ]
    }
   ],
   "source": [
    "df.head(10)\n",
    "df.info()"
   ]
  },
  {
   "cell_type": "code",
   "execution_count": 10,
   "metadata": {
    "collapsed": false
   },
   "outputs": [
    {
     "data": {
      "text/plain": [
       "<matplotlib.text.Text at 0x7fd400299750>"
      ]
     },
     "execution_count": 10,
     "metadata": {},
     "output_type": "execute_result"
    },
    {
     "data": {
      "image/png": "[encoded data removed]",
      "text/plain": [
       "<matplotlib.figure.Figure at 0x7fd4006640d0>"
      ]
     },
     "metadata": {},
     "output_type": "display_data"
    }
   ],
   "source": [
    "ax = df.plot(kind='bar',x='time',title='partition_key_time')\n",
    "ax.set_xlabel('time')\n",
    "ax.set_ylabel('partition_key')"
   ]
  },
  {
   "cell_type": "code",
   "execution_count": 52,
   "metadata": {
    "collapsed": true
   },
   "outputs": [],
   "source": [
    "%%bq query --name c_p_key_os_id\n",
    "SELECT os_id, COUNT(partition_key) as num_p_key\n",
    "FROM `xmdw31.ods_mga.apm_db_os_stat_temp`\n",
    "GROUP BY os_id"
   ]
  },
  {
   "cell_type": "code",
   "execution_count": 53,
   "metadata": {
    "collapsed": false
   },
   "outputs": [
    {
     "data": {
      "text/html": [
       "\n",
       "    <div class=\"bqtv\" id=\"17_151814318066\"><table><tr><th>os_id</th><th>num_p_key</th></tr><tr><td>0</td><td>1146604</td></tr><tr><td>1</td><td>1146604</td></tr><tr><td>2</td><td>1146604</td></tr><tr><td>3</td><td>1146604</td></tr><tr><td>4</td><td>1146604</td></tr><tr><td>5</td><td>1146604</td></tr><tr><td>6</td><td>1146604</td></tr><tr><td>7</td><td>1146604</td></tr><tr><td>8</td><td>1146604</td></tr><tr><td>9</td><td>1146604</td></tr></table></div>\n",
       "    <br />(rows: 10, time: 0.2s, cached, job: job_7yXWN_m4eRUy_YlFcz3QEmrD_yTH)<br />\n",
       "    <script src=\"/static/components/requirejs/require.js\"></script>\n",
       "    <script>\n",
       "      require.config({\n",
       "        paths: {\n",
       "          base: '/static/base',\n",
       "          d3: '//cdnjs.cloudflare.com/ajax/libs/d3/3.4.13/d3',\n",
       "          plotly: 'https://cdn.plot.ly/plotly-1.5.1.min.js?noext',\n",
       "          jquery: '//ajax.googleapis.com/ajax/libs/jquery/2.0.0/jquery.min'\n",
       "        },\n",
       "        map: {\n",
       "          '*': {\n",
       "            datalab: 'nbextensions/gcpdatalab'\n",
       "          }\n",
       "        },\n",
       "        shim: {\n",
       "          plotly: {\n",
       "            deps: ['d3', 'jquery'],\n",
       "            exports: 'plotly'\n",
       "          }\n",
       "        }\n",
       "      });\n",
       "\n",
       "      require(['datalab/charting', 'datalab/element!17_151814318066', 'base/js/events',\n",
       "          'datalab/style!/nbextensions/gcpdatalab/charting.css'],\n",
       "        function(charts, dom, events) {\n",
       "          charts.render('gcharts', dom, events, 'table', [], {\"rows\": [{\"c\": [{\"v\": 0}, {\"v\": 1146604}]}, {\"c\": [{\"v\": 1}, {\"v\": 1146604}]}, {\"c\": [{\"v\": 2}, {\"v\": 1146604}]}, {\"c\": [{\"v\": 3}, {\"v\": 1146604}]}, {\"c\": [{\"v\": 4}, {\"v\": 1146604}]}, {\"c\": [{\"v\": 5}, {\"v\": 1146604}]}, {\"c\": [{\"v\": 6}, {\"v\": 1146604}]}, {\"c\": [{\"v\": 7}, {\"v\": 1146604}]}, {\"c\": [{\"v\": 8}, {\"v\": 1146604}]}, {\"c\": [{\"v\": 9}, {\"v\": 1146604}]}], \"cols\": [{\"type\": \"number\", \"id\": \"os_id\", \"label\": \"os_id\"}, {\"type\": \"number\", \"id\": \"num_p_key\", \"label\": \"num_p_key\"}]},\n",
       "            {\n",
       "              pageSize: 25,\n",
       "              cssClassNames:  {\n",
       "                tableRow: 'gchart-table-row',\n",
       "                headerRow: 'gchart-table-headerrow',\n",
       "                oddTableRow: 'gchart-table-oddrow',\n",
       "                selectedTableRow: 'gchart-table-selectedrow',\n",
       "                hoverTableRow: 'gchart-table-hoverrow',\n",
       "                tableCell: 'gchart-table-cell',\n",
       "                headerCell: 'gchart-table-headercell',\n",
       "                rowNumberCell: 'gchart-table-rownumcell'\n",
       "              }\n",
       "            },\n",
       "            {source_index: 5, fields: 'os_id,num_p_key'},\n",
       "            0,\n",
       "            10);\n",
       "        }\n",
       "      );\n",
       "    </script>\n",
       "  "
      ],
      "text/plain": [
       "QueryResultsTable job_7yXWN_m4eRUy_YlFcz3QEmrD_yTH"
      ]
     },
     "execution_count": 53,
     "metadata": {},
     "output_type": "execute_result"
    }
   ],
   "source": [
    "%%bq sample --query c_p_key_os_id"
   ]
  },
  {
   "cell_type": "code",
   "execution_count": null,
   "metadata": {
    "collapsed": false
   },
   "outputs": [],
   "source": [
    "%%bq "
   ]
  },
  {
   "cell_type": "code",
   "execution_count": null,
   "metadata": {
    "collapsed": false
   },
   "outputs": [],
   "source": [
    "avg_value_time = bq.Query('SELECT time, avg_value \\\n",
    "FROM `xmdw31.ods_mga.apm_db_os_stat_temp` \\\n",
    "WHERE os_id = 1 \\\n",
    "ORDER BY time')\n",
    "df = avg_value_time.execute(output_options=bq.QueryOutput.dataframe()).result()\n",
    "df.head(10)"
   ]
  },
  {
   "cell_type": "code",
   "execution_count": null,
   "metadata": {
    "collapsed": false
   },
   "outputs": [],
   "source": [
    "ax = df.plot(kind='bar',x='time',title='avg_value_os_id_1')\n",
    "ax.set_xlabel('Year')\n",
    "ax.set_ylabel('Birth count')"
   ]
  },
  {
   "cell_type": "code",
   "execution_count": null,
   "metadata": {
    "collapsed": true
   },
   "outputs": [],
   "source": []
  }
 ],
 "metadata": {
  "kernelspec": {
   "display_name": "Python 2",
   "language": "python",
   "name": "python2"
  },
  "language_info": {
   "codemirror_mode": {
    "name": "ipython",
    "version": 2
   },
   "file_extension": ".py",
   "mimetype": "text/x-python",
   "name": "python",
   "nbconvert_exporter": "python",
   "pygments_lexer": "ipython2",
   "version": "2.7.12"
  }
 },
 "nbformat": 4,
 "nbformat_minor": 2
}
