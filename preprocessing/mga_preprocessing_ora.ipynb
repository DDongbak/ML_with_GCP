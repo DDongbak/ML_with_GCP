{
 "cells": [
  {
   "cell_type": "code",
   "execution_count": 1,
   "metadata": {
    "collapsed": true
   },
   "outputs": [],
   "source": [
    "import google.datalab.bigquery as bq\n",
    "import pandas as pd\n",
    "import numpy as np\n",
    "import matplotlib.pyplot as plt"
   ]
  },
  {
   "cell_type": "markdown",
   "metadata": {},
   "source": [
    "# apm_os 20180129 28일 15~ 19시"
   ]
  },
  {
   "cell_type": "code",
   "execution_count": 1,
   "metadata": {
    "collapsed": false
   },
   "outputs": [
    {
     "data": {
      "text/html": [
       "\n",
       "    <div class=\"bqtv\" id=\"1_151911375223\"><table><tr><th>stat_id</th><th>f0_</th></tr><tr><td>1</td><td>14400</td></tr><tr><td>2</td><td>14400</td></tr><tr><td>3</td><td>14400</td></tr><tr><td>4</td><td>14400</td></tr><tr><td>5</td><td>14400</td></tr><tr><td>6</td><td>14400</td></tr><tr><td>7</td><td>14400</td></tr><tr><td>8</td><td>14400</td></tr><tr><td>9</td><td>14400</td></tr><tr><td>10</td><td>14400</td></tr><tr><td>11</td><td>14400</td></tr><tr><td>12</td><td>14400</td></tr><tr><td>13</td><td>14400</td></tr><tr><td>14</td><td>14400</td></tr><tr><td>18</td><td>14400</td></tr><tr><td>19</td><td>14400</td></tr><tr><td>20</td><td>14400</td></tr><tr><td>22</td><td>14400</td></tr><tr><td>23</td><td>14400</td></tr><tr><td>24</td><td>14400</td></tr><tr><td>25</td><td>14400</td></tr><tr><td>26</td><td>14400</td></tr><tr><td>27</td><td>14400</td></tr><tr><td>28</td><td>14400</td></tr><tr><td>29</td><td>14400</td></tr></table></div>\n",
       "    <br />(rows: 269, time: 0.3s, cached, job: job_K-PI7EkHj2WFOi-xAZIaRapAslwU)<br />\n",
       "    <script src=\"/static/components/requirejs/require.js\"></script>\n",
       "    <script>\n",
       "      require.config({\n",
       "        paths: {\n",
       "          base: '/static/base',\n",
       "          d3: '//cdnjs.cloudflare.com/ajax/libs/d3/3.4.13/d3',\n",
       "          plotly: 'https://cdn.plot.ly/plotly-1.5.1.min.js?noext',\n",
       "          jquery: '//ajax.googleapis.com/ajax/libs/jquery/2.0.0/jquery.min'\n",
       "        },\n",
       "        map: {\n",
       "          '*': {\n",
       "            datalab: 'nbextensions/gcpdatalab'\n",
       "          }\n",
       "        },\n",
       "        shim: {\n",
       "          plotly: {\n",
       "            deps: ['d3', 'jquery'],\n",
       "            exports: 'plotly'\n",
       "          }\n",
       "        }\n",
       "      });\n",
       "\n",
       "      require(['datalab/charting', 'datalab/element!1_151911375223', 'base/js/events',\n",
       "          'datalab/style!/nbextensions/gcpdatalab/charting.css'],\n",
       "        function(charts, dom, events) {\n",
       "          charts.render('gcharts', dom, events, 'paged_table', [], {\"rows\": [{\"c\": [{\"v\": 1}, {\"v\": 14400}]}, {\"c\": [{\"v\": 2}, {\"v\": 14400}]}, {\"c\": [{\"v\": 3}, {\"v\": 14400}]}, {\"c\": [{\"v\": 4}, {\"v\": 14400}]}, {\"c\": [{\"v\": 5}, {\"v\": 14400}]}, {\"c\": [{\"v\": 6}, {\"v\": 14400}]}, {\"c\": [{\"v\": 7}, {\"v\": 14400}]}, {\"c\": [{\"v\": 8}, {\"v\": 14400}]}, {\"c\": [{\"v\": 9}, {\"v\": 14400}]}, {\"c\": [{\"v\": 10}, {\"v\": 14400}]}, {\"c\": [{\"v\": 11}, {\"v\": 14400}]}, {\"c\": [{\"v\": 12}, {\"v\": 14400}]}, {\"c\": [{\"v\": 13}, {\"v\": 14400}]}, {\"c\": [{\"v\": 14}, {\"v\": 14400}]}, {\"c\": [{\"v\": 18}, {\"v\": 14400}]}, {\"c\": [{\"v\": 19}, {\"v\": 14400}]}, {\"c\": [{\"v\": 20}, {\"v\": 14400}]}, {\"c\": [{\"v\": 22}, {\"v\": 14400}]}, {\"c\": [{\"v\": 23}, {\"v\": 14400}]}, {\"c\": [{\"v\": 24}, {\"v\": 14400}]}, {\"c\": [{\"v\": 25}, {\"v\": 14400}]}, {\"c\": [{\"v\": 26}, {\"v\": 14400}]}, {\"c\": [{\"v\": 27}, {\"v\": 14400}]}, {\"c\": [{\"v\": 28}, {\"v\": 14400}]}, {\"c\": [{\"v\": 29}, {\"v\": 14400}]}], \"cols\": [{\"type\": \"number\", \"id\": \"stat_id\", \"label\": \"stat_id\"}, {\"type\": \"number\", \"id\": \"f0_\", \"label\": \"f0_\"}]},\n",
       "            {\n",
       "              pageSize: 25,\n",
       "              cssClassNames:  {\n",
       "                tableRow: 'gchart-table-row',\n",
       "                headerRow: 'gchart-table-headerrow',\n",
       "                oddTableRow: 'gchart-table-oddrow',\n",
       "                selectedTableRow: 'gchart-table-selectedrow',\n",
       "                hoverTableRow: 'gchart-table-hoverrow',\n",
       "                tableCell: 'gchart-table-cell',\n",
       "                headerCell: 'gchart-table-headercell',\n",
       "                rowNumberCell: 'gchart-table-rownumcell'\n",
       "              }\n",
       "            },\n",
       "            {source_index: 0, fields: 'stat_id,f0_'},\n",
       "            0,\n",
       "            269);\n",
       "        }\n",
       "      );\n",
       "    </script>\n",
       "  "
      ],
      "text/plain": [
       "QueryResultsTable job_K-PI7EkHj2WFOi-xAZIaRapAslwU"
      ]
     },
     "execution_count": 1,
     "metadata": {},
     "output_type": "execute_result"
    }
   ],
   "source": [
    "%%bq query \n",
    "--name ora_data1\n",
    "SELECT stat_id, COUNT(time)\n",
    "FROM(\n",
    "  SELECT *, UNIX_SECONDS(time) as unixtime\n",
    "  FROM `xmdw31.ods_mga.ora_db_stat_temp_20180129` AS wp_29\n",
    ")\n",
    "WHERE unixtime>1517151600 and unixtime<=1517166000 and sigma_value <> 0\n",
    "GROUP BY stat_id\n",
    "ORDER BY stat_id"
   ]
  },
  {
   "cell_type": "code",
   "execution_count": 11,
   "metadata": {
    "collapsed": true
   },
   "outputs": [],
   "source": [
    "%%bq query --name ora_D28_15to19\n",
    "SELECT time, stat_id, sigma_value\n",
    "FROM(\n",
    "  SELECT *, UNIX_SECONDS(time) as unixtime\n",
    "  FROM `xmdw31.ods_mga.ora_db_stat_temp_20180129` AS os_29\n",
    ")\n",
    "WHERE unixtime>1517151600 and unixtime<=1517166000 and (stat_id = 6 or stat_id = 7 or stat_id = 8 or stat_id = 19 or stat_id = 20 or stat_id = 22 or stat_id = 26 or stat_id = 55 or stat_id = 63 or stat_id = 84 or stat_id = 93 or stat_id = 100 or stat_id = 194 or stat_id = 231 or stat_id = 623 or stat_id = 629 or stat_id = 679)\n",
    "ORDER BY time, stat_id"
   ]
  },
  {
   "cell_type": "code",
   "execution_count": 8,
   "metadata": {
    "collapsed": false
   },
   "outputs": [
    {
     "data": {
      "text/html": [
       "\n",
       "    <div class=\"bqtv\" id=\"2_151918059246\"><table><tr><th>time</th><th>stat_id</th><th>sigma_value</th></tr><tr><td>2018-01-28 15:00:01</td><td>6</td><td>34488097</td></tr><tr><td>2018-01-28 15:00:01</td><td>7</td><td>3622649</td></tr><tr><td>2018-01-28 15:00:01</td><td>8</td><td>733360444</td></tr><tr><td>2018-01-28 15:00:01</td><td>19</td><td>143524470</td></tr><tr><td>2018-01-28 15:00:01</td><td>20</td><td>405485196</td></tr><tr><td>2018-01-28 15:00:01</td><td>22</td><td>112017641057</td></tr><tr><td>2018-01-28 15:00:01</td><td>26</td><td>3004342915596</td></tr><tr><td>2018-01-28 15:00:01</td><td>55</td><td>598644147984384</td></tr><tr><td>2018-01-28 15:00:01</td><td>63</td><td>43835569427456</td></tr><tr><td>2018-01-28 15:00:01</td><td>84</td><td>251585939467</td></tr><tr><td>2018-01-28 15:00:01</td><td>93</td><td>2635036691709952</td></tr><tr><td>2018-01-28 15:00:01</td><td>100</td><td>332382354614</td></tr><tr><td>2018-01-28 15:00:01</td><td>194</td><td>30702416483744</td></tr><tr><td>2018-01-28 15:00:01</td><td>231</td><td>248303313778</td></tr><tr><td>2018-01-28 15:00:01</td><td>623</td><td>287506</td></tr><tr><td>2018-01-28 15:00:01</td><td>629</td><td>730991281</td></tr><tr><td>2018-01-28 15:00:01</td><td>679</td><td>29</td></tr><tr><td>2018-01-28 15:00:02</td><td>6</td><td>34488097</td></tr><tr><td>2018-01-28 15:00:02</td><td>7</td><td>3622649</td></tr><tr><td>2018-01-28 15:00:02</td><td>8</td><td>733360882</td></tr><tr><td>2018-01-28 15:00:02</td><td>19</td><td>143524625</td></tr><tr><td>2018-01-28 15:00:02</td><td>20</td><td>405485944</td></tr><tr><td>2018-01-28 15:00:02</td><td>22</td><td>112023336858</td></tr><tr><td>2018-01-28 15:00:02</td><td>26</td><td>3004349813072</td></tr><tr><td>2018-01-28 15:00:02</td><td>55</td><td>598644194401280</td></tr></table></div>\n",
       "    <br />(rows: 244800, time: 2.5s,     1GB processed, job: job_Wy9tK7wkAecHFML2yj8L-XPXnpjI)<br />\n",
       "    <script src=\"/static/components/requirejs/require.js\"></script>\n",
       "    <script>\n",
       "      require.config({\n",
       "        paths: {\n",
       "          base: '/static/base',\n",
       "          d3: '//cdnjs.cloudflare.com/ajax/libs/d3/3.4.13/d3',\n",
       "          plotly: 'https://cdn.plot.ly/plotly-1.5.1.min.js?noext',\n",
       "          jquery: '//ajax.googleapis.com/ajax/libs/jquery/2.0.0/jquery.min'\n",
       "        },\n",
       "        map: {\n",
       "          '*': {\n",
       "            datalab: 'nbextensions/gcpdatalab'\n",
       "          }\n",
       "        },\n",
       "        shim: {\n",
       "          plotly: {\n",
       "            deps: ['d3', 'jquery'],\n",
       "            exports: 'plotly'\n",
       "          }\n",
       "        }\n",
       "      });\n",
       "\n",
       "      require(['datalab/charting', 'datalab/element!2_151918059246', 'base/js/events',\n",
       "          'datalab/style!/nbextensions/gcpdatalab/charting.css'],\n",
       "        function(charts, dom, events) {\n",
       "          charts.render('gcharts', dom, events, 'paged_table', [], {\"rows\": [{\"c\": [{\"v\": \"2018-01-28T15:00:01\"}, {\"v\": 6}, {\"v\": 34488097}]}, {\"c\": [{\"v\": \"2018-01-28T15:00:01\"}, {\"v\": 7}, {\"v\": 3622649}]}, {\"c\": [{\"v\": \"2018-01-28T15:00:01\"}, {\"v\": 8}, {\"v\": 733360444}]}, {\"c\": [{\"v\": \"2018-01-28T15:00:01\"}, {\"v\": 19}, {\"v\": 143524470}]}, {\"c\": [{\"v\": \"2018-01-28T15:00:01\"}, {\"v\": 20}, {\"v\": 405485196}]}, {\"c\": [{\"v\": \"2018-01-28T15:00:01\"}, {\"v\": 22}, {\"v\": 112017641057}]}, {\"c\": [{\"v\": \"2018-01-28T15:00:01\"}, {\"v\": 26}, {\"v\": 3004342915596}]}, {\"c\": [{\"v\": \"2018-01-28T15:00:01\"}, {\"v\": 55}, {\"v\": 598644147984384}]}, {\"c\": [{\"v\": \"2018-01-28T15:00:01\"}, {\"v\": 63}, {\"v\": 43835569427456}]}, {\"c\": [{\"v\": \"2018-01-28T15:00:01\"}, {\"v\": 84}, {\"v\": 251585939467}]}, {\"c\": [{\"v\": \"2018-01-28T15:00:01\"}, {\"v\": 93}, {\"v\": 2635036691709952}]}, {\"c\": [{\"v\": \"2018-01-28T15:00:01\"}, {\"v\": 100}, {\"v\": 332382354614}]}, {\"c\": [{\"v\": \"2018-01-28T15:00:01\"}, {\"v\": 194}, {\"v\": 30702416483744}]}, {\"c\": [{\"v\": \"2018-01-28T15:00:01\"}, {\"v\": 231}, {\"v\": 248303313778}]}, {\"c\": [{\"v\": \"2018-01-28T15:00:01\"}, {\"v\": 623}, {\"v\": 287506}]}, {\"c\": [{\"v\": \"2018-01-28T15:00:01\"}, {\"v\": 629}, {\"v\": 730991281}]}, {\"c\": [{\"v\": \"2018-01-28T15:00:01\"}, {\"v\": 679}, {\"v\": 29}]}, {\"c\": [{\"v\": \"2018-01-28T15:00:02\"}, {\"v\": 6}, {\"v\": 34488097}]}, {\"c\": [{\"v\": \"2018-01-28T15:00:02\"}, {\"v\": 7}, {\"v\": 3622649}]}, {\"c\": [{\"v\": \"2018-01-28T15:00:02\"}, {\"v\": 8}, {\"v\": 733360882}]}, {\"c\": [{\"v\": \"2018-01-28T15:00:02\"}, {\"v\": 19}, {\"v\": 143524625}]}, {\"c\": [{\"v\": \"2018-01-28T15:00:02\"}, {\"v\": 20}, {\"v\": 405485944}]}, {\"c\": [{\"v\": \"2018-01-28T15:00:02\"}, {\"v\": 22}, {\"v\": 112023336858}]}, {\"c\": [{\"v\": \"2018-01-28T15:00:02\"}, {\"v\": 26}, {\"v\": 3004349813072}]}, {\"c\": [{\"v\": \"2018-01-28T15:00:02\"}, {\"v\": 55}, {\"v\": 598644194401280}]}], \"cols\": [{\"type\": \"timestamp\", \"id\": \"time\", \"label\": \"time\"}, {\"type\": \"number\", \"id\": \"stat_id\", \"label\": \"stat_id\"}, {\"type\": \"number\", \"id\": \"sigma_value\", \"label\": \"sigma_value\"}]},\n",
       "            {\n",
       "              pageSize: 25,\n",
       "              cssClassNames:  {\n",
       "                tableRow: 'gchart-table-row',\n",
       "                headerRow: 'gchart-table-headerrow',\n",
       "                oddTableRow: 'gchart-table-oddrow',\n",
       "                selectedTableRow: 'gchart-table-selectedrow',\n",
       "                hoverTableRow: 'gchart-table-hoverrow',\n",
       "                tableCell: 'gchart-table-cell',\n",
       "                headerCell: 'gchart-table-headercell',\n",
       "                rowNumberCell: 'gchart-table-rownumcell'\n",
       "              }\n",
       "            },\n",
       "            {source_index: 1, fields: 'time,stat_id,sigma_value'},\n",
       "            0,\n",
       "            244800);\n",
       "        }\n",
       "      );\n",
       "    </script>\n",
       "  "
      ],
      "text/plain": [
       "QueryResultsTable job_Wy9tK7wkAecHFML2yj8L-XPXnpjI"
      ]
     },
     "execution_count": 8,
     "metadata": {},
     "output_type": "execute_result"
    }
   ],
   "source": [
    "%%bq query \n",
    "--name ora_D28_15to19\n",
    "SELECT time, stat_id, sigma_value\n",
    "FROM(\n",
    "  SELECT *, UNIX_SECONDS(time) as unixtime\n",
    "  FROM `xmdw31.ods_mga.ora_db_stat_temp_20180129` AS os_29\n",
    ")\n",
    "WHERE unixtime>1517151600 and unixtime<=1517166000 and (stat_id = 6 or stat_id = 7 or stat_id = 8 or stat_id = 19 or stat_id = 20 or stat_id = 22 or stat_id = 26 or stat_id = 55 or stat_id = 63 or stat_id = 84 or stat_id = 93 or stat_id = 100 or stat_id = 194 or stat_id = 231 or stat_id = 623 or stat_id = 629 or stat_id = 679)\n",
    "ORDER BY time, stat_id"
   ]
  },
  {
   "cell_type": "code",
   "execution_count": 12,
   "metadata": {
    "collapsed": false
   },
   "outputs": [],
   "source": [
    "ora_D28_15to19_sql = 'SELECT time, stat_id, sigma_value FROM( SELECT *, UNIX_SECONDS(time) as unixtime FROM `xmdw31.ods_mga.ora_db_stat_temp_20180129` AS os_29 ) WHERE unixtime>1517151600 and unixtime<=1517166000 and (stat_id = 6 or stat_id = 7 or stat_id = 8 or stat_id = 19 or stat_id = 20 or stat_id = 22 or stat_id = 26 or stat_id = 55 or stat_id = 63 or stat_id = 84 or stat_id = 93 or stat_id = 100 or stat_id = 194 or stat_id = 231 or stat_id = 623 or stat_id = 629 or stat_id = 679) ORDER BY time, stat_id' \n",
    "\n",
    "ora_D28_15to19_query = bq.Query(ora_D28_15to19_sql)\n",
    "\n",
    "ora_D28_15to19_df = ora_D28_15to19_query.execute(output_options = bq.QueryOutput.dataframe()).result()"
   ]
  },
  {
   "cell_type": "code",
   "execution_count": 13,
   "metadata": {
    "collapsed": false
   },
   "outputs": [
    {
     "name": "stdout",
     "output_type": "stream",
     "text": [
      "                  time  stat_id       sigma_value\n",
      "0  2018-01-28 15:00:01        6          34488097\n",
      "1  2018-01-28 15:00:01        7           3622649\n",
      "2  2018-01-28 15:00:01        8         733360444\n",
      "3  2018-01-28 15:00:01       19         143524470\n",
      "4  2018-01-28 15:00:01       20         405485196\n",
      "5  2018-01-28 15:00:01       22      112017641057\n",
      "6  2018-01-28 15:00:01       26     3004342915596\n",
      "7  2018-01-28 15:00:01       55   598644147984384\n",
      "8  2018-01-28 15:00:01       63    43835569427456\n",
      "9  2018-01-28 15:00:01       84      251585939467\n",
      "10 2018-01-28 15:00:01       93  2635036691709952\n",
      "11 2018-01-28 15:00:01      100      332382354614\n",
      "12 2018-01-28 15:00:01      194    30702416483744\n",
      "13 2018-01-28 15:00:01      231      248303313778\n",
      "14 2018-01-28 15:00:01      623            287506\n",
      "15 2018-01-28 15:00:01      629         730991281\n",
      "16 2018-01-28 15:00:01      679                29\n",
      "17 2018-01-28 15:00:02        6          34488097\n",
      "18 2018-01-28 15:00:02        7           3622649\n",
      "19 2018-01-28 15:00:02        8         733360882\n"
     ]
    }
   ],
   "source": [
    "print(ora_D28_15to19_df.head(20))"
   ]
  },
  {
   "cell_type": "markdown",
   "metadata": {},
   "source": [
    "# Flatten 시키자"
   ]
  },
  {
   "cell_type": "code",
   "execution_count": 14,
   "metadata": {
    "collapsed": false
   },
   "outputs": [
    {
     "name": "stdout",
     "output_type": "stream",
     "text": [
      "[[Timestamp('2018-01-28 15:00:01') 6 34488097]\n",
      " [Timestamp('2018-01-28 15:00:01') 7 3622649]\n",
      " [Timestamp('2018-01-28 15:00:01') 8 733360444]\n",
      " ...\n",
      " [Timestamp('2018-01-28 19:00:00') 623 287598]\n",
      " [Timestamp('2018-01-28 19:00:00') 629 732279238]\n",
      " [Timestamp('2018-01-28 19:00:00') 679 22]]\n",
      "(244800, 3)\n"
     ]
    }
   ],
   "source": [
    "ora_D28_15to19_arr = ora_D28_15to19_df.as_matrix()\n",
    "print(ora_D28_15to19_arr)\n",
    "print(ora_D28_15to19_arr.shape)"
   ]
  },
  {
   "cell_type": "markdown",
   "metadata": {},
   "source": [
    "## 연습..."
   ]
  },
  {
   "cell_type": "code",
   "execution_count": 27,
   "metadata": {
    "collapsed": false
   },
   "outputs": [
    {
     "name": "stdout",
     "output_type": "stream",
     "text": [
      "[array([7.32530449e+08, 2.24866000e+05, 2.90000000e+01])]\n",
      "[array([7.32530449e+08, 2.24866000e+05, 2.90000000e+01])]\n",
      "[[7.32530449e+08 2.24866000e+05 2.90000000e+01]\n",
      " [7.32530449e+08 2.24866000e+05 2.90000000e+01]]\n"
     ]
    }
   ],
   "source": [
    "temp_arr = []\n",
    "result_arr = [[]]\n",
    "\n",
    "temp_arr = [np.append(temp_arr, ora_D28_15to19_arr[0][2])]\n",
    "temp_arr = [np.append(temp_arr, ora_D28_15to19_arr[1][2])]\n",
    "temp_arr = [np.append(temp_arr, ora_D28_15to19_arr[2][2])]\n",
    "\n",
    "print(temp_arr)\n",
    "\n",
    "result_arr = [np.append(result_arr, temp_arr)]\n",
    "\n",
    "print(result_arr)\n",
    "result_arr = np.append(result_arr, temp_arr, axis = 0)\n",
    "print(result_arr)"
   ]
  },
  {
   "cell_type": "code",
   "execution_count": 19,
   "metadata": {
    "collapsed": false
   },
   "outputs": [
    {
     "name": "stdout",
     "output_type": "stream",
     "text": [
      "[7.32530449e+08 2.24866000e+05 2.90000000e+01]\n"
     ]
    }
   ],
   "source": [
    "print(result_arr)"
   ]
  },
  {
   "cell_type": "markdown",
   "metadata": {},
   "source": [
    "# 진짜..!"
   ]
  },
  {
   "cell_type": "code",
   "execution_count": 17,
   "metadata": {
    "collapsed": true
   },
   "outputs": [],
   "source": [
    "result_arr = [[]]\n",
    "\n",
    "for i in range(14400):\n",
    "  temp_arr = []\n",
    "  for j in range(17):\n",
    "    if(j == 0):\n",
    "      temp_arr = [np.append(temp_arr, i)]\n",
    "    temp_arr = [np.append(temp_arr, ora_D28_15to19_arr[17*i+j][2])]\n",
    "    if(j == 16):\n",
    "      if(i == 0):\n",
    "        result_arr = [np.append(result_arr, temp_arr)]\n",
    "      else:\n",
    "        result_arr = np.append(result_arr, temp_arr, axis = 0)\n"
   ]
  },
  {
   "cell_type": "code",
   "execution_count": 18,
   "metadata": {
    "collapsed": false
   },
   "outputs": [
    {
     "name": "stdout",
     "output_type": "stream",
     "text": [
      "[[0.00000000e+00 3.44880970e+07 3.62264900e+06 ... 2.87506000e+05\n",
      "  7.30991281e+08 2.90000000e+01]\n",
      " [1.00000000e+00 3.44880970e+07 3.62264900e+06 ... 2.87508000e+05\n",
      "  7.30991617e+08 2.40000000e+01]\n",
      " [2.00000000e+00 3.44881080e+07 3.62265000e+06 ... 2.87510000e+05\n",
      "  7.30992140e+08 2.30000000e+01]\n",
      " ...\n",
      " [1.43970000e+04 3.45493680e+07 3.63179000e+06 ... 2.87598000e+05\n",
      "  7.32279236e+08 2.20000000e+01]\n",
      " [1.43980000e+04 3.45493680e+07 3.63179100e+06 ... 2.87598000e+05\n",
      "  7.32279237e+08 2.20000000e+01]\n",
      " [1.43990000e+04 3.45493680e+07 3.63179100e+06 ... 2.87598000e+05\n",
      "  7.32279238e+08 2.20000000e+01]]\n",
      "(14400, 18)\n"
     ]
    }
   ],
   "source": [
    "print(result_arr)\n",
    "print(result_arr.shape)"
   ]
  },
  {
   "cell_type": "markdown",
   "metadata": {},
   "source": [
    "# Big Query로 보내자"
   ]
  },
  {
   "cell_type": "code",
   "execution_count": 20,
   "metadata": {
    "collapsed": false
   },
   "outputs": [],
   "source": [
    "output_df = pd.DataFrame(result_arr)\n",
    "\n",
    "output_df.columns = ['index', 'stat_value_6', 'stat_value_7', 'stat_value_8', 'stat_value_19', 'stat_value_20', 'stat_value_22', 'stat_value_26', 'stat_value_55', 'stat_value_63', 'stat_value_84', 'stat_value_93', 'stat_value_100', 'stat_value_194', 'stat_value_231', 'stat_value_623', 'stat_value_629', 'stat_value_679']"
   ]
  },
  {
   "cell_type": "code",
   "execution_count": 21,
   "metadata": {
    "collapsed": false
   },
   "outputs": [
    {
     "name": "stdout",
     "output_type": "stream",
     "text": [
      "\n",
      "\n",
      "\n",
      "Load is 13% Complete\n",
      "Load is 27% Complete\n",
      "Load is 41% Complete\n",
      "Load is 55% Complete\n",
      "Load is 69% Complete\n",
      "Load is 83% Complete\n",
      "Load is 97% Complete\n",
      "Load is 100% Complete\n",
      "\n",
      "\n"
     ]
    }
   ],
   "source": [
    "output_df.to_gbq('z_intern.ora_D18_H_15to19_stat_17s', 'xmdw31', if_exists = 'replace', chunksize = 2000)"
   ]
  },
  {
   "cell_type": "code",
   "execution_count": null,
   "metadata": {
    "collapsed": true
   },
   "outputs": [],
   "source": []
  }
 ],
 "metadata": {
  "kernelspec": {
   "display_name": "Python 2",
   "language": "python",
   "name": "python2"
  },
  "language_info": {
   "codemirror_mode": {
    "name": "ipython",
    "version": 2
   },
   "file_extension": ".py",
   "mimetype": "text/x-python",
   "name": "python",
   "nbconvert_exporter": "python",
   "pygments_lexer": "ipython2",
   "version": "2.7.12"
  }
 },
 "nbformat": 4,
 "nbformat_minor": 2
}
